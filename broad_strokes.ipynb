{
  "nbformat": 4,
  "nbformat_minor": 0,
  "metadata": {
    "colab": {
      "name": "broad_strokes.ipynb",
      "provenance": [],
      "authorship_tag": "ABX9TyMhS1SURVIoUQAgVNu68ngc",
      "include_colab_link": true
    },
    "kernelspec": {
      "name": "python3",
      "display_name": "Python 3"
    },
    "language_info": {
      "name": "python"
    }
  },
  "cells": [
    {
      "cell_type": "markdown",
      "metadata": {
        "id": "view-in-github",
        "colab_type": "text"
      },
      "source": [
        "<a href=\"https://colab.research.google.com/github/sophiascarano/hybrid_quantum_classical_KiUNet/blob/main/broad_strokes.ipynb\" target=\"_parent\"><img src=\"https://colab.research.google.com/assets/colab-badge.svg\" alt=\"Open In Colab\"/></a>"
      ]
    },
    {
      "cell_type": "markdown",
      "metadata": {
        "id": "wF_AWbnwSRMS"
      },
      "source": [
        "# custom loss functions\n"
      ]
    },
    {
      "cell_type": "code",
      "metadata": {
        "id": "5pHQFkrwSRBa"
      },
      "source": [
        "# will want to inherit from Loss\n",
        "from tensorflow.keras.losses import Loss\n",
        "\n",
        "class MyHuberLoss(Loss):\n",
        "  # class variable - allows us to give it an intial value\n",
        "  threshold = 1\n",
        "  # initializes the object from the class\n",
        "  def __init__(self, threshold):\n",
        "    super().__init__()\n",
        "    self.threshold = threshold\n",
        "  # gets executed when an object is instantiated from the class\n",
        "  def call(self, y_true, y_pred):\n",
        "    error = y_true - y_pred\n",
        "    is_small_error = tf.abs(error) <= self.threshold\n",
        "    small_error_loss = tf.square(error) / 2\n",
        "    big_error_loss = self.threshold * (tf.abs(error) - (0.5 * self.threshold))\n",
        "    return tf.where(is_small_error, small_error_loss, big_error_loss)"
      ],
      "execution_count": null,
      "outputs": []
    },
    {
      "cell_type": "code",
      "metadata": {
        "id": "tKqFpDmdTBiP"
      },
      "source": [
        "# when you want to specify the loss function in model.compile:\n",
        "model.compile(optimizer='sgd', loss=MyHuberLoss(threshold=1))"
      ],
      "execution_count": null,
      "outputs": []
    },
    {
      "cell_type": "code",
      "metadata": {
        "id": "ezkLN9kJU9w5"
      },
      "source": [
        "# custom layers \n",
        "\n",
        "# inherit from keras' layer class\n",
        "\n",
        "# I think I just have to set the \"w\" values (the random normal distribution times pi/2)\n",
        "#   to be trainable=True?\n",
        "# So when you inherit from the layer class, and your custom model inherits from the model class,\n",
        "#     And you do model.compile, it autimatically scans and sees what it's allowed to train, and trains it?"
      ],
      "execution_count": null,
      "outputs": []
    },
    {
      "cell_type": "markdown",
      "metadata": {
        "id": "Ac1Rxwbhcjzz"
      },
      "source": [
        "test?"
      ]
    },
    {
      "cell_type": "code",
      "metadata": {
        "id": "-QAQzUa6W969"
      },
      "source": [
        "import tensorflow as tf\n",
        "import numpy as np\n",
        "# inherit from this base class\n",
        "from tensorflow.keras.layers import Layer\n",
        "\n",
        "class SimpleDense(Layer):\n",
        "\n",
        "    def __init__(self, units=32):\n",
        "        '''Initializes the instance attributes'''\n",
        "        super(SimpleDense, self).__init__()\n",
        "        self.units = units\n",
        "\n",
        "    def build(self, input_shape):\n",
        "        '''Create the state of the layer (weights)'''\n",
        "        # initialize the weights\n",
        "        w_init = tf.random_normal_initializer()\n",
        "        self.w = tf.Variable(name=\"kernel\",\n",
        "            initial_value=w_init(shape=(input_shape[-1], self.units),\n",
        "                                 dtype='float32'),\n",
        "            trainable=True)\n",
        "\n",
        "        # initialize the biases\n",
        "        b_init = tf.zeros_initializer()\n",
        "        self.b = tf.Variable(name=\"bias\",\n",
        "            initial_value=b_init(shape=(self.units,), dtype='float32'),\n",
        "            trainable=True)\n",
        "\n",
        "    def call(self, inputs):\n",
        "        '''Defines the computation from inputs to outputs'''\n",
        "        return tf.matmul(inputs, self.w) + self.b"
      ],
      "execution_count": null,
      "outputs": []
    },
    {
      "cell_type": "code",
      "metadata": {
        "colab": {
          "base_uri": "https://localhost:8080/"
        },
        "id": "oq3iVwCAXMPp",
        "outputId": "df6dc386-1c7d-4a77-cc3e-ce91788b2f2d"
      },
      "source": [
        "# now we can use our custom layer:\n",
        "\n",
        "# declare an instance of the class\n",
        "my_dense = SimpleDense(units=1)\n",
        "\n",
        "# define an input and feed into the layer\n",
        "x = tf.ones((1, 1))\n",
        "y = my_dense(x)\n",
        "\n",
        "# parameters of the base Layer class like `variables` can be used\n",
        "print(my_dense.variables)"
      ],
      "execution_count": null,
      "outputs": [
        {
          "output_type": "stream",
          "text": [
            "[<tf.Variable 'simple_dense/kernel:0' shape=(1, 1) dtype=float32, numpy=array([[-0.00564576]], dtype=float32)>, <tf.Variable 'simple_dense/bias:0' shape=(1,) dtype=float32, numpy=array([0.], dtype=float32)>]\n"
          ],
          "name": "stdout"
        }
      ]
    },
    {
      "cell_type": "code",
      "metadata": {
        "colab": {
          "base_uri": "https://localhost:8080/"
        },
        "id": "hmos2QyPXMCE",
        "outputId": "8f37466b-90f0-44b0-ca88-e7db6035ba50"
      },
      "source": [
        "# let's try using it in a simple network:\n",
        "\n",
        "# define the dataset\n",
        "xs = np.array([-1.0,  0.0, 1.0, 2.0, 3.0, 4.0], dtype=float)\n",
        "ys = np.array([-3.0, -1.0, 1.0, 3.0, 5.0, 7.0], dtype=float)\n",
        "\n",
        "\n",
        "# use the Sequential API to build a model with our custom layer\n",
        "my_layer = SimpleDense(units=1)\n",
        "model = tf.keras.Sequential([my_layer])\n",
        "\n",
        "# configure and train the model\n",
        "model.compile(optimizer='sgd', loss='mean_squared_error')\n",
        "model.fit(xs, ys, epochs=500,verbose=0)\n",
        "\n",
        "# perform inference\n",
        "print(model.predict([10.0]))\n",
        "\n",
        "# see the updated state of the variables\n",
        "print(my_layer.variables)"
      ],
      "execution_count": null,
      "outputs": [
        {
          "output_type": "stream",
          "text": [
            "[[18.981653]]\n",
            "[<tf.Variable 'simple_dense_1/kernel:0' shape=(1, 1) dtype=float32, numpy=array([[1.9973408]], dtype=float32)>, <tf.Variable 'simple_dense_1/bias:0' shape=(1,) dtype=float32, numpy=array([-0.9917554], dtype=float32)>]\n"
          ],
          "name": "stdout"
        }
      ]
    },
    {
      "cell_type": "markdown",
      "metadata": {
        "id": "xuuIhaSKa7pV"
      },
      "source": [
        "# residual"
      ]
    },
    {
      "cell_type": "code",
      "metadata": {
        "id": "0V5skQsha9jn"
      },
      "source": [
        "class CNNResidual(Layer):\n",
        "  def __init__(self, layers, filters, **kwargs):\n",
        "    super().__init__(*kwargs)\n",
        "    self.hidden = [Conv2D(filters, (3,3), activation='relu')\n",
        "                    for _ in range(layers)]\n",
        "  def call(self, inputs):\n",
        "    x = inputs\n",
        "    for layer in self.hidden:\n",
        "      x = layer(x) #main path through residual network block\n",
        "    return inputs + x #the input is appended to the results - skip connection analogy"
      ],
      "execution_count": null,
      "outputs": []
    },
    {
      "cell_type": "code",
      "metadata": {
        "id": "CjFRoJ-icsWR"
      },
      "source": [
        "# identity block within residual\n",
        "class IdentityBlock(tf.keras.Model):\n",
        "  def __init__(self, filters, kernel_size):\n",
        "    super(IdentityBlock, self).__init__(name='')\n",
        "\n",
        "    self.conv1 = tf.keras.layers.Conv2D(filters, kernel_size, padding='same')\n",
        "    self.bn1 = tf.keras.layers.BatchNormalization()\n",
        "\n",
        "    self.conv2 = tf.keras.layers.Conv2D(filters, kernel_size, padding='same')\n",
        "    self.bn2 = tf.keras.layers.BatchNormalization()\n",
        "\n",
        "    self.activation = tf.keras.layers.Activation('relu')\n",
        "    self.add = tf.keras.layers.Add()\n",
        "\n",
        "  def call(self, input_tensor):\n",
        "    x = self.conv1(input_tensor)\n",
        "    x = self.bn1(x)\n",
        "    x = self.activation(x)\n",
        "\n",
        "    x = self.conv2(x)\n",
        "    x = self.bn2(x)\n",
        "    x = self.activation(x)\n",
        "\n",
        "    x = self.add([x, input_tensor])\n",
        "    x = self.activation(x)\n",
        "\n",
        "    return x"
      ],
      "execution_count": null,
      "outputs": []
    },
    {
      "cell_type": "code",
      "metadata": {
        "id": "fGlPy6Gudt12"
      },
      "source": [
        "# full (mini) resnet:\n",
        "\n",
        "class ResNetMini(tf.keras.Model):\n",
        "  def __init__(self, num_classes):\n",
        "    super(ResNetMini, self).__init__()\n",
        "    self.conv = tf.keras.Conv2D(64, 7, padding='same')\n",
        "    self.bn = tf.keras.layers.BatchNormalization()\n",
        "    self.activation = tf.keras.layers.Activation('relu')\n",
        "    self.max_pool = tf.keras.layers.MaxPool2D((3,3))\n",
        "    self.identity1a = IdentityBlock(64, 3)\n",
        "    self.identity1b = IdentityBlock(64, 3)\n",
        "    self.global_pool = tf.keras.layers.GlobalAveragePooling2D()\n",
        "    self.classifier = tf.keras.layers.Dense(num_classes, activation='softmax')\n",
        "\n",
        "  def call(self, inputs):\n",
        "    x = self.conv(inputs)\n",
        "    x = self.bn(x)\n",
        "    x = self.activation(x)\n",
        "    x = self.max_pool(x)\n",
        "\n",
        "    x = self.identity1a(x)\n",
        "    x = self.identity1b(x)\n",
        "\n",
        "    x = self.global_pool(x)\n",
        "    x = self.classifier(x)\n",
        "\n",
        "    return x"
      ],
      "execution_count": null,
      "outputs": []
    },
    {
      "cell_type": "code",
      "metadata": {
        "id": "JYI9uModLTLz"
      },
      "source": [
        ""
      ],
      "execution_count": null,
      "outputs": []
    },
    {
      "cell_type": "code",
      "metadata": {
        "id": "_CJChq4heugL"
      },
      "source": [
        "# now actually run it I guess?\n",
        "\n",
        "resnet_mini = ResNetMini(10)\n",
        "resnet_mini.compile(optimizer='adam', loss='sparse_categorical_crossentropy',\n",
        "                    metrics=['accuracy'])\n",
        "dataset = tfds.load('mnist', split=tfds.Split.TRAIN)\n",
        "dataset = dataset.map(preprocess).batch(32)\n",
        "resnet_mini.fit(dataset, epochs=1)"
      ],
      "execution_count": null,
      "outputs": []
    },
    {
      "cell_type": "markdown",
      "metadata": {
        "id": "SySyWXaDcGE9"
      },
      "source": [
        "# overall"
      ]
    },
    {
      "cell_type": "code",
      "metadata": {
        "id": "w3DJR4fecCAj"
      },
      "source": [
        "# CLASSICAL NETWORK\n",
        "# Regular conv block with relu activation\n",
        "\n",
        "# U-Net encoder block\n",
        "# U-Net decoder block\n",
        "# U-Net encoder\n",
        "# U-Net decoder\n",
        "# U-Net bottleneck (unlikely necessary for CRFB, but still use here)\n",
        "\n",
        "# Ki-Net encoder block\n",
        "# Ki-Net decoder block\n",
        "# Ki-Net encoder\n",
        "# Ki-Net decoder\n",
        "\n",
        "# 1x1 Conv block connecting outputs of both networks\n",
        "\n",
        "\n",
        "# HYBRID QUANTUM NETWORK\n",
        "# Qiskit conv block\n",
        "\n",
        "# (Q) U-Net encoder block\n",
        "# (Q) U-Net decoder block\n",
        "# (Q) U-Net encoder\n",
        "# (Q) U-Net decoder\n",
        "# (Q) U-Net bottleneck (unlikely necessary for CRFB, but still use here)\n",
        "\n",
        "# (Q) Ki-Net encoder block\n",
        "# (Q) Ki-Net decoder block\n",
        "# (Q) Ki-Net encoder\n",
        "# (Q) Ki-Net decoder\n",
        "\n",
        "\n",
        "# CRFB IMPLEMENTATION - (IF TIME)\n",
        "# CRFB block\n",
        "# Appropriat eoutput implementation into structures above"
      ],
      "execution_count": null,
      "outputs": []
    },
    {
      "cell_type": "markdown",
      "metadata": {
        "id": "nVAWzZ6WF-OQ"
      },
      "source": [
        "# towards quantum"
      ]
    },
    {
      "cell_type": "code",
      "metadata": {
        "id": "ZUtU8E1oTvJL"
      },
      "source": [
        "import tensorflow as tf\n",
        "import numpy as np\n",
        "# inherit from this base class\n",
        "from tensorflow.keras.layers import Layer\n",
        "\n",
        "import matplotlib.pyplot as plt\n"
      ],
      "execution_count": null,
      "outputs": []
    },
    {
      "cell_type": "code",
      "metadata": {
        "colab": {
          "base_uri": "https://localhost:8080/"
        },
        "id": "hbjhttEDW0gu",
        "outputId": "c38ab484-18c1-4009-814d-04f064e095d7"
      },
      "source": [
        "myarr = np.ones((3,3)) * 2\n",
        "w_init = tf.random_normal_initializer()\n",
        "w = tf.Variable(name=\"kernel\",\n",
        "                      initial_value=w_init(shape=(3,3),\n",
        "                                          dtype='float32'),\n",
        "                      trainable=True)\n",
        "\n",
        "tf_arr = tf.cast(myarr, tf.float32)\n",
        "dot_ab = tf.matmul(tf_arr, w)\n",
        "print(type(w))\n",
        "print(type(myarr))\n",
        "print(tf_arr)\n",
        "print(w)\n",
        "print(tf_arr * w)\n",
        "dot_ab"
      ],
      "execution_count": null,
      "outputs": [
        {
          "output_type": "stream",
          "text": [
            "<class 'tensorflow.python.ops.resource_variable_ops.ResourceVariable'>\n",
            "<class 'numpy.ndarray'>\n",
            "tf.Tensor(\n",
            "[[2. 2. 2.]\n",
            " [2. 2. 2.]\n",
            " [2. 2. 2.]], shape=(3, 3), dtype=float32)\n",
            "<tf.Variable 'kernel:0' shape=(3, 3) dtype=float32, numpy=\n",
            "array([[ 0.04291903,  0.04835445,  0.00866976],\n",
            "       [-0.07053826,  0.06046928, -0.03562165],\n",
            "       [-0.06709777, -0.01752293,  0.04469826]], dtype=float32)>\n",
            "tf.Tensor(\n",
            "[[ 0.08583806  0.0967089   0.01733953]\n",
            " [-0.14107652  0.12093856 -0.07124331]\n",
            " [-0.13419554 -0.03504586  0.08939651]], shape=(3, 3), dtype=float32)\n"
          ],
          "name": "stdout"
        },
        {
          "output_type": "execute_result",
          "data": {
            "text/plain": [
              "<tf.Tensor: shape=(3, 3), dtype=float32, numpy=\n",
              "array([[-0.18943399,  0.1826016 ,  0.03549273],\n",
              "       [-0.18943399,  0.1826016 ,  0.03549273],\n",
              "       [-0.18943399,  0.1826016 ,  0.03549273]], dtype=float32)>"
            ]
          },
          "metadata": {
            "tags": []
          },
          "execution_count": 36
        }
      ]
    },
    {
      "cell_type": "code",
      "metadata": {
        "colab": {
          "base_uri": "https://localhost:8080/",
          "height": 282
        },
        "id": "e3YL8ZJBeLY9",
        "outputId": "1d4c585e-41a1-44ac-f373-39cc2a425781"
      },
      "source": [
        "# but the dot product isn't even what I'm doing\n",
        "# the weights are what's used in the Ry calculations\n",
        "# the expectation values for each pixel after the PQC are added up\n",
        "# how to get that value in correct location on image?\n",
        "ex_image = np.array([[0, 1, 2, 3, 4, 5,\n",
        "                      1, 2, 3, 4, 5, 0,\n",
        "                      2, 3, 4, 5, 0, 1,\n",
        "                      3, 4, 5, 0, 1, 2,\n",
        "                      4, 5, 0, 1, 2, 3,\n",
        "                      5, 0, 1, 2, 3, 4]]) + 1\n",
        "example_image = np.reshape(ex_image, (6, 6))\n",
        "plt.imshow(example_image)\n",
        "plt.show()\n",
        "\n",
        "type(example_image)\n",
        "\n",
        "example_image[1][2]"
      ],
      "execution_count": null,
      "outputs": [
        {
          "output_type": "display_data",
          "data": {
            "image/png": "[encoded data removed]",
            "text/plain": [
              "<Figure size 432x288 with 1 Axes>"
            ]
          },
          "metadata": {
            "tags": [],
            "needs_background": "light"
          }
        },
        {
          "output_type": "execute_result",
          "data": {
            "text/plain": [
              "4"
            ]
          },
          "metadata": {
            "tags": []
          },
          "execution_count": 3
        }
      ]
    },
    {
      "cell_type": "code",
      "metadata": {
        "id": "cWWqv980uX0N"
      },
      "source": [
        "def conv_operation_test(this_block, weights_list):\n",
        "  '''\n",
        "  This function takes a list of the pixel values of the block we are currently\n",
        "    working with from the image\n",
        "\n",
        "  Args:\n",
        "  this_block: list\n",
        "  ex. 3x3 section from image is \"a\":\n",
        "  a = [ 1   2   3\n",
        "        2   3   4\n",
        "        3   4   5]\n",
        "  this_block = [1, 2, 3, 2, 3, 4, 3, 4, 5]\n",
        "\n",
        "  weights_list: the flattened 3x3 array of weights as a list\n",
        "  '''\n",
        "  block_array = np.array(this_block)\n",
        "  weights_array = np.array(weights_list)\n",
        "  \n",
        "  operation = block_array * weights_array\n",
        "\n",
        "  return operation"
      ],
      "execution_count": null,
      "outputs": []
    },
    {
      "cell_type": "code",
      "metadata": {
        "id": "MathOvoZ1Nhz"
      },
      "source": [
        "def feature_map_dims(img_width, img_height, filter_dims=(3, 3), padding=1, stride=1):\n",
        "  '''\n",
        "  This function calculates the output dimensions of the feature map based on\n",
        "    well-known equation.\n",
        "  '''\n",
        "  # do 2*padding because this is assuming padding is equal on ALL sides of img\n",
        "  feature_map_width = (img_width - filter_dims[0] + (2*padding) + 1) / stride\n",
        "  feature_map_height = (img_height - filter_dims[1] + (2*padding) + 1) / stride\n",
        "  return (int(feature_map_width), int(feature_map_height))"
      ],
      "execution_count": null,
      "outputs": []
    },
    {
      "cell_type": "code",
      "metadata": {
        "id": "qYj3bZsCxSkT"
      },
      "source": [
        "def get_single_feature_map(input_img, weights_list, filter_size=3, padding=1, stride=1):\n",
        "  '''\n",
        "  This is a function that takes an image and performs a convolution operation\n",
        "\n",
        "  Args: \n",
        "  input_img - the input image (numpy array)\n",
        "  weights_list - the values of the weights (mxn length list)\n",
        "  filter_size - the size=m=n dimensions of the square filter/kernel (int)\n",
        "  padding - the number of padding layers that will be equally applied to all sides of the image (int)\n",
        "  stride - the stride of the kernel window\n",
        "\n",
        "  Returns: the feature map\n",
        "  '''\n",
        "  # apply padding to image\n",
        "  img = np.pad(input_img, ((padding,padding), (padding,padding)), 'constant', constant_values=((0,0), (0,0)))\n",
        "  weights = weights_list\n",
        "  w = img.shape[0] # width of padded image\n",
        "  h = img.shape[1] # height\n",
        "  \n",
        "  fm_width = feature_map_dims(input_img.shape[0], input_img.shape[1])[0]\n",
        "  fm_height = feature_map_dims(input_img.shape[0], input_img.shape[1])[1]\n",
        "\n",
        "  # this is the part that scans the filter/kernel/window over the image\n",
        "  # at each scan, it performs the convolution for that window\n",
        "  # and appends the sum of the resulting matrix to the feature map list\n",
        "  feature_map_list = []\n",
        "  for i in range(0, fm_width):\n",
        "    for j in range(0, fm_height):\n",
        "      this_block = []\n",
        "      for m in range(i, i+filter_size):\n",
        "        for n in range(j, j+filter_size):\n",
        "          this_block.append(img[m][n])\n",
        "      # do the convolution\n",
        "      conv_output = conv_operation_test(this_block, weights)\n",
        "      # sum all the values in the array\n",
        "      feature_map_list.append(np.sum(conv_output))\n",
        "  \n",
        "  # once you have the feature map in a list, turn it into an array\n",
        "  # and reshape it for visualization purposes\n",
        "  feature_map_array = np.array(feature_map_list)\n",
        "  feature_map = np.reshape(feature_map_array, (fm_width, fm_height))\n",
        "  return feature_map\n"
      ],
      "execution_count": null,
      "outputs": []
    },
    {
      "cell_type": "code",
      "metadata": {
        "colab": {
          "base_uri": "https://localhost:8080/",
          "height": 282
        },
        "id": "blUUvv8lyPpa",
        "outputId": "75599c44-d694-41e7-e21d-c265d754d713"
      },
      "source": [
        "weights = [1, 2, 3, 2, 3, 1, 3 ,1, 2]\n",
        "img1 = get_single_feature_map(example_image, weights)\n",
        "plt.imshow(img1)\n",
        "img1.shape[0]"
      ],
      "execution_count": null,
      "outputs": [
        {
          "output_type": "execute_result",
          "data": {
            "text/plain": [
              "6"
            ]
          },
          "metadata": {
            "tags": []
          },
          "execution_count": 7
        },
        {
          "output_type": "display_data",
          "data": {
            "image/png": "[encoded data removed]",
            "text/plain": [
              "<Figure size 432x288 with 1 Axes>"
            ]
          },
          "metadata": {
            "tags": [],
            "needs_background": "light"
          }
        }
      ]
    },
    {
      "cell_type": "code",
      "metadata": {
        "id": "A48nC3cMmQLn"
      },
      "source": [
        ""
      ],
      "execution_count": null,
      "outputs": []
    },
    {
      "cell_type": "code",
      "metadata": {
        "id": "VlzjZvJACo1u"
      },
      "source": [
        "# implement depth\n",
        "def get_one_conv_output(img_list, input_channel_weights_list, input_depth, desired_operation='addition'):\n",
        "  '''\n",
        "  This function takes a list of input images and a list of each image's \n",
        "    corresponding weights list (the weights that make up the feature map)\n",
        "  \n",
        "  Args:\n",
        "  img_list (list of np.array objects): images in their np.array form\n",
        "  input_channel_weights_list (list): nested lists of the values of the weights \n",
        "          corresponding to that index's image in img_list [[1, ..., 9], [1, ...,9], ... x num_input_channels]\n",
        "  input_depth (int): makes sure that there are a correct number of images and weight lists\n",
        "  desired_operation (str): either 'addition' or 'average' to indicate which pixelwise operation for the feature maps\n",
        "  '''\n",
        "  if input_depth != len(img_list):\n",
        "    print(\"image list length not equal to input depth\")\n",
        "  elif input_depth != len(input_channel_weights_list):\n",
        "    print(\"input_channel_weights_list length not equal to input depth\")\n",
        "  else:\n",
        "    # list of all the feature map arrays corresponding to the operation for that associated image and filter\n",
        "    all_feature_maps = [] \n",
        "    for i in range(input_depth):\n",
        "      # get each feature map given that image input and its associated weights\n",
        "      this_feature_map = get_single_feature_map(input_img = img_list[i], \n",
        "                                                weights_list = input_channel_weights_list[i]\n",
        "                                                )\n",
        "      all_feature_maps.append(this_feature_map)\n",
        "    \n",
        "    # once you have all the feature maps, can either take the pixelwise average or addition of all the maps\n",
        "    final_output = sum(all_feature_maps)\n",
        "    if desired_operation == 'addition':\n",
        "      return final_output #for additon\n",
        "    else:\n",
        "      return final_output / input_depth #should be an elementwise division of pixel value / num_channels (aka input depth)\n",
        "    # elif desired_operation == 'average':\n",
        "    #   return final_output / depth #for average\n",
        "    # else print('unrecognized desired_operation')"
      ],
      "execution_count": null,
      "outputs": []
    },
    {
      "cell_type": "code",
      "metadata": {
        "colab": {
          "base_uri": "https://localhost:8080/",
          "height": 282
        },
        "id": "ak2dfKnako8y",
        "outputId": "08a28e53-6efd-4cf5-fa49-d7ce659f2ce6"
      },
      "source": [
        "my_img_list = []\n",
        "for i in range(2):\n",
        "  my_img_list.append(example_image)\n",
        "my_weights_list1 = [weights, [3, 2, 1, 2, 1, 3, 1, 3, 2]]\n",
        "my_weights_list2 = [weights, [3, 1, 2, 2, 3, 1, 1, 2, 3]]\n",
        "my_weights_list3 = [weights, weights]\n",
        "kl1 = get_one_conv_output(img_list=my_img_list, list_of_weights_list=my_weights_list1, input_depth=2)\n",
        "kl2 = get_one_conv_output(img_list=my_img_list, list_of_weights_list=my_weights_list2, input_depth=2)\n",
        "#plt.imshow(kl[0])\n",
        "#type(kl[0])\n",
        "plt.imshow(kl2)"
      ],
      "execution_count": null,
      "outputs": [
        {
          "output_type": "execute_result",
          "data": {
            "text/plain": [
              "<matplotlib.image.AxesImage at 0x7f5d67a29b10>"
            ]
          },
          "metadata": {
            "tags": []
          },
          "execution_count": 71
        },
        {
          "output_type": "display_data",
          "data": {
            "image/png": "[encoded data removed]",
            "text/plain": [
              "<Figure size 432x288 with 1 Axes>"
            ]
          },
          "metadata": {
            "tags": [],
            "needs_background": "light"
          }
        }
      ]
    },
    {
      "cell_type": "code",
      "metadata": {
        "colab": {
          "base_uri": "https://localhost:8080/",
          "height": 282
        },
        "id": "ez9Z18I3msRX",
        "outputId": "dabb8f77-a035-4ac2-f62e-67d082ef4d62"
      },
      "source": [
        "plt.imshow(kl1)"
      ],
      "execution_count": null,
      "outputs": [
        {
          "output_type": "execute_result",
          "data": {
            "text/plain": [
              "<matplotlib.image.AxesImage at 0x7f5d67991310>"
            ]
          },
          "metadata": {
            "tags": []
          },
          "execution_count": 72
        },
        {
          "output_type": "display_data",
          "data": {
            "image/png": "[encoded data removed]",
            "text/plain": [
              "<Figure size 432x288 with 1 Axes>"
            ]
          },
          "metadata": {
            "tags": [],
            "needs_background": "light"
          }
        }
      ]
    },
    {
      "cell_type": "code",
      "metadata": {
        "id": "7YvnPMCcgAX_"
      },
      "source": [
        "def custom_batchnorm(input_imgs, current_layer, all_batchnorm_params):\n",
        "  '''\n",
        "  This is a function that, given a batch of input images, rescales each pixel to\n",
        "    be between 0-1 based on the min and max values across the entire batch of \n",
        "    input images\n",
        "    Nope, it's actually according to the equation found at link below.\n",
        "  NOTE: this would go after ReLU, but since nonlinearity is baked in to quantum \n",
        "    convolution, there is no activation function necessary\n",
        "  \n",
        "  Args:\n",
        "  input_imgs (list): this is a list of np.arrays representing each image\n",
        "  current_layer (int): helps with keeping track of which params to train\n",
        "  all_batchnorm_params (list): list of tuples, with the index of the tuple \n",
        "    corresponding to the current layer. So for layer 1, you would access the first \n",
        "    tuple in the list: [(scale_param_1, shift_param_1), ...]\n",
        "  '''\n",
        "  #couldn't find an easier way to do this min/max part. come back\n",
        "  # make a list of all max values for each array, then find max of that list\n",
        "  max_pixel = max([img_array.max() for img_array in input_imgs])\n",
        "  # and same for min\n",
        "  min_pixel = min([img_array.min() for img_array in input_imgs])\n",
        "\n",
        "  # equation\n",
        "  # concat all arrays to find mean (could find max and min from this too)\n",
        "  all_arrays = np.concatenate(input_imgs)\n",
        "  mean = np.mean(all_arrays)\n",
        "  stdev = np.std(all_arrays)\n",
        "  scale = all_batchnorm_params[current_layer][0]\n",
        "  shift = all_batchnorm_params[current_layer][1]\n",
        "\n",
        "  #based on equation from link: https://d2l.ai/chapter_convolutional-modern/batch-norm.html\n",
        "  new_array_list = [scale * ((arr - mean) / stdev) + shift for arr in input_imgs]\n",
        "\n",
        "  return new_array_list\n",
        "  "
      ],
      "execution_count": null,
      "outputs": []
    },
    {
      "cell_type": "code",
      "metadata": {
        "colab": {
          "base_uri": "https://localhost:8080/",
          "height": 282
        },
        "id": "5ytZm-lXmAjy",
        "outputId": "3349d8cb-0af7-4ead-eef8-61e30392b54d"
      },
      "source": [
        "my_img_list = [kl1, kl2]\n",
        "all_batchnorms = [[1, 1], [1, 1]]\n",
        "new_arr_lis = custom_batchnorm(my_img_list, 0, all_batchnorms)\n",
        "plt.imshow(new_arr_lis[1])"
      ],
      "execution_count": null,
      "outputs": [
        {
          "output_type": "execute_result",
          "data": {
            "text/plain": [
              "<matplotlib.image.AxesImage at 0x7f5d6781a6d0>"
            ]
          },
          "metadata": {
            "tags": []
          },
          "execution_count": 95
        },
        {
          "output_type": "display_data",
          "data": {
            "image/png": "[encoded data removed]",
            "text/plain": [
              "<Figure size 432x288 with 1 Axes>"
            ]
          },
          "metadata": {
            "tags": [],
            "needs_background": "light"
          }
        }
      ]
    },
    {
      "cell_type": "code",
      "metadata": {
        "id": "V9JKKhJntVAA"
      },
      "source": [
        "def one_conv_layer_no_batchnorm(input_images, this_layer_weights_list, num_output_channels, num_input_channels):\n",
        "  '''\n",
        "  This is a function that takes all the input images, gets the conv output for each set of images\n",
        "    based on the assiciated weights for that image in that iteration, and does this\n",
        "    for a number of times and a number of different sets of weights equal to the num_output_channels\n",
        "\n",
        "  Args:\n",
        "  input_images (list): list of np.arrays that represent each image\n",
        "  this_layer_weights_list (list): list of all the input_channel_weights_lists\n",
        "    for each of the input channels in that layer\n",
        "    has length = number of output channels\n",
        "    but length of each nested list = number of input channels\n",
        "  num_output_channels (int): the number of input channels.\n",
        "    should be equivalent to the length of the list this_layer_weights_list\n",
        "  num_input_channels (int): the number of input channels.\n",
        "    should be equivalent to the length of each list nested inside this_layer_weights_list\n",
        "    should also be equivalent to the number of input images??\n",
        "  '''\n",
        "  #make sure the length of each list inside this_layer_weights_list is correct\n",
        "  lengths_of_nested_lists = [len(this_layer_weights_list[i]) for i in range(len(this_layer_weights_list))]\n",
        "  if len(this_layer_weights_list) != num_output_channels:\n",
        "    print(\"make sure the length of your weights list for this layer is the same as the number of output channels\")\n",
        "  elif max(lengths_of_nested_lists) != min(lengths_of_nested_lists) != num_input_channels:\n",
        "    print('make sure the length of each of the nested weights lists is the same as the number of input channels')\n",
        "  else:\n",
        "    all_convolved_outputs = []\n",
        "    for i in range(num_output_channels):\n",
        "      input_weights_this_iteration = this_layer_weights_list[i]\n",
        "      this_iteration_output = get_one_conv_output(img_list=input_images, \n",
        "                                                  input_channel_weights_list=input_weights_this_iteration, \n",
        "                                                  input_depth=num_input_channels, #COME BACK this will maybe be a hard-coded param? nah it's fine/\n",
        "                                                  desired_operation='addition')\n",
        "      all_convolved_outputs.append(this_iteration_output)\n",
        "    # these are not batch-normed yet so that will hav to be a separate step\n",
        "    return all_convolved_outputs\n",
        "\n",
        "   #get_one_conv_output(img_list, input_channel_weights_list, input_depth, desired_operation='addition')\n",
        "                                                            "
      ],
      "execution_count": null,
      "outputs": []
    },
    {
      "cell_type": "code",
      "metadata": {
        "id": "_GGnEw1135P8"
      },
      "source": [
        "def one_conv_layer_with_batchnorm(input_images, \n",
        "                                  this_layer_weights_list, \n",
        "                                  num_output_channels,\n",
        "                                  num_input_channels,\n",
        "                                  current_layer,\n",
        "                                  all_batchnorm_params):\n",
        "  \n",
        "\n",
        "\n",
        "custom_batchnorm(input_imgs, current_layer, all_batchnorm_params)"
      ],
      "execution_count": null,
      "outputs": []
    },
    {
      "cell_type": "code",
      "metadata": {
        "id": "94QTv3s62EZ2"
      },
      "source": [
        "my_weights_list1 = [weights, [3, 2, 1, 2, 1, 3, 1, 3, 2]]\n",
        "my_weights_list2 = [weights, [3, 1, 2, 2, 3, 1, 1, 2, 3]]\n",
        "my_weights_list3 = [weights, weights]\n",
        "\n",
        "my_img_list = [kl1, kl2]\n",
        "this_weights_list = [my_weights_list1, my_weights_list2, my_weights_list3] #3 outputs I guess\n",
        "\n",
        "test_lis = one_conv_layer_no_batchnorm(input_images=my_img_list, \n",
        "                            this_layer_weights_list=this_weights_list, \n",
        "                            num_output_channels=3, \n",
        "                            num_input_channels=2)"
      ],
      "execution_count": null,
      "outputs": []
    },
    {
      "cell_type": "code",
      "metadata": {
        "colab": {
          "base_uri": "https://localhost:8080/",
          "height": 282
        },
        "id": "L36bLHzC1-vK",
        "outputId": "66968223-0fbf-42da-a0b3-9b0724674ea6"
      },
      "source": [
        "my_img_list = [kl1, kl2]\n",
        "all_batchnorms = [[1, 1], [1, 1]]\n",
        "new_arr_lis = custom_batchnorm(test_lis, 0, all_batchnorms)\n",
        "plt.imshow(new_arr_lis[1])"
      ],
      "execution_count": null,
      "outputs": [
        {
          "output_type": "execute_result",
          "data": {
            "text/plain": [
              "<matplotlib.image.AxesImage at 0x7f5d677a4790>"
            ]
          },
          "metadata": {
            "tags": []
          },
          "execution_count": 113
        },
        {
          "output_type": "display_data",
          "data": {
            "image/png": "[encoded data removed]",
            "text/plain": [
              "<Figure size 432x288 with 1 Axes>"
            ]
          },
          "metadata": {
            "tags": [],
            "needs_background": "light"
          }
        }
      ]
    },
    {
      "cell_type": "code",
      "metadata": {
        "id": "IE4hYfu3GF2i"
      },
      "source": [
        "my_weights_list = []\n",
        "for i in range(2):\n",
        "  my_weights_list.append(weights)\n",
        "\n",
        "my_img_list = []\n",
        "for i in range(2):\n",
        "  my_img_list.append(example_image)"
      ],
      "execution_count": null,
      "outputs": []
    },
    {
      "cell_type": "code",
      "metadata": {
        "colab": {
          "base_uri": "https://localhost:8080/",
          "height": 282
        },
        "id": "dIBF4uLrHVZs",
        "outputId": "7aa6d569-b18b-49c2-a396-2abec854b7fd"
      },
      "source": [
        "plt.imshow(example_image)"
      ],
      "execution_count": null,
      "outputs": [
        {
          "output_type": "execute_result",
          "data": {
            "text/plain": [
              "<matplotlib.image.AxesImage at 0x7f5d68a34950>"
            ]
          },
          "metadata": {
            "tags": []
          },
          "execution_count": 44
        },
        {
          "output_type": "display_data",
          "data": {
            "image/png": "[encoded data removed]",
            "text/plain": [
              "<Figure size 432x288 with 1 Axes>"
            ]
          },
          "metadata": {
            "tags": [],
            "needs_background": "light"
          }
        }
      ]
    },
    {
      "cell_type": "code",
      "metadata": {
        "colab": {
          "base_uri": "https://localhost:8080/",
          "height": 286
        },
        "id": "eMnQRLjdcsaI",
        "outputId": "88bb165a-a802-454d-c209-805038f615da"
      },
      "source": [
        "weights_arr = np.array(weights)\n",
        "weights_arr = np.reshape(weights_arr, (3,3))\n",
        "plt.imshow(weights_arr)"
      ],
      "execution_count": null,
      "outputs": [
        {
          "output_type": "execute_result",
          "data": {
            "text/plain": [
              "<matplotlib.image.AxesImage at 0x7f5d67d53310>"
            ]
          },
          "metadata": {
            "tags": []
          },
          "execution_count": 48
        },
        {
          "output_type": "display_data",
          "data": {
            "image/png": "[encoded data removed]",
            "text/plain": [
              "<Figure size 432x288 with 1 Axes>"
            ]
          },
          "metadata": {
            "tags": [],
            "needs_background": "light"
          }
        }
      ]
    },
    {
      "cell_type": "code",
      "metadata": {
        "colab": {
          "base_uri": "https://localhost:8080/",
          "height": 286
        },
        "id": "7IclAyP0c94R",
        "outputId": "4a2a0962-65f9-442b-a44c-dc9d9914c15b"
      },
      "source": [
        "weights_arr = np.array([3, 1, 2, 2, 3, 1, 1, 2, 3])\n",
        "weights_arr = np.reshape(weights_arr, (3,3))\n",
        "plt.imshow(weights_arr)"
      ],
      "execution_count": null,
      "outputs": [
        {
          "output_type": "execute_result",
          "data": {
            "text/plain": [
              "<matplotlib.image.AxesImage at 0x7f5d67c6d050>"
            ]
          },
          "metadata": {
            "tags": []
          },
          "execution_count": 50
        },
        {
          "output_type": "display_data",
          "data": {
            "image/png": "[encoded data removed]",
            "text/plain": [
              "<Figure size 432x288 with 1 Axes>"
            ]
          },
          "metadata": {
            "tags": [],
            "needs_background": "light"
          }
        }
      ]
    },
    {
      "cell_type": "code",
      "metadata": {
        "colab": {
          "base_uri": "https://localhost:8080/",
          "height": 282
        },
        "id": "qivJjj2JGbCc",
        "outputId": "a52348c4-21c0-4268-d8a1-d9f9e83415a4"
      },
      "source": [
        "my_img_list = []\n",
        "for i in range(2):\n",
        "  my_img_list.append(example_image)\n",
        "#my_weights_list = [weights, [3, 2, 1, 2, 1, 3, 1, 3, 2]]\n",
        "#my_weights_list = [weights, [3, 1, 2, 2, 3, 1, 1, 2, 3]]\n",
        "my_weights_list = [weights, weights]\n",
        "kl = get_one_conv_output(img_list=my_img_list, list_of_weights_list=my_weights_list, input_depth=2)\n",
        "#plt.imshow(kl[0])\n",
        "#type(kl[0])\n",
        "plt.imshow(kl)"
      ],
      "execution_count": null,
      "outputs": [
        {
          "output_type": "execute_result",
          "data": {
            "text/plain": [
              "<matplotlib.image.AxesImage at 0x7f5d67bb7350>"
            ]
          },
          "metadata": {
            "tags": []
          },
          "execution_count": 52
        },
        {
          "output_type": "display_data",
          "data": {
            "image/png": "[encoded data removed]",
            "text/plain": [
              "<Figure size 432x288 with 1 Axes>"
            ]
          },
          "metadata": {
            "tags": [],
            "needs_background": "light"
          }
        }
      ]
    },
    {
      "cell_type": "code",
      "metadata": {
        "id": "SveF1VYyPlPz"
      },
      "source": [
        "num_conv_layers = 4\n",
        "for layer in num_conv_layers:\n",
        "  "
      ],
      "execution_count": null,
      "outputs": []
    },
    {
      "cell_type": "code",
      "metadata": {
        "id": "aTHdhQxiHmmX"
      },
      "source": [
        "# now for multiple outputs\n",
        "#Layer 1, Output channel 1, Input channel 1\n",
        "l1o1i1 = weights\n",
        "l1o1i2 = weights\n",
        "l1o1i3 = weights\n",
        "\n",
        "l1o2i1 = weights\n",
        "final_weights_list = [[[[3, 2, 1, 2, 1, 3, 1, 3, 2], [3, 2, 1, 2, 1, 3, 1, 3, 2]]]]"
      ],
      "execution_count": null,
      "outputs": []
    },
    {
      "cell_type": "code",
      "metadata": {
        "colab": {
          "base_uri": "https://localhost:8080/"
        },
        "id": "cJLNs0prNz4E",
        "outputId": "aeb09e03-6054-4572-ee7b-966c0f80901c"
      },
      "source": [
        "number_of_weight_lists = (2*32 + 2*32*64 + 2*64*128 + 128*128)\n",
        "number_of_weight_lists"
      ],
      "execution_count": null,
      "outputs": [
        {
          "output_type": "execute_result",
          "data": {
            "text/plain": [
              "36928"
            ]
          },
          "metadata": {
            "tags": []
          },
          "execution_count": 54
        }
      ]
    },
    {
      "cell_type": "code",
      "metadata": {
        "colab": {
          "base_uri": "https://localhost:8080/"
        },
        "id": "xrnObTLqNzhe",
        "outputId": "3a97b322-ccdf-4b8b-82f2-6604adce576c"
      },
      "source": [
        "total_num_weights = 9*number_of_weight_lists\n",
        "total_num_weights"
      ],
      "execution_count": null,
      "outputs": [
        {
          "output_type": "execute_result",
          "data": {
            "text/plain": [
              "332352"
            ]
          },
          "metadata": {
            "tags": []
          },
          "execution_count": 56
        }
      ]
    },
    {
      "cell_type": "code",
      "metadata": {
        "id": "AOhquzECfGv3"
      },
      "source": [
        ""
      ],
      "execution_count": null,
      "outputs": []
    },
    {
      "cell_type": "markdown",
      "metadata": {
        "id": "9SpBMFIiAKb9"
      },
      "source": [
        "To do:\n",
        "\n",
        "For this custom, from scratch cnn that doesn't use tensorflow or torch\n",
        "- figure out how to get MULTIPLE feature maps, all with a different set of weights that I want the model to learn\n",
        "  - The function above is just to generate a single feature map given a list of weights (and the image) as the input\n",
        "  - FIGURE OUT HOW TO IMPLEMENT DEPTH!!!\n",
        "  - If you have 6 filters of depth 1 (grayscale image) in the first layer, in the second layer you need each of the filters (say, 16) to have a DEPTH of 6 instead of 1.\n",
        "- Also, for batch norm: need a function to manually code the normalization of each individual feature map (to be on a 0-1 scale, based on max and min pixels in the feature map)\n",
        "  - These are the feature maps that will be implemented into the next layer\n",
        "  - All need to be between 0-1 because of the quantum stuff.\n",
        "  - This shouldn't be too hard\n",
        "- Also need to implement a max pooling function somewhere in there. Hopefully Keras can handle that.\n",
        "- And an updampling function. I think keras can do that too\n",
        "\n",
        "Depth problem: https://cs231n.github.io/convolutional-networks/\n",
        "- To get around the problem of depth dramatically increasing the number of neurons (weights) required, use **parameter sharing scheme**:\n",
        "  - May not have to do this if not too many weights\n",
        "- visualization of filters, weights, etc: https://poloclub.github.io/cnn-explainer/\n",
        "\n",
        "TO DO:\n",
        "- Hard-code structure, and use a function for the filter convolution operation\n",
        "- maybe employ some visualization scheme for this\n",
        "\n",
        "WILL NOT WORK:\n",
        "- Then, make a master tester function imitating LeNet-5 except use padding to conserve size (will need for skip connections in U-Net later):\n",
        "  - start with grayscale 32x32x1\n",
        "  - CONV1 with 6 filters (depth 1) 32x32x6\n",
        "  - Max pool f=2, s=2 16x16x6\n",
        "  - CONV2 with 16 filters (depth 6) 16x16x16\n",
        "  - Max pool f=2, s=2 8x8x16\n",
        "  - fully connect\n",
        "\n",
        "WHAT I ACTUALLY NEED TO DO: small-scale segmentation. lol. not really a thing\n",
        "- Start small:\n",
        "  - Grayscale 32x32x1\n",
        "  - CONV1 with 6 filters (depth 1) 32x32x6\n",
        "\n",
        "Batchnorm nnotes:\n"
      ]
    },
    {
      "cell_type": "code",
      "metadata": {
        "id": "89pGID1xjdE4"
      },
      "source": [
        "def tester():\n",
        "  img_width = 6\n",
        "  img_height = 6\n",
        "  filter_size = 3\n",
        "  #weights_list = [1.1, 2.2, 3.3, 4.4, 5.5, 6.6, 7.7, 8.8, 9.9]\n",
        "  weights_list = [1, 2, 3, 2, 3, 1, 3 ,1, 2]\n",
        "  v = img_width\n",
        "  h = img_height\n",
        "  feature_map = []\n",
        "  for i in range(0, v-filter_size+1):\n",
        "    for j in range(0, h-filter_size+1):\n",
        "      this_block = []\n",
        "      for m in range(i, i+filter_size):\n",
        "        for n in range(j, j+filter_size):\n",
        "          this_block.append(example_image[m][n])\n",
        "      # do the elementwise multiplication of the current block * the weights matrix\n",
        "      # this is what will be replaced by \n",
        "      conv_output = conv_operation_test(this_block, weights_list)\n",
        "      # sum all the values in the array\n",
        "      feature_map_element = np.sum(conv_output)\n",
        "      feature_map.append(feature_map_element)\n",
        "\n",
        "  return feature_map"
      ],
      "execution_count": null,
      "outputs": []
    },
    {
      "cell_type": "code",
      "metadata": {
        "colab": {
          "base_uri": "https://localhost:8080/"
        },
        "id": "8PdZ-i2SsTuk",
        "outputId": "290e39d5-fb3b-4985-9f01-78c1af864164"
      },
      "source": [
        "tester()"
      ],
      "execution_count": null,
      "outputs": [
        {
          "output_type": "execute_result",
          "data": {
            "text/plain": [
              "[36, 54, 60, 66, 54, 60, 66, 30, 60, 66, 30, 24, 66, 30, 24, 36]"
            ]
          },
          "metadata": {
            "tags": []
          },
          "execution_count": 137
        }
      ]
    },
    {
      "cell_type": "code",
      "metadata": {
        "colab": {
          "base_uri": "https://localhost:8080/"
        },
        "id": "u1T7JqMCsqmy",
        "outputId": "e8312e60-bc75-4873-d574-db99a8631f5a"
      },
      "source": [
        "X = np.array(tester())\n",
        "X = np.reshape(X, (4,4))\n",
        "X"
      ],
      "execution_count": null,
      "outputs": [
        {
          "output_type": "execute_result",
          "data": {
            "text/plain": [
              "array([[36, 54, 60, 66],\n",
              "       [54, 60, 66, 30],\n",
              "       [60, 66, 30, 24],\n",
              "       [66, 30, 24, 36]])"
            ]
          },
          "metadata": {
            "tags": []
          },
          "execution_count": 138
        }
      ]
    },
    {
      "cell_type": "code",
      "metadata": {
        "colab": {
          "base_uri": "https://localhost:8080/",
          "height": 269
        },
        "id": "o5RrkExBs0Ri",
        "outputId": "b795e172-7fec-4c05-a559-78a37e05fb6a"
      },
      "source": [
        "plt.imshow(X)\n",
        "plt.show()"
      ],
      "execution_count": null,
      "outputs": [
        {
          "output_type": "display_data",
          "data": {
            "image/png": "[encoded data removed]",
            "text/plain": [
              "<Figure size 432x288 with 1 Axes>"
            ]
          },
          "metadata": {
            "tags": [],
            "needs_background": "light"
          }
        }
      ]
    },
    {
      "cell_type": "code",
      "metadata": {
        "id": "CWz93Y14pO4e"
      },
      "source": [
        "def tester():\n",
        "  img_width = 6\n",
        "  img_height = 6\n",
        "  filter_size = 3\n",
        "  weights_list = [1.1, 2.2, 3.3, 4.4, 5.5, 6.6, 7.7, 8.8, 9.9]\n",
        "  v = img_width\n",
        "  h = img_height\n",
        "  list_of_blocks = []\n",
        "  for i in range(0, v-filter_size+1):\n",
        "    for j in range(0, h-filter_size+1):\n",
        "      this_block = []\n",
        "      for m in range(i, i+filter_size):\n",
        "        for n in range(j, j+filter_size):\n",
        "          this_block.append(example_image[m][n])\n",
        "      list_of_blocks.append(this_block)\n",
        "\n",
        "  return list_of_blocks"
      ],
      "execution_count": null,
      "outputs": []
    },
    {
      "cell_type": "code",
      "metadata": {
        "colab": {
          "base_uri": "https://localhost:8080/"
        },
        "id": "wRJqvv-9q_V0",
        "outputId": "05223874-7490-4e99-8051-d6f7c59d8433"
      },
      "source": [
        "tester()"
      ],
      "execution_count": null,
      "outputs": [
        {
          "output_type": "execute_result",
          "data": {
            "text/plain": [
              "[[0, 1, 2, 1, 2, 3, 2, 3, 4],\n",
              " [1, 2, 3, 2, 3, 4, 3, 4, 5],\n",
              " [2, 3, 4, 3, 4, 5, 4, 5, 0],\n",
              " [3, 4, 5, 4, 5, 0, 5, 0, 1],\n",
              " [1, 2, 3, 2, 3, 4, 3, 4, 5],\n",
              " [2, 3, 4, 3, 4, 5, 4, 5, 0],\n",
              " [3, 4, 5, 4, 5, 0, 5, 0, 1],\n",
              " [4, 5, 0, 5, 0, 1, 0, 1, 2],\n",
              " [2, 3, 4, 3, 4, 5, 4, 5, 0],\n",
              " [3, 4, 5, 4, 5, 0, 5, 0, 1],\n",
              " [4, 5, 0, 5, 0, 1, 0, 1, 2],\n",
              " [5, 0, 1, 0, 1, 2, 1, 2, 3],\n",
              " [3, 4, 5, 4, 5, 0, 5, 0, 1],\n",
              " [4, 5, 0, 5, 0, 1, 0, 1, 2],\n",
              " [5, 0, 1, 0, 1, 2, 1, 2, 3],\n",
              " [0, 1, 2, 1, 2, 3, 2, 3, 4]]"
            ]
          },
          "metadata": {
            "tags": []
          },
          "execution_count": 96
        }
      ]
    },
    {
      "cell_type": "code",
      "metadata": {
        "colab": {
          "base_uri": "https://localhost:8080/"
        },
        "id": "6BA2QmRdpyd8",
        "outputId": "fd2a697f-818a-40d3-b928-3e81400d7914"
      },
      "source": [
        "X = np.array(tester())\n",
        "X.shape"
      ],
      "execution_count": null,
      "outputs": [
        {
          "output_type": "execute_result",
          "data": {
            "text/plain": [
              "(16, 9)"
            ]
          },
          "metadata": {
            "tags": []
          },
          "execution_count": 97
        }
      ]
    },
    {
      "cell_type": "code",
      "metadata": {
        "id": "Nk6H8p8PplvD"
      },
      "source": [
        "def tester():\n",
        "  img_width = 6\n",
        "  img_height = 6\n",
        "  filter_size = 3\n",
        "  weights_list = [1.1, 2.2, 3.3, 4.4, 5.5, 6.6, 7.7, 8.8, 9.9]\n",
        "  v = img_width\n",
        "  h = img_height\n",
        "  list_of_concats = []\n",
        "  for j in range(h):\n",
        "    for i in range(v):\n",
        "      # this is one block\n",
        "      this_filter = weights_list\n",
        "      start_v = i\n",
        "      end_v = start_v + filter_size\n",
        "      start_h = j\n",
        "      end_h = start_h + filter_size\n",
        "      this_block =[]\n",
        "      for m in range(start_h, end_h):\n",
        "        for n in range(start_v, end_v):\n",
        "          this_block.append(example_image[m][n])\n",
        "      #mult_mat = this_block * this_filter\n",
        "      #dot_result = np.sum(mult_mat)\n",
        "      list_of_concats.append(this_block)\n",
        "\n",
        "  return list_of_concats"
      ],
      "execution_count": null,
      "outputs": []
    },
    {
      "cell_type": "code",
      "metadata": {
        "id": "fhxCLyMOpWBn"
      },
      "source": [
        "tester()"
      ],
      "execution_count": null,
      "outputs": []
    },
    {
      "cell_type": "code",
      "metadata": {
        "id": "O6j9iMlEo5Zx"
      },
      "source": [
        "def tester():\n",
        "  img_width = 6\n",
        "  img_height = 6\n",
        "  filter_size = 3\n",
        "  weights_list = [1.1, 2.2, 3.3, 4.4, 5.5, 6.6, 7.7, 8.8, 9.9]\n",
        "  v = img_width\n",
        "  h = img_height\n",
        "  list_of_concats = []\n",
        "  for j in range(h):\n",
        "    for i in range(v):\n",
        "      # this is one block\n",
        "      this_filter = weights_list\n",
        "      start_v = i\n",
        "      end_v = start + filter_size\n",
        "      start_h = j\n",
        "      end_h = start + filter_size\n",
        "      this_block =[]\n",
        "      for m in range(start_h, end_h):\n",
        "        for n in range(start_v, end_v):\n",
        "          this_block.append(example_image[m][n])\n",
        "      #mult_mat = this_block * this_filter\n",
        "      #dot_result = np.sum(mult_mat)\n",
        "      list_of_concats.append(this_block)\n",
        "\n",
        "  return list_of_concats"
      ],
      "execution_count": null,
      "outputs": []
    },
    {
      "cell_type": "code",
      "metadata": {
        "id": "nRd_2yMoo_vo"
      },
      "source": [
        "tester()"
      ],
      "execution_count": null,
      "outputs": []
    },
    {
      "cell_type": "code",
      "metadata": {
        "id": "xMoMAQ0KidW5"
      },
      "source": [
        "def tester():\n",
        "  img_width = 6\n",
        "  img_height = 6\n",
        "  filter_size = 3\n",
        "  weights_list = [1.1, 2.2, 3.3, 4.4, 5.5, 6.6, 7.7, 8.8, 9.9]\n",
        "  v = img_width\n",
        "  h = img_height\n",
        "  list_of_concats = []\n",
        "  for j in range(h):\n",
        "    for i in range(v):\n",
        "      # this is one block\n",
        "      this_filter = weights_list\n",
        "      start_v = i\n",
        "      end_v = start + filter_size\n",
        "      start_h = j\n",
        "      end_h = start + filter_size\n",
        "      this_block =[]\n",
        "      for m in range(start_h, end_h):\n",
        "        for n in range(start_v, end_v):\n",
        "          this_block.append(example_image[m][n])\n",
        "      mult_mat = this_block * this_filter\n",
        "      dot_result = np.sum(mult_mat)\n",
        "      list_of_concats.append(dot_result)\n",
        "\n",
        "  return list_of_concats"
      ],
      "execution_count": null,
      "outputs": []
    },
    {
      "cell_type": "code",
      "metadata": {
        "id": "Ub_vEP_-lEJU"
      },
      "source": [
        "tester()"
      ],
      "execution_count": null,
      "outputs": []
    },
    {
      "cell_type": "code",
      "metadata": {
        "colab": {
          "base_uri": "https://localhost:8080/"
        },
        "id": "tavVscvBhieF",
        "outputId": "b8c10b7a-9d9f-4bb0-9e29-4abdaa9d1bb5"
      },
      "source": [
        "\n",
        "filter_size = 3\n",
        "start = 0\n",
        "end = start + filter_size\n",
        "my_lis =[]\n",
        "for m in range(start, end):\n",
        "  for n in range(start, end):\n",
        "    my_lis.append(example_image[m][n])\n",
        "my_lis"
      ],
      "execution_count": null,
      "outputs": [
        {
          "output_type": "execute_result",
          "data": {
            "text/plain": [
              "[0, 1, 2, 1, 2, 3, 2, 3, 4]"
            ]
          },
          "metadata": {
            "tags": []
          },
          "execution_count": 55
        }
      ]
    },
    {
      "cell_type": "markdown",
      "metadata": {
        "id": "xHjD3wOZc3uL"
      },
      "source": [
        "# custom weight initializer"
      ]
    },
    {
      "cell_type": "code",
      "metadata": {
        "id": "Wmm9DBj7UZUp"
      },
      "source": [
        "class QConv(Layer):\n",
        "  def __init__(self, filter_shape=3):\n",
        "    '''Initializes the instance attributes'''\n",
        "    super(QConv, self).__init__()\n",
        "    self.filter_shape = filter_shape #instead of units\n",
        "\n",
        "  def build(self):\n",
        "    '''Create the state of the layer (weights)'''\n",
        "    #initialize the weights\n",
        "    w_init = tf.random_normal_initializer()\n",
        "    self.w = tf.Variable(name=\"kernel\",\n",
        "                         initial_value=w_init(shape=(self.filter_shape, self.filter_shape),\n",
        "                                              dtype='float32'),\n",
        "                         trainable=True)\n",
        "  def call(self):\n",
        "    '''Defines the computation from inputs to outputs'''\n",
        "    operation = "
      ],
      "execution_count": null,
      "outputs": []
    },
    {
      "cell_type": "code",
      "metadata": {
        "colab": {
          "base_uri": "https://localhost:8080/"
        },
        "id": "Kj2zskNqWLWx",
        "outputId": "88db3167-3d97-4794-ddb6-9f93987daa3a"
      },
      "source": [
        "test = QConv()\n",
        "print(test)"
      ],
      "execution_count": null,
      "outputs": [
        {
          "output_type": "stream",
          "text": [
            "<__main__.QConv object at 0x7fa48342dad0>\n"
          ],
          "name": "stdout"
        }
      ]
    },
    {
      "cell_type": "code",
      "metadata": {
        "id": "eRz3nFo-QUt6"
      },
      "source": [
        "def q_conv(image, filter_dims=(3,3), padding=2, stride=1):\n",
        "  filter_weights = np.random.rand(3,3)"
      ],
      "execution_count": null,
      "outputs": []
    },
    {
      "cell_type": "code",
      "metadata": {
        "id": "CCJgiUUnP_m8"
      },
      "source": [
        "import tensorflow as tf\n",
        "import numpy as np\n",
        "# inherit from this base class\n",
        "from tensorflow.keras.layers import Layer\n",
        "\n",
        "class SimpleDense(Layer):\n",
        "\n",
        "    def __init__(self, units=32):\n",
        "        '''Initializes the instance attributes'''\n",
        "        super(SimpleDense, self).__init__()\n",
        "        self.units = units\n",
        "\n",
        "    def build(self, input_shape):\n",
        "        '''Create the state of the layer (weights)'''\n",
        "        # initialize the weights\n",
        "        w_init = tf.random_normal_initializer()\n",
        "        self.w = tf.Variable(name=\"kernel\",\n",
        "            initial_value=w_init(shape=(input_shape[-1], self.units),\n",
        "                                 dtype='float32'),\n",
        "            trainable=True)\n",
        "\n",
        "        # initialize the biases\n",
        "        b_init = tf.zeros_initializer()\n",
        "        self.b = tf.Variable(name=\"bias\",\n",
        "            initial_value=b_init(shape=(self.units,), dtype='float32'),\n",
        "            trainable=True)\n",
        "\n",
        "    def call(self, inputs):\n",
        "        '''Defines the computation from inputs to outputs'''\n",
        "        return tf.matmul(inputs, self.w) + self.b"
      ],
      "execution_count": null,
      "outputs": []
    },
    {
      "cell_type": "code",
      "metadata": {
        "colab": {
          "base_uri": "https://localhost:8080/"
        },
        "id": "XQO9XdpBGNZq",
        "outputId": "75277384-9e23-49e8-fd60-033dd5a6f419"
      },
      "source": [
        "#!pip install qiskit"
      ],
      "execution_count": null,
      "outputs": [
        {
          "output_type": "stream",
          "text": [
            "Collecting qiskit\n",
            "  Downloading https://files.pythonhosted.org/packages/fd/28/a4665a4690edf37b20127801ab14cd5d08af362edd766536159bd3411d76/qiskit-0.26.0.tar.gz\n",
            "Collecting qiskit-terra==0.17.3\n",
            "\u001b[?25l  Downloading https://files.pythonhosted.org/packages/5b/03/9261e41253c0afed15f8754f203cf2edb18020a3a3809a9ae1dd1c9a06de/qiskit_terra-0.17.3-cp37-cp37m-manylinux2010_x86_64.whl (6.0MB)\n",
            "\u001b[K     |████████████████████████████████| 6.0MB 11.1MB/s \n",
            "\u001b[?25hCollecting qiskit-aer==0.8.2\n",
            "\u001b[?25l  Downloading https://files.pythonhosted.org/packages/c2/d2/6ff15c370b5465b32529b528bf3f4ce1e01f74498be16203aa1c04b67022/qiskit_aer-0.8.2-cp37-cp37m-manylinux2010_x86_64.whl (18.0MB)\n",
            "\u001b[K     |████████████████████████████████| 18.0MB 189kB/s \n",
            "\u001b[?25hCollecting qiskit-ibmq-provider==0.13.1\n",
            "\u001b[?25l  Downloading https://files.pythonhosted.org/packages/be/99/74bbb901f88603a7d850d4889abc06d81ba702e4227151f4a5b66f2631fe/qiskit_ibmq_provider-0.13.1-py3-none-any.whl (228kB)\n",
            "\u001b[K     |████████████████████████████████| 235kB 56.7MB/s \n",
            "\u001b[?25hCollecting qiskit-ignis==0.6.0\n",
            "\u001b[?25l  Downloading https://files.pythonhosted.org/packages/54/be/a13c828e457e09d979667a61bddbd8c7246aafa94e2501b6a9154429cbea/qiskit_ignis-0.6.0-py3-none-any.whl (207kB)\n",
            "\u001b[K     |████████████████████████████████| 215kB 45.9MB/s \n",
            "\u001b[?25hCollecting qiskit-aqua==0.9.1\n",
            "\u001b[?25l  Downloading https://files.pythonhosted.org/packages/88/79/392c57b978decbb24b902344b536af52c40a751aed0ebbaefa8bc2964cb5/qiskit_aqua-0.9.1-py3-none-any.whl (2.1MB)\n",
            "\u001b[K     |████████████████████████████████| 2.1MB 49.6MB/s \n",
            "\u001b[?25hRequirement already satisfied: psutil>=5 in /usr/local/lib/python3.7/dist-packages (from qiskit-terra==0.17.3->qiskit) (5.4.8)\n",
            "Requirement already satisfied: numpy>=1.17 in /usr/local/lib/python3.7/dist-packages (from qiskit-terra==0.17.3->qiskit) (1.19.5)\n",
            "Requirement already satisfied: jsonschema>=2.6 in /usr/local/lib/python3.7/dist-packages (from qiskit-terra==0.17.3->qiskit) (2.6.0)\n",
            "Collecting retworkx>=0.8.0\n",
            "\u001b[?25l  Downloading https://files.pythonhosted.org/packages/1b/92/f007f8b9d88dcd5b90e363967e5d54431a68c5fe06d83400732e3b438084/retworkx-0.8.0-cp37-cp37m-manylinux2010_x86_64.whl (1.0MB)\n",
            "\u001b[K     |████████████████████████████████| 1.0MB 52.6MB/s \n",
            "\u001b[?25hRequirement already satisfied: dill>=0.3 in /usr/local/lib/python3.7/dist-packages (from qiskit-terra==0.17.3->qiskit) (0.3.3)\n",
            "Requirement already satisfied: sympy>=1.3 in /usr/local/lib/python3.7/dist-packages (from qiskit-terra==0.17.3->qiskit) (1.7.1)\n",
            "Requirement already satisfied: python-dateutil>=2.8.0 in /usr/local/lib/python3.7/dist-packages (from qiskit-terra==0.17.3->qiskit) (2.8.1)\n",
            "Requirement already satisfied: scipy>=1.4 in /usr/local/lib/python3.7/dist-packages (from qiskit-terra==0.17.3->qiskit) (1.4.1)\n",
            "Collecting ply>=3.10\n",
            "\u001b[?25l  Downloading https://files.pythonhosted.org/packages/a3/58/35da89ee790598a0700ea49b2a66594140f44dec458c07e8e3d4979137fc/ply-3.11-py2.py3-none-any.whl (49kB)\n",
            "\u001b[K     |████████████████████████████████| 51kB 3.7MB/s \n",
            "\u001b[?25hCollecting python-constraint>=1.4\n",
            "  Downloading https://files.pythonhosted.org/packages/37/8b/5f1bc2734ca611943e1d6733ee244238679f6410a10cd45ede55a61a8402/python-constraint-1.4.0.tar.bz2\n",
            "Collecting fastjsonschema>=2.10\n",
            "  Downloading https://files.pythonhosted.org/packages/d1/fb/ea090e917b18320f79be31d754bbe496b715175e865603cfce1eaed2e774/fastjsonschema-2.15.1-py3-none-any.whl\n",
            "Collecting pybind11>=2.6\n",
            "\u001b[?25l  Downloading https://files.pythonhosted.org/packages/8d/43/7339dbabbc2793718d59703aace4166f53c29ee1c202f6ff5bf8a26c4d91/pybind11-2.6.2-py2.py3-none-any.whl (191kB)\n",
            "\u001b[K     |████████████████████████████████| 194kB 70.2MB/s \n",
            "\u001b[?25hRequirement already satisfied: requests>=2.19 in /usr/local/lib/python3.7/dist-packages (from qiskit-ibmq-provider==0.13.1->qiskit) (2.23.0)\n",
            "Collecting websockets>=8\n",
            "\u001b[?25l  Downloading https://files.pythonhosted.org/packages/73/cb/1d313fca7318f87cd7edfeb82339c20f00f24457862ba6fb455915fb8d9f/websockets-9.0.1-cp37-cp37m-manylinux2010_x86_64.whl (102kB)\n",
            "\u001b[K     |████████████████████████████████| 112kB 72.7MB/s \n",
            "\u001b[?25hRequirement already satisfied: nest-asyncio!=1.1.0,>=1.0.0 in /usr/local/lib/python3.7/dist-packages (from qiskit-ibmq-provider==0.13.1->qiskit) (1.5.1)\n",
            "Collecting requests-ntlm>=1.1.0\n",
            "  Downloading https://files.pythonhosted.org/packages/03/4b/8b9a1afde8072c4d5710d9fa91433d504325821b038e00237dc8d6d833dc/requests_ntlm-1.1.0-py2.py3-none-any.whl\n",
            "Requirement already satisfied: urllib3>=1.21.1 in /usr/local/lib/python3.7/dist-packages (from qiskit-ibmq-provider==0.13.1->qiskit) (1.24.3)\n",
            "Requirement already satisfied: setuptools>=40.1.0 in /usr/local/lib/python3.7/dist-packages (from qiskit-ignis==0.6.0->qiskit) (56.1.0)\n",
            "Requirement already satisfied: h5py<=3.1.0 in /usr/local/lib/python3.7/dist-packages (from qiskit-aqua==0.9.1->qiskit) (2.10.0)\n",
            "Collecting dlx<=1.0.4\n",
            "  Downloading https://files.pythonhosted.org/packages/54/c0/b8fb5bb727e983b6f5251433ef941b48f38c65bb0bd6ec509e9185bcd406/dlx-1.0.4.tar.gz\n",
            "Requirement already satisfied: fastdtw<=0.3.4 in /usr/local/lib/python3.7/dist-packages (from qiskit-aqua==0.9.1->qiskit) (0.3.4)\n",
            "Collecting quandl<=3.6.0\n",
            "  Downloading https://files.pythonhosted.org/packages/c2/58/9f0e69d836045e3865d263e9ed49f42b23a58526fdabb30f74c430baee3f/Quandl-3.6.0-py2.py3-none-any.whl\n",
            "Collecting docplex<=2.20.204; sys_platform != \"darwin\"\n",
            "\u001b[?25l  Downloading https://files.pythonhosted.org/packages/87/99/6f7c219b39fd58c84688ad0713eb932bfcf6be81fc74519e43ea9c915b56/docplex-2.20.204.tar.gz (611kB)\n",
            "\u001b[K     |████████████████████████████████| 614kB 46.5MB/s \n",
            "\u001b[?25hRequirement already satisfied: scikit-learn<=0.24.1,>=0.20.0 in /usr/local/lib/python3.7/dist-packages (from qiskit-aqua==0.9.1->qiskit) (0.22.2.post1)\n",
            "Requirement already satisfied: pandas<=1.2.3 in /usr/local/lib/python3.7/dist-packages (from qiskit-aqua==0.9.1->qiskit) (1.1.5)\n",
            "Collecting yfinance<=0.1.55\n",
            "  Downloading https://files.pythonhosted.org/packages/7a/e8/b9d7104d3a4bf39924799067592d9e59119fcfc900a425a12e80a3123ec8/yfinance-0.1.55.tar.gz\n",
            "Requirement already satisfied: mpmath>=0.19 in /usr/local/lib/python3.7/dist-packages (from sympy>=1.3->qiskit-terra==0.17.3->qiskit) (1.2.1)\n",
            "Requirement already satisfied: six>=1.5 in /usr/local/lib/python3.7/dist-packages (from python-dateutil>=2.8.0->qiskit-terra==0.17.3->qiskit) (1.15.0)\n",
            "Requirement already satisfied: certifi>=2017.4.17 in /usr/local/lib/python3.7/dist-packages (from requests>=2.19->qiskit-ibmq-provider==0.13.1->qiskit) (2020.12.5)\n",
            "Requirement already satisfied: idna<3,>=2.5 in /usr/local/lib/python3.7/dist-packages (from requests>=2.19->qiskit-ibmq-provider==0.13.1->qiskit) (2.10)\n",
            "Requirement already satisfied: chardet<4,>=3.0.2 in /usr/local/lib/python3.7/dist-packages (from requests>=2.19->qiskit-ibmq-provider==0.13.1->qiskit) (3.0.4)\n",
            "Collecting ntlm-auth>=1.0.2\n",
            "  Downloading https://files.pythonhosted.org/packages/ff/84/97c550164b54942b0e908c31ef09d9469f3ba4cd7332a671e2125732f63b/ntlm_auth-1.5.0-py2.py3-none-any.whl\n",
            "Collecting cryptography>=1.3\n",
            "\u001b[?25l  Downloading https://files.pythonhosted.org/packages/b2/26/7af637e6a7e87258b963f1731c5982fb31cd507f0d90d91836e446955d02/cryptography-3.4.7-cp36-abi3-manylinux2014_x86_64.whl (3.2MB)\n",
            "\u001b[K     |████████████████████████████████| 3.2MB 34.7MB/s \n",
            "\u001b[?25hRequirement already satisfied: more-itertools in /usr/local/lib/python3.7/dist-packages (from quandl<=3.6.0->qiskit-aqua==0.9.1->qiskit) (8.7.0)\n",
            "Collecting inflection>=0.3.1\n",
            "  Downloading https://files.pythonhosted.org/packages/59/91/aa6bde563e0085a02a435aa99b49ef75b0a4b062635e606dab23ce18d720/inflection-0.5.1-py2.py3-none-any.whl\n",
            "Requirement already satisfied: joblib>=0.11 in /usr/local/lib/python3.7/dist-packages (from scikit-learn<=0.24.1,>=0.20.0->qiskit-aqua==0.9.1->qiskit) (1.0.1)\n",
            "Requirement already satisfied: pytz>=2017.2 in /usr/local/lib/python3.7/dist-packages (from pandas<=1.2.3->qiskit-aqua==0.9.1->qiskit) (2018.9)\n",
            "Requirement already satisfied: multitasking>=0.0.7 in /usr/local/lib/python3.7/dist-packages (from yfinance<=0.1.55->qiskit-aqua==0.9.1->qiskit) (0.0.9)\n",
            "Collecting lxml>=4.5.1\n",
            "\u001b[?25l  Downloading https://files.pythonhosted.org/packages/30/c0/d0526314971fc661b083ab135747dc68446a3022686da8c16d25fcf6ef07/lxml-4.6.3-cp37-cp37m-manylinux2014_x86_64.whl (6.3MB)\n",
            "\u001b[K     |████████████████████████████████| 6.3MB 40.9MB/s \n",
            "\u001b[?25hRequirement already satisfied: cffi>=1.12 in /usr/local/lib/python3.7/dist-packages (from cryptography>=1.3->requests-ntlm>=1.1.0->qiskit-ibmq-provider==0.13.1->qiskit) (1.14.5)\n",
            "Requirement already satisfied: pycparser in /usr/local/lib/python3.7/dist-packages (from cffi>=1.12->cryptography>=1.3->requests-ntlm>=1.1.0->qiskit-ibmq-provider==0.13.1->qiskit) (2.20)\n",
            "Building wheels for collected packages: qiskit, python-constraint, dlx, docplex, yfinance\n",
            "  Building wheel for qiskit (setup.py) ... \u001b[?25l\u001b[?25hdone\n",
            "  Created wheel for qiskit: filename=qiskit-0.26.0-cp37-none-any.whl size=10489 sha256=e442bfb1b6ee2a93215ca8508de75e88dcfb41db78cce2479c88fed1c6b3aff0\n",
            "  Stored in directory: /root/.cache/pip/wheels/77/b5/a2/e88ddacf664ca9d2d30275664482d128c3e28b1fd554124a9d\n",
            "  Building wheel for python-constraint (setup.py) ... \u001b[?25l\u001b[?25hdone\n",
            "  Created wheel for python-constraint: filename=python_constraint-1.4.0-py2.py3-none-any.whl size=24079 sha256=c5c02b0a12d7fd68bcb1d073338169db7d4c87f9f98b1ba57c4bc94e1e5dd8f6\n",
            "  Stored in directory: /root/.cache/pip/wheels/34/31/15/7b070b25d0a549d20ce2e9fe6d727471c2c61ef904720fd40c\n",
            "  Building wheel for dlx (setup.py) ... \u001b[?25l\u001b[?25hdone\n",
            "  Created wheel for dlx: filename=dlx-1.0.4-cp37-none-any.whl size=5712 sha256=ca5d34ea83c8f845a6acd3d38d5eb5533175fc0167dfb0208c68adaa83b25850\n",
            "  Stored in directory: /root/.cache/pip/wheels/bb/ba/15/fdd0deb104df3254912998150ba9245668db06b00af5912d1a\n",
            "  Building wheel for docplex (setup.py) ... \u001b[?25l\u001b[?25hdone\n",
            "  Created wheel for docplex: filename=docplex-2.20.204-cp37-none-any.whl size=675362 sha256=468d6ba70f8529e4cd8ceb0dd9ecd5852ecac076f1e8abfb4434b9810359a787\n",
            "  Stored in directory: /root/.cache/pip/wheels/ae/2c/e2/a099ebb6fda8adeba9c5fc2e25659d195ad2f5c6cc5fb75fd4\n",
            "  Building wheel for yfinance (setup.py) ... \u001b[?25l\u001b[?25hdone\n",
            "  Created wheel for yfinance: filename=yfinance-0.1.55-py2.py3-none-any.whl size=22616 sha256=2d495d77545e3979400754150187896491aef9903f0f837645512cfebe3a91cd\n",
            "  Stored in directory: /root/.cache/pip/wheels/04/98/cc/2702a4242d60bdc14f48b4557c427ded1fe92aedf257d4565c\n",
            "Successfully built qiskit python-constraint dlx docplex yfinance\n",
            "Installing collected packages: retworkx, ply, python-constraint, fastjsonschema, qiskit-terra, pybind11, qiskit-aer, websockets, ntlm-auth, cryptography, requests-ntlm, qiskit-ibmq-provider, qiskit-ignis, dlx, inflection, quandl, docplex, lxml, yfinance, qiskit-aqua, qiskit\n",
            "  Found existing installation: lxml 4.2.6\n",
            "    Uninstalling lxml-4.2.6:\n",
            "      Successfully uninstalled lxml-4.2.6\n",
            "Successfully installed cryptography-3.4.7 dlx-1.0.4 docplex-2.20.204 fastjsonschema-2.15.1 inflection-0.5.1 lxml-4.6.3 ntlm-auth-1.5.0 ply-3.11 pybind11-2.6.2 python-constraint-1.4.0 qiskit-0.26.0 qiskit-aer-0.8.2 qiskit-aqua-0.9.1 qiskit-ibmq-provider-0.13.1 qiskit-ignis-0.6.0 qiskit-terra-0.17.3 quandl-3.6.0 requests-ntlm-1.1.0 retworkx-0.8.0 websockets-9.0.1 yfinance-0.1.55\n"
          ],
          "name": "stdout"
        }
      ]
    },
    {
      "cell_type": "code",
      "metadata": {
        "colab": {
          "base_uri": "https://localhost:8080/"
        },
        "id": "qPJJhkfMGufp",
        "outputId": "02200f5d-96a9-483c-971b-0e17996a2911"
      },
      "source": [
        "pip install git+https://github.com/qiskit-community/qiskit-textbook.git#subdirectory=qiskit-textbook-src"
      ],
      "execution_count": null,
      "outputs": [
        {
          "output_type": "stream",
          "text": [
            "Collecting git+https://github.com/qiskit-community/qiskit-textbook.git#subdirectory=qiskit-textbook-src\n",
            "  Cloning https://github.com/qiskit-community/qiskit-textbook.git to /tmp/pip-req-build-ozdjqyek\n",
            "  Running command git clone -q https://github.com/qiskit-community/qiskit-textbook.git /tmp/pip-req-build-ozdjqyek\n",
            "Requirement already satisfied: qiskit in /usr/local/lib/python3.7/dist-packages (from qiskit-textbook==0.1.0) (0.26.0)\n",
            "Requirement already satisfied: ipython in /usr/local/lib/python3.7/dist-packages (from qiskit-textbook==0.1.0) (5.5.0)\n",
            "Requirement already satisfied: ipywidgets in /usr/local/lib/python3.7/dist-packages (from qiskit-textbook==0.1.0) (7.6.3)\n",
            "Requirement already satisfied: numpy in /usr/local/lib/python3.7/dist-packages (from qiskit-textbook==0.1.0) (1.19.5)\n",
            "Requirement already satisfied: matplotlib in /usr/local/lib/python3.7/dist-packages (from qiskit-textbook==0.1.0) (3.2.2)\n",
            "Requirement already satisfied: qiskit-aqua==0.9.1 in /usr/local/lib/python3.7/dist-packages (from qiskit->qiskit-textbook==0.1.0) (0.9.1)\n",
            "Requirement already satisfied: qiskit-ignis==0.6.0 in /usr/local/lib/python3.7/dist-packages (from qiskit->qiskit-textbook==0.1.0) (0.6.0)\n",
            "Requirement already satisfied: qiskit-ibmq-provider==0.13.1 in /usr/local/lib/python3.7/dist-packages (from qiskit->qiskit-textbook==0.1.0) (0.13.1)\n",
            "Requirement already satisfied: qiskit-aer==0.8.2 in /usr/local/lib/python3.7/dist-packages (from qiskit->qiskit-textbook==0.1.0) (0.8.2)\n",
            "Requirement already satisfied: qiskit-terra==0.17.3 in /usr/local/lib/python3.7/dist-packages (from qiskit->qiskit-textbook==0.1.0) (0.17.3)\n",
            "Requirement already satisfied: traitlets>=4.2 in /usr/local/lib/python3.7/dist-packages (from ipython->qiskit-textbook==0.1.0) (5.0.5)\n",
            "Requirement already satisfied: pygments in /usr/local/lib/python3.7/dist-packages (from ipython->qiskit-textbook==0.1.0) (2.6.1)\n",
            "Requirement already satisfied: pickleshare in /usr/local/lib/python3.7/dist-packages (from ipython->qiskit-textbook==0.1.0) (0.7.5)\n",
            "Requirement already satisfied: decorator in /usr/local/lib/python3.7/dist-packages (from ipython->qiskit-textbook==0.1.0) (4.4.2)\n",
            "Requirement already satisfied: simplegeneric>0.8 in /usr/local/lib/python3.7/dist-packages (from ipython->qiskit-textbook==0.1.0) (0.8.1)\n",
            "Requirement already satisfied: pexpect; sys_platform != \"win32\" in /usr/local/lib/python3.7/dist-packages (from ipython->qiskit-textbook==0.1.0) (4.8.0)\n",
            "Requirement already satisfied: prompt-toolkit<2.0.0,>=1.0.4 in /usr/local/lib/python3.7/dist-packages (from ipython->qiskit-textbook==0.1.0) (1.0.18)\n",
            "Requirement already satisfied: setuptools>=18.5 in /usr/local/lib/python3.7/dist-packages (from ipython->qiskit-textbook==0.1.0) (56.1.0)\n",
            "Requirement already satisfied: jupyterlab-widgets>=1.0.0; python_version >= \"3.6\" in /usr/local/lib/python3.7/dist-packages (from ipywidgets->qiskit-textbook==0.1.0) (1.0.0)\n",
            "Requirement already satisfied: nbformat>=4.2.0 in /usr/local/lib/python3.7/dist-packages (from ipywidgets->qiskit-textbook==0.1.0) (5.1.3)\n",
            "Requirement already satisfied: widgetsnbextension~=3.5.0 in /usr/local/lib/python3.7/dist-packages (from ipywidgets->qiskit-textbook==0.1.0) (3.5.1)\n",
            "Requirement already satisfied: ipykernel>=4.5.1 in /usr/local/lib/python3.7/dist-packages (from ipywidgets->qiskit-textbook==0.1.0) (4.10.1)\n",
            "Requirement already satisfied: cycler>=0.10 in /usr/local/lib/python3.7/dist-packages (from matplotlib->qiskit-textbook==0.1.0) (0.10.0)\n",
            "Requirement already satisfied: pyparsing!=2.0.4,!=2.1.2,!=2.1.6,>=2.0.1 in /usr/local/lib/python3.7/dist-packages (from matplotlib->qiskit-textbook==0.1.0) (2.4.7)\n",
            "Requirement already satisfied: python-dateutil>=2.1 in /usr/local/lib/python3.7/dist-packages (from matplotlib->qiskit-textbook==0.1.0) (2.8.1)\n",
            "Requirement already satisfied: kiwisolver>=1.0.1 in /usr/local/lib/python3.7/dist-packages (from matplotlib->qiskit-textbook==0.1.0) (1.3.1)\n",
            "Requirement already satisfied: psutil<=5.8.0,>=5 in /usr/local/lib/python3.7/dist-packages (from qiskit-aqua==0.9.1->qiskit->qiskit-textbook==0.1.0) (5.4.8)\n",
            "Requirement already satisfied: fastdtw<=0.3.4 in /usr/local/lib/python3.7/dist-packages (from qiskit-aqua==0.9.1->qiskit->qiskit-textbook==0.1.0) (0.3.4)\n",
            "Requirement already satisfied: h5py<=3.1.0 in /usr/local/lib/python3.7/dist-packages (from qiskit-aqua==0.9.1->qiskit->qiskit-textbook==0.1.0) (2.10.0)\n",
            "Requirement already satisfied: pandas<=1.2.3 in /usr/local/lib/python3.7/dist-packages (from qiskit-aqua==0.9.1->qiskit->qiskit-textbook==0.1.0) (1.1.5)\n",
            "Requirement already satisfied: sympy<=1.7.1,>=1.3 in /usr/local/lib/python3.7/dist-packages (from qiskit-aqua==0.9.1->qiskit->qiskit-textbook==0.1.0) (1.7.1)\n",
            "Requirement already satisfied: scipy<=1.6.1,>=1.4 in /usr/local/lib/python3.7/dist-packages (from qiskit-aqua==0.9.1->qiskit->qiskit-textbook==0.1.0) (1.4.1)\n",
            "Requirement already satisfied: retworkx<=0.8.0,>=0.7.0 in /usr/local/lib/python3.7/dist-packages (from qiskit-aqua==0.9.1->qiskit->qiskit-textbook==0.1.0) (0.8.0)\n",
            "Requirement already satisfied: docplex<=2.20.204; sys_platform != \"darwin\" in /usr/local/lib/python3.7/dist-packages (from qiskit-aqua==0.9.1->qiskit->qiskit-textbook==0.1.0) (2.20.204)\n",
            "Requirement already satisfied: scikit-learn<=0.24.1,>=0.20.0 in /usr/local/lib/python3.7/dist-packages (from qiskit-aqua==0.9.1->qiskit->qiskit-textbook==0.1.0) (0.22.2.post1)\n",
            "Requirement already satisfied: dlx<=1.0.4 in /usr/local/lib/python3.7/dist-packages (from qiskit-aqua==0.9.1->qiskit->qiskit-textbook==0.1.0) (1.0.4)\n",
            "Requirement already satisfied: yfinance<=0.1.55 in /usr/local/lib/python3.7/dist-packages (from qiskit-aqua==0.9.1->qiskit->qiskit-textbook==0.1.0) (0.1.55)\n",
            "Requirement already satisfied: quandl<=3.6.0 in /usr/local/lib/python3.7/dist-packages (from qiskit-aqua==0.9.1->qiskit->qiskit-textbook==0.1.0) (3.6.0)\n",
            "Requirement already satisfied: requests-ntlm>=1.1.0 in /usr/local/lib/python3.7/dist-packages (from qiskit-ibmq-provider==0.13.1->qiskit->qiskit-textbook==0.1.0) (1.1.0)\n",
            "Requirement already satisfied: urllib3>=1.21.1 in /usr/local/lib/python3.7/dist-packages (from qiskit-ibmq-provider==0.13.1->qiskit->qiskit-textbook==0.1.0) (1.24.3)\n",
            "Requirement already satisfied: nest-asyncio!=1.1.0,>=1.0.0 in /usr/local/lib/python3.7/dist-packages (from qiskit-ibmq-provider==0.13.1->qiskit->qiskit-textbook==0.1.0) (1.5.1)\n",
            "Requirement already satisfied: dill>=0.3 in /usr/local/lib/python3.7/dist-packages (from qiskit-ibmq-provider==0.13.1->qiskit->qiskit-textbook==0.1.0) (0.3.3)\n",
            "Requirement already satisfied: requests>=2.19 in /usr/local/lib/python3.7/dist-packages (from qiskit-ibmq-provider==0.13.1->qiskit->qiskit-textbook==0.1.0) (2.23.0)\n",
            "Requirement already satisfied: websockets>=8 in /usr/local/lib/python3.7/dist-packages (from qiskit-ibmq-provider==0.13.1->qiskit->qiskit-textbook==0.1.0) (9.0.1)\n",
            "Requirement already satisfied: pybind11>=2.6 in /usr/local/lib/python3.7/dist-packages (from qiskit-aer==0.8.2->qiskit->qiskit-textbook==0.1.0) (2.6.2)\n",
            "Requirement already satisfied: python-constraint>=1.4 in /usr/local/lib/python3.7/dist-packages (from qiskit-terra==0.17.3->qiskit->qiskit-textbook==0.1.0) (1.4.0)\n",
            "Requirement already satisfied: ply>=3.10 in /usr/local/lib/python3.7/dist-packages (from qiskit-terra==0.17.3->qiskit->qiskit-textbook==0.1.0) (3.11)\n",
            "Requirement already satisfied: fastjsonschema>=2.10 in /usr/local/lib/python3.7/dist-packages (from qiskit-terra==0.17.3->qiskit->qiskit-textbook==0.1.0) (2.15.1)\n",
            "Requirement already satisfied: jsonschema>=2.6 in /usr/local/lib/python3.7/dist-packages (from qiskit-terra==0.17.3->qiskit->qiskit-textbook==0.1.0) (2.6.0)\n",
            "Requirement already satisfied: ipython-genutils in /usr/local/lib/python3.7/dist-packages (from traitlets>=4.2->ipython->qiskit-textbook==0.1.0) (0.2.0)\n",
            "Requirement already satisfied: ptyprocess>=0.5 in /usr/local/lib/python3.7/dist-packages (from pexpect; sys_platform != \"win32\"->ipython->qiskit-textbook==0.1.0) (0.7.0)\n",
            "Requirement already satisfied: six>=1.9.0 in /usr/local/lib/python3.7/dist-packages (from prompt-toolkit<2.0.0,>=1.0.4->ipython->qiskit-textbook==0.1.0) (1.15.0)\n",
            "Requirement already satisfied: wcwidth in /usr/local/lib/python3.7/dist-packages (from prompt-toolkit<2.0.0,>=1.0.4->ipython->qiskit-textbook==0.1.0) (0.2.5)\n",
            "Requirement already satisfied: jupyter-core in /usr/local/lib/python3.7/dist-packages (from nbformat>=4.2.0->ipywidgets->qiskit-textbook==0.1.0) (4.7.1)\n",
            "Requirement already satisfied: notebook>=4.4.1 in /usr/local/lib/python3.7/dist-packages (from widgetsnbextension~=3.5.0->ipywidgets->qiskit-textbook==0.1.0) (5.3.1)\n",
            "Requirement already satisfied: tornado>=4.0 in /usr/local/lib/python3.7/dist-packages (from ipykernel>=4.5.1->ipywidgets->qiskit-textbook==0.1.0) (5.1.1)\n",
            "Requirement already satisfied: jupyter-client in /usr/local/lib/python3.7/dist-packages (from ipykernel>=4.5.1->ipywidgets->qiskit-textbook==0.1.0) (5.3.5)\n",
            "Requirement already satisfied: pytz>=2017.2 in /usr/local/lib/python3.7/dist-packages (from pandas<=1.2.3->qiskit-aqua==0.9.1->qiskit->qiskit-textbook==0.1.0) (2018.9)\n",
            "Requirement already satisfied: mpmath>=0.19 in /usr/local/lib/python3.7/dist-packages (from sympy<=1.7.1,>=1.3->qiskit-aqua==0.9.1->qiskit->qiskit-textbook==0.1.0) (1.2.1)\n",
            "Requirement already satisfied: joblib>=0.11 in /usr/local/lib/python3.7/dist-packages (from scikit-learn<=0.24.1,>=0.20.0->qiskit-aqua==0.9.1->qiskit->qiskit-textbook==0.1.0) (1.0.1)\n",
            "Requirement already satisfied: lxml>=4.5.1 in /usr/local/lib/python3.7/dist-packages (from yfinance<=0.1.55->qiskit-aqua==0.9.1->qiskit->qiskit-textbook==0.1.0) (4.6.3)\n",
            "Requirement already satisfied: multitasking>=0.0.7 in /usr/local/lib/python3.7/dist-packages (from yfinance<=0.1.55->qiskit-aqua==0.9.1->qiskit->qiskit-textbook==0.1.0) (0.0.9)\n",
            "Requirement already satisfied: inflection>=0.3.1 in /usr/local/lib/python3.7/dist-packages (from quandl<=3.6.0->qiskit-aqua==0.9.1->qiskit->qiskit-textbook==0.1.0) (0.5.1)\n",
            "Requirement already satisfied: more-itertools in /usr/local/lib/python3.7/dist-packages (from quandl<=3.6.0->qiskit-aqua==0.9.1->qiskit->qiskit-textbook==0.1.0) (8.7.0)\n",
            "Requirement already satisfied: cryptography>=1.3 in /usr/local/lib/python3.7/dist-packages (from requests-ntlm>=1.1.0->qiskit-ibmq-provider==0.13.1->qiskit->qiskit-textbook==0.1.0) (3.4.7)\n",
            "Requirement already satisfied: ntlm-auth>=1.0.2 in /usr/local/lib/python3.7/dist-packages (from requests-ntlm>=1.1.0->qiskit-ibmq-provider==0.13.1->qiskit->qiskit-textbook==0.1.0) (1.5.0)\n",
            "Requirement already satisfied: certifi>=2017.4.17 in /usr/local/lib/python3.7/dist-packages (from requests>=2.19->qiskit-ibmq-provider==0.13.1->qiskit->qiskit-textbook==0.1.0) (2020.12.5)\n",
            "Requirement already satisfied: chardet<4,>=3.0.2 in /usr/local/lib/python3.7/dist-packages (from requests>=2.19->qiskit-ibmq-provider==0.13.1->qiskit->qiskit-textbook==0.1.0) (3.0.4)\n",
            "Requirement already satisfied: idna<3,>=2.5 in /usr/local/lib/python3.7/dist-packages (from requests>=2.19->qiskit-ibmq-provider==0.13.1->qiskit->qiskit-textbook==0.1.0) (2.10)\n",
            "Requirement already satisfied: nbconvert in /usr/local/lib/python3.7/dist-packages (from notebook>=4.4.1->widgetsnbextension~=3.5.0->ipywidgets->qiskit-textbook==0.1.0) (5.6.1)\n",
            "Requirement already satisfied: terminado>=0.8.1 in /usr/local/lib/python3.7/dist-packages (from notebook>=4.4.1->widgetsnbextension~=3.5.0->ipywidgets->qiskit-textbook==0.1.0) (0.9.4)\n",
            "Requirement already satisfied: Send2Trash in /usr/local/lib/python3.7/dist-packages (from notebook>=4.4.1->widgetsnbextension~=3.5.0->ipywidgets->qiskit-textbook==0.1.0) (1.5.0)\n",
            "Requirement already satisfied: jinja2 in /usr/local/lib/python3.7/dist-packages (from notebook>=4.4.1->widgetsnbextension~=3.5.0->ipywidgets->qiskit-textbook==0.1.0) (2.11.3)\n",
            "Requirement already satisfied: pyzmq>=13 in /usr/local/lib/python3.7/dist-packages (from jupyter-client->ipykernel>=4.5.1->ipywidgets->qiskit-textbook==0.1.0) (22.0.3)\n",
            "Requirement already satisfied: cffi>=1.12 in /usr/local/lib/python3.7/dist-packages (from cryptography>=1.3->requests-ntlm>=1.1.0->qiskit-ibmq-provider==0.13.1->qiskit->qiskit-textbook==0.1.0) (1.14.5)\n",
            "Requirement already satisfied: defusedxml in /usr/local/lib/python3.7/dist-packages (from nbconvert->notebook>=4.4.1->widgetsnbextension~=3.5.0->ipywidgets->qiskit-textbook==0.1.0) (0.7.1)\n",
            "Requirement already satisfied: bleach in /usr/local/lib/python3.7/dist-packages (from nbconvert->notebook>=4.4.1->widgetsnbextension~=3.5.0->ipywidgets->qiskit-textbook==0.1.0) (3.3.0)\n",
            "Requirement already satisfied: entrypoints>=0.2.2 in /usr/local/lib/python3.7/dist-packages (from nbconvert->notebook>=4.4.1->widgetsnbextension~=3.5.0->ipywidgets->qiskit-textbook==0.1.0) (0.3)\n",
            "Requirement already satisfied: mistune<2,>=0.8.1 in /usr/local/lib/python3.7/dist-packages (from nbconvert->notebook>=4.4.1->widgetsnbextension~=3.5.0->ipywidgets->qiskit-textbook==0.1.0) (0.8.4)\n",
            "Requirement already satisfied: pandocfilters>=1.4.1 in /usr/local/lib/python3.7/dist-packages (from nbconvert->notebook>=4.4.1->widgetsnbextension~=3.5.0->ipywidgets->qiskit-textbook==0.1.0) (1.4.3)\n",
            "Requirement already satisfied: testpath in /usr/local/lib/python3.7/dist-packages (from nbconvert->notebook>=4.4.1->widgetsnbextension~=3.5.0->ipywidgets->qiskit-textbook==0.1.0) (0.4.4)\n",
            "Requirement already satisfied: MarkupSafe>=0.23 in /usr/local/lib/python3.7/dist-packages (from jinja2->notebook>=4.4.1->widgetsnbextension~=3.5.0->ipywidgets->qiskit-textbook==0.1.0) (1.1.1)\n",
            "Requirement already satisfied: pycparser in /usr/local/lib/python3.7/dist-packages (from cffi>=1.12->cryptography>=1.3->requests-ntlm>=1.1.0->qiskit-ibmq-provider==0.13.1->qiskit->qiskit-textbook==0.1.0) (2.20)\n",
            "Requirement already satisfied: webencodings in /usr/local/lib/python3.7/dist-packages (from bleach->nbconvert->notebook>=4.4.1->widgetsnbextension~=3.5.0->ipywidgets->qiskit-textbook==0.1.0) (0.5.1)\n",
            "Requirement already satisfied: packaging in /usr/local/lib/python3.7/dist-packages (from bleach->nbconvert->notebook>=4.4.1->widgetsnbextension~=3.5.0->ipywidgets->qiskit-textbook==0.1.0) (20.9)\n",
            "Building wheels for collected packages: qiskit-textbook\n",
            "  Building wheel for qiskit-textbook (setup.py) ... \u001b[?25l\u001b[?25hdone\n",
            "  Created wheel for qiskit-textbook: filename=qiskit_textbook-0.1.0-cp37-none-any.whl size=16953 sha256=b569ac8dffd11bec45b387ba1dfa69fda6287ce5c135e2228bbedb4cce9279a4\n",
            "  Stored in directory: /tmp/pip-ephem-wheel-cache-2lddt5el/wheels/0c/57/26/1c12886a219af04a38ca1e674fdeeff40b8a5963326ba3c71a\n",
            "Successfully built qiskit-textbook\n",
            "Installing collected packages: qiskit-textbook\n",
            "Successfully installed qiskit-textbook-0.1.0\n"
          ],
          "name": "stdout"
        }
      ]
    },
    {
      "cell_type": "code",
      "metadata": {
        "id": "Ak0bVeHZF-jq"
      },
      "source": [
        "from qiskit import QuantumCircuit, Aer, assemble\n",
        "from math import pi\n",
        "import numpy as np\n",
        "from qiskit.visualization import plot_histogram, plot_bloch_multivector"
      ],
      "execution_count": null,
      "outputs": []
    },
    {
      "cell_type": "code",
      "metadata": {
        "colab": {
          "base_uri": "https://localhost:8080/",
          "height": 122
        },
        "id": "x8gLoNWiGMZt",
        "outputId": "ac1dad93-c73d-4505-9873-8b091e525dc9"
      },
      "source": [
        "qc = QuantumCircuit(3)\n",
        "# Apply H-gate to each qubit:\n",
        "for qubit in range(3):\n",
        "    qc.h(qubit)\n",
        "# See the circuit:\n",
        "qc.draw()"
      ],
      "execution_count": null,
      "outputs": [
        {
          "output_type": "execute_result",
          "data": {
            "text/html": [
              "<pre style=\"word-wrap: normal;white-space: pre;background: #fff0;line-height: 1.1;font-family: &quot;Courier New&quot;,Courier,monospace\">     ┌───┐\n",
              "q_0: ┤ H ├\n",
              "     ├───┤\n",
              "q_1: ┤ H ├\n",
              "     ├───┤\n",
              "q_2: ┤ H ├\n",
              "     └───┘</pre>"
            ],
            "text/plain": [
              "     ┌───┐\n",
              "q_0: ┤ H ├\n",
              "     ├───┤\n",
              "q_1: ┤ H ├\n",
              "     ├───┤\n",
              "q_2: ┤ H ├\n",
              "     └───┘"
            ]
          },
          "metadata": {
            "tags": []
          },
          "execution_count": 5
        }
      ]
    },
    {
      "cell_type": "code",
      "metadata": {
        "colab": {
          "base_uri": "https://localhost:8080/",
          "height": 204
        },
        "id": "VoAA3YJWGAPa",
        "outputId": "f9968dbe-ab16-46d8-cd7c-b7d78d43e574"
      },
      "source": [
        "# Let's see the result\n",
        "svsim = Aer.get_backend('statevector_simulator')\n",
        "qobj = assemble(qc)\n",
        "final_state = svsim.run(qobj).result().get_statevector()\n",
        "\n",
        "# In Jupyter Notebooks we can display this nicely using Latex.\n",
        "# If not using Jupyter Notebooks you may need to remove the \n",
        "# array_to_latex function and use print(final_state) instead.\n",
        "from qiskit_textbook.tools import array_to_latex\n",
        "array_to_latex(final_state, pretext=\"\\\\text{Statevector} = \")"
      ],
      "execution_count": null,
      "outputs": [
        {
          "output_type": "display_data",
          "data": {
            "text/latex": "$$\n\\text{Statevector} = \\begin{bmatrix}\n\\tfrac{1}{\\sqrt{8}} \\\\\n\\tfrac{1}{\\sqrt{8}} \\\\\n\\tfrac{1}{\\sqrt{8}} \\\\\n\\tfrac{1}{\\sqrt{8}} \\\\\n\\tfrac{1}{\\sqrt{8}} \\\\\n\\tfrac{1}{\\sqrt{8}} \\\\\n\\tfrac{1}{\\sqrt{8}} \\\\\n\\tfrac{1}{\\sqrt{8}}\n\\end{bmatrix}\n$$",
            "text/plain": [
              "<IPython.core.display.Math object>"
            ]
          },
          "metadata": {
            "tags": []
          }
        }
      ]
    },
    {
      "cell_type": "code",
      "metadata": {
        "colab": {
          "base_uri": "https://localhost:8080/",
          "height": 92
        },
        "id": "Veir1JSKGjGy",
        "outputId": "91aaf779-871a-43ac-fb00-ac4b66db7c3f"
      },
      "source": [
        "qc = QuantumCircuit(2)\n",
        "qc.h(0)\n",
        "qc.x(1)\n",
        "qc.draw()"
      ],
      "execution_count": null,
      "outputs": [
        {
          "output_type": "execute_result",
          "data": {
            "text/html": [
              "<pre style=\"word-wrap: normal;white-space: pre;background: #fff0;line-height: 1.1;font-family: &quot;Courier New&quot;,Courier,monospace\">     ┌───┐\n",
              "q_0: ┤ H ├\n",
              "     ├───┤\n",
              "q_1: ┤ X ├\n",
              "     └───┘</pre>"
            ],
            "text/plain": [
              "     ┌───┐\n",
              "q_0: ┤ H ├\n",
              "     ├───┤\n",
              "q_1: ┤ X ├\n",
              "     └───┘"
            ]
          },
          "metadata": {
            "tags": []
          },
          "execution_count": 9
        }
      ]
    },
    {
      "cell_type": "code",
      "metadata": {
        "id": "iOi36Pu2G3ap"
      },
      "source": [
        "usim = Aer.get_backend('unitary_simulator')\n",
        "qobj = assemble(qc)\n",
        "unitary = usim.run(qobj).result().get_unitary()"
      ],
      "execution_count": null,
      "outputs": []
    },
    {
      "cell_type": "code",
      "metadata": {
        "colab": {
          "base_uri": "https://localhost:8080/",
          "height": 170
        },
        "id": "YEDCeancG7E1",
        "outputId": "83df0e6f-e171-45fd-c109-69fb06340a68"
      },
      "source": [
        "# In Jupyter Notebooks we can display this nicely using Latex.\n",
        "# If not using Jupyter Notebooks you may need to remove the \n",
        "# array_to_latex function and use print(unitary) instead.\n",
        "from qiskit_textbook.tools import array_to_latex\n",
        "array_to_latex(unitary, pretext=\"\\\\text{Circuit = }\\n\")"
      ],
      "execution_count": null,
      "outputs": [
        {
          "output_type": "display_data",
          "data": {
            "text/latex": "$$\n\\text{Circuit = }\n\\begin{bmatrix}\n0 & 0 & \\tfrac{1}{\\sqrt{2}} & \\tfrac{1}{\\sqrt{2}}  \\\\\n0 & 0 & \\tfrac{1}{\\sqrt{2}} & -\\tfrac{1}{\\sqrt{2}}  \\\\\n\\tfrac{1}{\\sqrt{2}} & \\tfrac{1}{\\sqrt{2}} & 0 & 0  \\\\\n\\tfrac{1}{\\sqrt{2}} & -\\tfrac{1}{\\sqrt{2}} & 0 & 0  \\\\\n\\end{bmatrix}\n$$\n$$",
            "text/plain": [
              "<IPython.core.display.Math object>"
            ]
          },
          "metadata": {
            "tags": []
          }
        }
      ]
    },
    {
      "cell_type": "code",
      "metadata": {
        "colab": {
          "base_uri": "https://localhost:8080/",
          "height": 17
        },
        "id": "lx7PpSczIUca",
        "outputId": "d4bdda35-52c0-4a89-e32d-0533f503e855"
      },
      "source": [
        "from IPython.display import Math\n",
        "from google.colab.output._publish import javascript\n",
        "url = \"https://cdnjs.cloudflare.com/ajax/libs/mathjax/2.7.3/latest.js?config=default\"\n",
        "\n",
        "javascript(url=url)"
      ],
      "execution_count": null,
      "outputs": [
        {
          "output_type": "display_data",
          "data": {
            "text/html": [
              "<script src='https://cdnjs.cloudflare.com/ajax/libs/mathjax/2.7.3/latest.js?config=default'></script>"
            ],
            "text/plain": [
              "<IPython.core.display.HTML object>"
            ]
          },
          "metadata": {
            "tags": []
          }
        }
      ]
    },
    {
      "cell_type": "code",
      "metadata": {
        "colab": {
          "base_uri": "https://localhost:8080/",
          "height": 111
        },
        "id": "At_rDtbdInb8",
        "outputId": "2434a57a-d4f5-4691-f5a5-d85e5c038a81"
      },
      "source": [
        "Math(r\"\\begin{bmatrix} 0 & 0 & \\tfrac{1}{\\sqrt{2}} & \\tfrac{1}{\\sqrt{2}}\\\\ 0 & 0 & \\tfrac{1}{\\sqrt{2}} & -\\tfrac{1}{\\sqrt{2}} \\\\ \\tfrac{1}{\\sqrt{2}} & \\tfrac{1}{\\sqrt{2}} & 0 & 0 \\\\ \\tfrac{1}{\\sqrt{2}} & -\\tfrac{1}{\\sqrt{2}} & 0 & 0 \\end{bmatrix}\")"
      ],
      "execution_count": null,
      "outputs": [
        {
          "output_type": "execute_result",
          "data": {
            "text/latex": "$$\\begin{bmatrix} 0 & 0 & \\tfrac{1}{\\sqrt{2}} & \\tfrac{1}{\\sqrt{2}}\\\\ 0 & 0 & \\tfrac{1}{\\sqrt{2}} & -\\tfrac{1}{\\sqrt{2}} \\\\ \\tfrac{1}{\\sqrt{2}} & \\tfrac{1}{\\sqrt{2}} & 0 & 0 \\\\ \\tfrac{1}{\\sqrt{2}} & -\\tfrac{1}{\\sqrt{2}} & 0 & 0 \\end{bmatrix}$$",
            "text/plain": [
              "<IPython.core.display.Math object>"
            ]
          },
          "metadata": {
            "tags": []
          },
          "execution_count": 66
        }
      ]
    },
    {
      "cell_type": "code",
      "metadata": {
        "colab": {
          "base_uri": "https://localhost:8080/",
          "height": 92
        },
        "id": "-45I9eQSH4Tz",
        "outputId": "49d5c6b7-aa91-4cbf-835e-971aa73c6cd8"
      },
      "source": [
        "qc = QuantumCircuit(2)\n",
        "qc.x(1)\n",
        "qc.draw()"
      ],
      "execution_count": null,
      "outputs": [
        {
          "output_type": "execute_result",
          "data": {
            "text/html": [
              "<pre style=\"word-wrap: normal;white-space: pre;background: #fff0;line-height: 1.1;font-family: &quot;Courier New&quot;,Courier,monospace\">          \n",
              "q_0: ─────\n",
              "     ┌───┐\n",
              "q_1: ┤ X ├\n",
              "     └───┘</pre>"
            ],
            "text/plain": [
              "          \n",
              "q_0: ─────\n",
              "     ┌───┐\n",
              "q_1: ┤ X ├\n",
              "     └───┘"
            ]
          },
          "metadata": {
            "tags": []
          },
          "execution_count": 67
        }
      ]
    },
    {
      "cell_type": "code",
      "metadata": {
        "colab": {
          "base_uri": "https://localhost:8080/",
          "height": 153
        },
        "id": "fK_QYgTDKjJb",
        "outputId": "4bc79fa0-b53f-4ea3-a893-b212de37366d"
      },
      "source": [
        "# Simulate the unitary\n",
        "usim = Aer.get_backend('unitary_simulator')\n",
        "qobj = assemble(qc)\n",
        "unitary = usim.run(qobj).result().get_unitary()\n",
        "# Display the results:\n",
        "array_to_latex(unitary, pretext=\"\\\\text{Circuit = } \")"
      ],
      "execution_count": null,
      "outputs": [
        {
          "output_type": "display_data",
          "data": {
            "text/latex": "$$\n\\text{Circuit = } \\begin{bmatrix}\n0 & 0 & 1 & 0  \\\\\n0 & 0 & 0 & 1  \\\\\n1 & 0 & 0 & 0  \\\\\n0 & 1 & 0 & 0  \\\\\n\\end{bmatrix}\n$$\n$$",
            "text/plain": [
              "<IPython.core.display.Math object>"
            ]
          },
          "metadata": {
            "tags": []
          }
        }
      ]
    },
    {
      "cell_type": "code",
      "metadata": {
        "colab": {
          "base_uri": "https://localhost:8080/",
          "height": 98
        },
        "id": "9qo79rrbKkwQ",
        "outputId": "492a65f4-84b7-473d-dda3-7ffe74db52ba"
      },
      "source": [
        "Math(r\"\\begin{bmatrix}  0 & 0 & 1 & 0  \\\\ 0 & 0 & 0 & 1  \\\\ 1 & 0 & 0 & 0  \\\\ 0 & 1 & 0 & 0 \\end{bmatrix}\")"
      ],
      "execution_count": null,
      "outputs": [
        {
          "output_type": "execute_result",
          "data": {
            "text/latex": "$$\\begin{bmatrix}  0 & 0 & 1 & 0  \\\\ 0 & 0 & 0 & 1  \\\\ 1 & 0 & 0 & 0  \\\\ 0 & 1 & 0 & 0 \\end{bmatrix}$$",
            "text/plain": [
              "<IPython.core.display.Math object>"
            ]
          },
          "metadata": {
            "tags": []
          },
          "execution_count": 69
        }
      ]
    },
    {
      "cell_type": "code",
      "metadata": {
        "colab": {
          "base_uri": "https://localhost:8080/",
          "height": 92
        },
        "id": "PkK5CG7nKy1b",
        "outputId": "47fdbbf8-ddb0-4501-d3e5-bcc431198651"
      },
      "source": [
        "qc = QuantumCircuit(2)\n",
        "# Apply CNOT\n",
        "qc.cx(0,1)\n",
        "# See the circuit:\n",
        "qc.draw()\n"
      ],
      "execution_count": null,
      "outputs": [
        {
          "output_type": "execute_result",
          "data": {
            "text/html": [
              "<pre style=\"word-wrap: normal;white-space: pre;background: #fff0;line-height: 1.1;font-family: &quot;Courier New&quot;,Courier,monospace\">          \n",
              "q_0: ──■──\n",
              "     ┌─┴─┐\n",
              "q_1: ┤ X ├\n",
              "     └───┘</pre>"
            ],
            "text/plain": [
              "          \n",
              "q_0: ──■──\n",
              "     ┌─┴─┐\n",
              "q_1: ┤ X ├\n",
              "     └───┘"
            ]
          },
          "metadata": {
            "tags": []
          },
          "execution_count": 70
        }
      ]
    },
    {
      "cell_type": "code",
      "metadata": {
        "colab": {
          "base_uri": "https://localhost:8080/",
          "height": 153
        },
        "id": "YfahSvYeK3Yx",
        "outputId": "4c27eb91-d4af-48ad-c8fe-313554b840b4"
      },
      "source": [
        "# Simulate the unitary\n",
        "usim = Aer.get_backend('unitary_simulator')\n",
        "qobj = assemble(qc)\n",
        "unitary = usim.run(qobj).result().get_unitary()\n",
        "# Display the results:\n",
        "array_to_latex(unitary, pretext=\"\\\\text{Circuit = } \")"
      ],
      "execution_count": null,
      "outputs": [
        {
          "output_type": "display_data",
          "data": {
            "text/latex": "$$\n\\text{Circuit = } \\begin{bmatrix}\n1 & 0 & 0 & 0  \\\\\n0 & 0 & 0 & 1  \\\\\n0 & 0 & 1 & 0  \\\\\n0 & 1 & 0 & 0  \\\\\n\\end{bmatrix}\n$$\n$$",
            "text/plain": [
              "<IPython.core.display.Math object>"
            ]
          },
          "metadata": {
            "tags": []
          }
        }
      ]
    },
    {
      "cell_type": "code",
      "metadata": {
        "colab": {
          "base_uri": "https://localhost:8080/",
          "height": 98
        },
        "id": "qy0TM6yIK73t",
        "outputId": "4626c3b7-146b-4a08-bf59-5d2569ecb293"
      },
      "source": [
        "Math(r\"\\begin{bmatrix}  1 & 0 & 0 & 0  \\\\ 0 & 0 & 0 & 1  \\\\ 0 & 0 & 1 & 0  \\\\ 0 & 1 & 0 & 0 \\end{bmatrix}\")"
      ],
      "execution_count": null,
      "outputs": [
        {
          "output_type": "execute_result",
          "data": {
            "text/latex": "$$\\begin{bmatrix}  1 & 0 & 0 & 0  \\\\ 0 & 0 & 0 & 1  \\\\ 0 & 0 & 1 & 0  \\\\ 0 & 1 & 0 & 0 \\end{bmatrix}$$",
            "text/plain": [
              "<IPython.core.display.Math object>"
            ]
          },
          "metadata": {
            "tags": []
          },
          "execution_count": 72
        }
      ]
    },
    {
      "cell_type": "code",
      "metadata": {
        "colab": {
          "base_uri": "https://localhost:8080/",
          "height": 92
        },
        "id": "3x--xqe2LCeL",
        "outputId": "8e9534df-7a38-4f11-e14b-09b932b42f0f"
      },
      "source": [
        "qc = QuantumCircuit(2)\n",
        "# Apply H-gate to the first:\n",
        "qc.h(0)\n",
        "# Apply a CNOT:\n",
        "qc.cx(0,1)\n",
        "qc.draw()"
      ],
      "execution_count": null,
      "outputs": [
        {
          "output_type": "execute_result",
          "data": {
            "text/html": [
              "<pre style=\"word-wrap: normal;white-space: pre;background: #fff0;line-height: 1.1;font-family: &quot;Courier New&quot;,Courier,monospace\">     ┌───┐     \n",
              "q_0: ┤ H ├──■──\n",
              "     └───┘┌─┴─┐\n",
              "q_1: ─────┤ X ├\n",
              "          └───┘</pre>"
            ],
            "text/plain": [
              "     ┌───┐     \n",
              "q_0: ┤ H ├──■──\n",
              "     └───┘┌─┴─┐\n",
              "q_1: ─────┤ X ├\n",
              "          └───┘"
            ]
          },
          "metadata": {
            "tags": []
          },
          "execution_count": 73
        }
      ]
    },
    {
      "cell_type": "code",
      "metadata": {
        "colab": {
          "base_uri": "https://localhost:8080/",
          "height": 105
        },
        "id": "SaNyjuOrLGi9",
        "outputId": "56a79361-6922-4006-cc3e-f60f6ebccb63"
      },
      "source": [
        "# Let's get the result:\n",
        "qobj = assemble(qc)\n",
        "result = svsim.run(qobj).result()\n",
        "# Print the statevector neatly:\n",
        "final_state = result.get_statevector()\n",
        "array_to_latex(final_state, pretext=\"\\\\text{Statevector = }\")"
      ],
      "execution_count": null,
      "outputs": [
        {
          "output_type": "display_data",
          "data": {
            "text/latex": "$$\n\\text{Statevector = }\\begin{bmatrix}\n\\tfrac{1}{\\sqrt{2}} \\\\\n0 \\\\\n0 \\\\\n\\tfrac{1}{\\sqrt{2}}\n\\end{bmatrix}\n$$",
            "text/plain": [
              "<IPython.core.display.Math object>"
            ]
          },
          "metadata": {
            "tags": []
          }
        }
      ]
    },
    {
      "cell_type": "markdown",
      "metadata": {
        "id": "wzKhqECrLlW_"
      },
      "source": [
        "#simulation time"
      ]
    },
    {
      "cell_type": "code",
      "metadata": {
        "id": "GGx6UPveLk9L"
      },
      "source": [
        "# randomly assigned output variables based on the input pixel values(0-1)\n",
        "\n",
        "input_pixel0 = 70/255\n",
        "input_pixel1 = 4/255\n",
        "input_pixel2 = 30/255\n",
        "input_pixel3 = 150/255\n",
        "\n",
        "theta0 = input_pixel0 * pi/2\n",
        "theta1 = input_pixel1 * pi/2\n",
        "theta2 = input_pixel2 * pi/2\n",
        "theta3 = input_pixel3 * pi/2\n",
        "\n",
        "theta0 =  pi/2\n",
        "theta1 =  pi/2\n",
        "theta2 = pi/2\n",
        "theta3 = pi/2"
      ],
      "execution_count": null,
      "outputs": []
    },
    {
      "cell_type": "code",
      "metadata": {
        "colab": {
          "base_uri": "https://localhost:8080/",
          "height": 152
        },
        "id": "L51QvKSHLK3Y",
        "outputId": "f307d425-96eb-4ab7-aa32-19563c582d9c"
      },
      "source": [
        "qc = QuantumCircuit(4)\n",
        "# Apply Rz-gate to the first:\n",
        "qc.ry(theta=theta0, qubit=0)\n",
        "qc.ry(theta=theta1, qubit=1)\n",
        "qc.ry(theta=theta2, qubit=2)\n",
        "qc.ry(theta=theta3, qubit=3)\n",
        "# Apply a CNOT:\n",
        "qc.cx(0,1)\n",
        "qc.cx(2,3)\n",
        "qc.cx(1,2)\n",
        "qc.draw()"
      ],
      "execution_count": null,
      "outputs": [
        {
          "output_type": "execute_result",
          "data": {
            "text/html": [
              "<pre style=\"word-wrap: normal;white-space: pre;background: #fff0;line-height: 1.1;font-family: &quot;Courier New&quot;,Courier,monospace\">     ┌─────────┐          \n",
              "q_0: ┤ RY(π/2) ├──■───────\n",
              "     ├─────────┤┌─┴─┐     \n",
              "q_1: ┤ RY(π/2) ├┤ X ├──■──\n",
              "     ├─────────┤└───┘┌─┴─┐\n",
              "q_2: ┤ RY(π/2) ├──■──┤ X ├\n",
              "     ├─────────┤┌─┴─┐└───┘\n",
              "q_3: ┤ RY(π/2) ├┤ X ├─────\n",
              "     └─────────┘└───┘     </pre>"
            ],
            "text/plain": [
              "     ┌─────────┐          \n",
              "q_0: ┤ RY(π/2) ├──■───────\n",
              "     ├─────────┤┌─┴─┐     \n",
              "q_1: ┤ RY(π/2) ├┤ X ├──■──\n",
              "     ├─────────┤└───┘┌─┴─┐\n",
              "q_2: ┤ RY(π/2) ├──■──┤ X ├\n",
              "     ├─────────┤┌─┴─┐└───┘\n",
              "q_3: ┤ RY(π/2) ├┤ X ├─────\n",
              "     └─────────┘└───┘     "
            ]
          },
          "metadata": {
            "tags": []
          },
          "execution_count": 87
        }
      ]
    },
    {
      "cell_type": "code",
      "metadata": {
        "colab": {
          "base_uri": "https://localhost:8080/",
          "height": 377
        },
        "id": "_5VNV8QlNc0D",
        "outputId": "1f94ce86-4eff-4d5d-86c5-3bd3a298a5df"
      },
      "source": [
        "# Simulate the unitary\n",
        "usim = Aer.get_backend('unitary_simulator')\n",
        "qobj = assemble(qc)\n",
        "unitary = usim.run(qobj).result().get_unitary()\n",
        "# Display the results:\n",
        "array_to_latex(unitary, pretext=\"\\\\text{Circuit = } \")"
      ],
      "execution_count": null,
      "outputs": [
        {
          "output_type": "display_data",
          "data": {
            "text/latex": "$$\n\\text{Circuit = } \\begin{bmatrix}\n\\tfrac{1}{4} & -\\tfrac{1}{4} & -\\tfrac{1}{4} & \\tfrac{1}{4} & -\\tfrac{1}{4} & \\tfrac{1}{4} & \\tfrac{1}{4} & -\\tfrac{1}{4} & -\\tfrac{1}{4} & \\tfrac{1}{4} & \\tfrac{1}{4} & -\\tfrac{1}{4} & \\tfrac{1}{4} & -\\tfrac{1}{4} & -\\tfrac{1}{4} & \\tfrac{1}{4}  \\\\\n\\tfrac{1}{4} & \\tfrac{1}{4} & \\tfrac{1}{4} & \\tfrac{1}{4} & -\\tfrac{1}{4} & -\\tfrac{1}{4} & -\\tfrac{1}{4} & -\\tfrac{1}{4} & -\\tfrac{1}{4} & -\\tfrac{1}{4} & -\\tfrac{1}{4} & -\\tfrac{1}{4} & \\tfrac{1}{4} & \\tfrac{1}{4} & \\tfrac{1}{4} & \\tfrac{1}{4}  \\\\\n\\tfrac{1}{4} & -\\tfrac{1}{4} & \\tfrac{1}{4} & -\\tfrac{1}{4} & \\tfrac{1}{4} & -\\tfrac{1}{4} & \\tfrac{1}{4} & -\\tfrac{1}{4} & \\tfrac{1}{4} & -\\tfrac{1}{4} & \\tfrac{1}{4} & -\\tfrac{1}{4} & \\tfrac{1}{4} & -\\tfrac{1}{4} & \\tfrac{1}{4} & -\\tfrac{1}{4}  \\\\\n\\tfrac{1}{4} & \\tfrac{1}{4} & -\\tfrac{1}{4} & -\\tfrac{1}{4} & \\tfrac{1}{4} & \\tfrac{1}{4} & -\\tfrac{1}{4} & -\\tfrac{1}{4} & \\tfrac{1}{4} & \\tfrac{1}{4} & -\\tfrac{1}{4} & -\\tfrac{1}{4} & \\tfrac{1}{4} & \\tfrac{1}{4} & -\\tfrac{1}{4} & -\\tfrac{1}{4}  \\\\\n\\tfrac{1}{4} & -\\tfrac{1}{4} & -\\tfrac{1}{4} & \\tfrac{1}{4} & \\tfrac{1}{4} & -\\tfrac{1}{4} & -\\tfrac{1}{4} & \\tfrac{1}{4} & \\tfrac{1}{4} & -\\tfrac{1}{4} & -\\tfrac{1}{4} & \\tfrac{1}{4} & \\tfrac{1}{4} & -\\tfrac{1}{4} & -\\tfrac{1}{4} & \\tfrac{1}{4}  \\\\\n\\tfrac{1}{4} & \\tfrac{1}{4} & \\tfrac{1}{4} & \\tfrac{1}{4} & \\tfrac{1}{4} & \\tfrac{1}{4} & \\tfrac{1}{4} & \\tfrac{1}{4} & \\tfrac{1}{4} & \\tfrac{1}{4} & \\tfrac{1}{4} & \\tfrac{1}{4} & \\tfrac{1}{4} & \\tfrac{1}{4} & \\tfrac{1}{4} & \\tfrac{1}{4}  \\\\\n\\tfrac{1}{4} & -\\tfrac{1}{4} & \\tfrac{1}{4} & -\\tfrac{1}{4} & -\\tfrac{1}{4} & \\tfrac{1}{4} & -\\tfrac{1}{4} & \\tfrac{1}{4} & -\\tfrac{1}{4} & \\tfrac{1}{4} & -\\tfrac{1}{4} & \\tfrac{1}{4} & \\tfrac{1}{4} & -\\tfrac{1}{4} & \\tfrac{1}{4} & -\\tfrac{1}{4}  \\\\\n\\tfrac{1}{4} & \\tfrac{1}{4} & -\\tfrac{1}{4} & -\\tfrac{1}{4} & -\\tfrac{1}{4} & -\\tfrac{1}{4} & \\tfrac{1}{4} & \\tfrac{1}{4} & -\\tfrac{1}{4} & -\\tfrac{1}{4} & \\tfrac{1}{4} & \\tfrac{1}{4} & \\tfrac{1}{4} & \\tfrac{1}{4} & -\\tfrac{1}{4} & -\\tfrac{1}{4}  \\\\\n\\tfrac{1}{4} & -\\tfrac{1}{4} & -\\tfrac{1}{4} & \\tfrac{1}{4} & -\\tfrac{1}{4} & \\tfrac{1}{4} & \\tfrac{1}{4} & -\\tfrac{1}{4} & \\tfrac{1}{4} & -\\tfrac{1}{4} & -\\tfrac{1}{4} & \\tfrac{1}{4} & -\\tfrac{1}{4} & \\tfrac{1}{4} & \\tfrac{1}{4} & -\\tfrac{1}{4}  \\\\\n\\tfrac{1}{4} & \\tfrac{1}{4} & \\tfrac{1}{4} & \\tfrac{1}{4} & -\\tfrac{1}{4} & -\\tfrac{1}{4} & -\\tfrac{1}{4} & -\\tfrac{1}{4} & \\tfrac{1}{4} & \\tfrac{1}{4} & \\tfrac{1}{4} & \\tfrac{1}{4} & -\\tfrac{1}{4} & -\\tfrac{1}{4} & -\\tfrac{1}{4} & -\\tfrac{1}{4}  \\\\\n\\tfrac{1}{4} & -\\tfrac{1}{4} & \\tfrac{1}{4} & -\\tfrac{1}{4} & \\tfrac{1}{4} & -\\tfrac{1}{4} & \\tfrac{1}{4} & -\\tfrac{1}{4} & -\\tfrac{1}{4} & \\tfrac{1}{4} & -\\tfrac{1}{4} & \\tfrac{1}{4} & -\\tfrac{1}{4} & \\tfrac{1}{4} & -\\tfrac{1}{4} & \\tfrac{1}{4}  \\\\\n\\tfrac{1}{4} & \\tfrac{1}{4} & -\\tfrac{1}{4} & -\\tfrac{1}{4} & \\tfrac{1}{4} & \\tfrac{1}{4} & -\\tfrac{1}{4} & -\\tfrac{1}{4} & -\\tfrac{1}{4} & -\\tfrac{1}{4} & \\tfrac{1}{4} & \\tfrac{1}{4} & -\\tfrac{1}{4} & -\\tfrac{1}{4} & \\tfrac{1}{4} & \\tfrac{1}{4}  \\\\\n\\tfrac{1}{4} & -\\tfrac{1}{4} & -\\tfrac{1}{4} & \\tfrac{1}{4} & \\tfrac{1}{4} & -\\tfrac{1}{4} & -\\tfrac{1}{4} & \\tfrac{1}{4} & -\\tfrac{1}{4} & \\tfrac{1}{4} & \\tfrac{1}{4} & -\\tfrac{1}{4} & -\\tfrac{1}{4} & \\tfrac{1}{4} & \\tfrac{1}{4} & -\\tfrac{1}{4}  \\\\\n\\tfrac{1}{4} & \\tfrac{1}{4} & \\tfrac{1}{4} & \\tfrac{1}{4} & \\tfrac{1}{4} & \\tfrac{1}{4} & \\tfrac{1}{4} & \\tfrac{1}{4} & -\\tfrac{1}{4} & -\\tfrac{1}{4} & -\\tfrac{1}{4} & -\\tfrac{1}{4} & -\\tfrac{1}{4} & -\\tfrac{1}{4} & -\\tfrac{1}{4} & -\\tfrac{1}{4}  \\\\\n\\tfrac{1}{4} & -\\tfrac{1}{4} & \\tfrac{1}{4} & -\\tfrac{1}{4} & -\\tfrac{1}{4} & \\tfrac{1}{4} & -\\tfrac{1}{4} & \\tfrac{1}{4} & \\tfrac{1}{4} & -\\tfrac{1}{4} & \\tfrac{1}{4} & -\\tfrac{1}{4} & -\\tfrac{1}{4} & \\tfrac{1}{4} & -\\tfrac{1}{4} & \\tfrac{1}{4}  \\\\\n\\tfrac{1}{4} & \\tfrac{1}{4} & -\\tfrac{1}{4} & -\\tfrac{1}{4} & -\\tfrac{1}{4} & -\\tfrac{1}{4} & \\tfrac{1}{4} & \\tfrac{1}{4} & \\tfrac{1}{4} & \\tfrac{1}{4} & -\\tfrac{1}{4} & -\\tfrac{1}{4} & -\\tfrac{1}{4} & -\\tfrac{1}{4} & \\tfrac{1}{4} & \\tfrac{1}{4}  \\\\\n\\end{bmatrix}\n$$\n$$",
            "text/plain": [
              "<IPython.core.display.Math object>"
            ]
          },
          "metadata": {
            "tags": []
          }
        }
      ]
    },
    {
      "cell_type": "code",
      "metadata": {
        "colab": {
          "base_uri": "https://localhost:8080/",
          "height": 363
        },
        "id": "5tvkZxELNewo",
        "outputId": "8488c640-0baa-47dc-9ab4-26182235bf84"
      },
      "source": [
        "Math(r\"\\begin{bmatrix}  0.87064 & -0.19067 & -0.01073 & 0.00235 & -0.08068 & 0.01767 & 0.00099 & -0.00022 & -0.43353 & 0.09494 & 0.00534 & -0.00117 & 0.04017 & -0.0088 & -0.00049 & 0.00011  \\\\ 0.00235 & 0.01073 & 0.19067 & 0.87064 & -0.00022 & -0.00099 & -0.01767 & -0.08068 & -0.00117 & -0.00534 & -0.09494 & -0.43353 & 0.00011 & 0.00049 & 0.0088 & 0.04017  \\\\ 0.00049 & -0.00011 & 0.04017 & -0.0088 & 0.00534 & -0.00117 & 0.43353 & -0.09494 & 0.00099 & -0.00022 & 0.08068 & -0.01767 & 0.01073 & -0.00235 & 0.87064 & -0.19067  \\\\ 0.0088 & 0.04017 & -0.00011 & -0.00049 & 0.09494 & 0.43353 & -0.00117 & -0.00534 & 0.01767 & 0.08068 & -0.00022 & -0.00099 & 0.19067 & 0.87064 & -0.00235 & -0.01073  \\\\ 0.04017 & -0.0088 & -0.00049 & 0.00011 & 0.43353 & -0.09494 & -0.00534 & 0.00117 & 0.08068 & -0.01767 & -0.00099 & 0.00022 & 0.87064 & -0.19067 & -0.01073 & 0.00235  \\\\ 0.00011 & 0.00049 & 0.0088 & 0.04017 & 0.00117 & 0.00534 & 0.09494 & 0.43353 & 0.00022 & 0.00099 & 0.01767 & 0.08068 & 0.00235 & 0.01073 & 0.19067 & 0.87064  \\\\ 0.01073 & -0.00235 & 0.87064 & -0.19067 & -0.00099 & 0.00022 & -0.08068 & 0.01767 & -0.00534 & 0.00117 & -0.43353 & 0.09494 & 0.00049 & -0.00011 & 0.04017 & -0.0088  \\\\ 0.19067 & 0.87064 & -0.00235 & -0.01073 & -0.01767 & -0.08068 & 0.00022 & 0.00099 & -0.09494 & -0.43353 & 0.00117 & 0.00534 & 0.0088 & 0.04017 & -0.00011 & -0.00049  \\\\ 0.43353 & -0.09494 & -0.00534 & 0.00117 & -0.04017 & 0.0088 & 0.00049 & -0.00011 & 0.87064 & -0.19067 & -0.01073 & 0.00235 & -0.08068 & 0.01767 & 0.00099 & -0.00022  \\\\ 0.00117 & 0.00534 & 0.09494 & 0.43353 & -0.00011 & -0.00049 & -0.0088 & -0.04017 & 0.00235 & 0.01073 & 0.19067 & 0.87064 & -0.00022 & -0.00099 & -0.01767 & -0.08068  \\\\ 0.00099 & -0.00022 & 0.08068 & -0.01767 & 0.01073 & -0.00235 & 0.87064 & -0.19067 & -0.00049 & 0.00011 & -0.04017 & 0.0088 & -0.00534 & 0.00117 & -0.43353 & 0.09494  \\\\ 0.01767 & 0.08068 & -0.00022 & -0.00099 & 0.19067 & 0.87064 & -0.00235 & -0.01073 & -0.0088 & -0.04017 & 0.00011 & 0.00049 & -0.09494 & -0.43353 & 0.00117 & 0.00534  \\\\ 0.08068 & -0.01767 & -0.00099 & 0.00022 & 0.87064 & -0.19067 & -0.01073 & 0.00235 & -0.04017 & 0.0088 & 0.00049 & -0.00011 & -0.43353 & 0.09494 & 0.00534 & -0.00117  \\\\ 0.00022 & 0.00099 & 0.01767 & 0.08068 & 0.00235 & 0.01073 & 0.19067 & 0.87064 & -0.00011 & -0.00049 & -0.0088 & -0.04017 & -0.00117 & -0.00534 & -0.09494 & -0.43353  \\\\ 0.00534 & -0.00117 & 0.43353 & -0.09494 & -0.00049 & 0.00011 & -0.04017 & 0.0088 & 0.01073 & -0.00235 & 0.87064 & -0.19067 & -0.00099 & 0.00022 & -0.08068 & 0.01767  \\\\ 0.09494 & 0.43353 & -0.00117 & -0.00534 & -0.0088 & -0.04017 & 0.00011 & 0.00049 & 0.19067 & 0.87064 & -0.00235 & -0.01073 & -0.01767 & -0.08068 & 0.00022 & 0.00099 \\end{bmatrix}\")"
      ],
      "execution_count": null,
      "outputs": [
        {
          "output_type": "execute_result",
          "data": {
            "text/latex": "$$\\begin{bmatrix}  0.87064 & -0.19067 & -0.01073 & 0.00235 & -0.08068 & 0.01767 & 0.00099 & -0.00022 & -0.43353 & 0.09494 & 0.00534 & -0.00117 & 0.04017 & -0.0088 & -0.00049 & 0.00011  \\\\ 0.00235 & 0.01073 & 0.19067 & 0.87064 & -0.00022 & -0.00099 & -0.01767 & -0.08068 & -0.00117 & -0.00534 & -0.09494 & -0.43353 & 0.00011 & 0.00049 & 0.0088 & 0.04017  \\\\ 0.00049 & -0.00011 & 0.04017 & -0.0088 & 0.00534 & -0.00117 & 0.43353 & -0.09494 & 0.00099 & -0.00022 & 0.08068 & -0.01767 & 0.01073 & -0.00235 & 0.87064 & -0.19067  \\\\ 0.0088 & 0.04017 & -0.00011 & -0.00049 & 0.09494 & 0.43353 & -0.00117 & -0.00534 & 0.01767 & 0.08068 & -0.00022 & -0.00099 & 0.19067 & 0.87064 & -0.00235 & -0.01073  \\\\ 0.04017 & -0.0088 & -0.00049 & 0.00011 & 0.43353 & -0.09494 & -0.00534 & 0.00117 & 0.08068 & -0.01767 & -0.00099 & 0.00022 & 0.87064 & -0.19067 & -0.01073 & 0.00235  \\\\ 0.00011 & 0.00049 & 0.0088 & 0.04017 & 0.00117 & 0.00534 & 0.09494 & 0.43353 & 0.00022 & 0.00099 & 0.01767 & 0.08068 & 0.00235 & 0.01073 & 0.19067 & 0.87064  \\\\ 0.01073 & -0.00235 & 0.87064 & -0.19067 & -0.00099 & 0.00022 & -0.08068 & 0.01767 & -0.00534 & 0.00117 & -0.43353 & 0.09494 & 0.00049 & -0.00011 & 0.04017 & -0.0088  \\\\ 0.19067 & 0.87064 & -0.00235 & -0.01073 & -0.01767 & -0.08068 & 0.00022 & 0.00099 & -0.09494 & -0.43353 & 0.00117 & 0.00534 & 0.0088 & 0.04017 & -0.00011 & -0.00049  \\\\ 0.43353 & -0.09494 & -0.00534 & 0.00117 & -0.04017 & 0.0088 & 0.00049 & -0.00011 & 0.87064 & -0.19067 & -0.01073 & 0.00235 & -0.08068 & 0.01767 & 0.00099 & -0.00022  \\\\ 0.00117 & 0.00534 & 0.09494 & 0.43353 & -0.00011 & -0.00049 & -0.0088 & -0.04017 & 0.00235 & 0.01073 & 0.19067 & 0.87064 & -0.00022 & -0.00099 & -0.01767 & -0.08068  \\\\ 0.00099 & -0.00022 & 0.08068 & -0.01767 & 0.01073 & -0.00235 & 0.87064 & -0.19067 & -0.00049 & 0.00011 & -0.04017 & 0.0088 & -0.00534 & 0.00117 & -0.43353 & 0.09494  \\\\ 0.01767 & 0.08068 & -0.00022 & -0.00099 & 0.19067 & 0.87064 & -0.00235 & -0.01073 & -0.0088 & -0.04017 & 0.00011 & 0.00049 & -0.09494 & -0.43353 & 0.00117 & 0.00534  \\\\ 0.08068 & -0.01767 & -0.00099 & 0.00022 & 0.87064 & -0.19067 & -0.01073 & 0.00235 & -0.04017 & 0.0088 & 0.00049 & -0.00011 & -0.43353 & 0.09494 & 0.00534 & -0.00117  \\\\ 0.00022 & 0.00099 & 0.01767 & 0.08068 & 0.00235 & 0.01073 & 0.19067 & 0.87064 & -0.00011 & -0.00049 & -0.0088 & -0.04017 & -0.00117 & -0.00534 & -0.09494 & -0.43353  \\\\ 0.00534 & -0.00117 & 0.43353 & -0.09494 & -0.00049 & 0.00011 & -0.04017 & 0.0088 & 0.01073 & -0.00235 & 0.87064 & -0.19067 & -0.00099 & 0.00022 & -0.08068 & 0.01767  \\\\ 0.09494 & 0.43353 & -0.00117 & -0.00534 & -0.0088 & -0.04017 & 0.00011 & 0.00049 & 0.19067 & 0.87064 & -0.00235 & -0.01073 & -0.01767 & -0.08068 & 0.00022 & 0.00099 \\end{bmatrix}$$",
            "text/plain": [
              "<IPython.core.display.Math object>"
            ]
          },
          "metadata": {
            "tags": []
          },
          "execution_count": 85
        }
      ]
    },
    {
      "cell_type": "code",
      "metadata": {
        "colab": {
          "base_uri": "https://localhost:8080/",
          "height": 343
        },
        "id": "IX9R717BLgRv",
        "outputId": "7446bf9d-a2c4-454a-f9c4-28d484af38bd"
      },
      "source": [
        "# Let's get the result:\n",
        "qobj = assemble(qc)\n",
        "result = svsim.run(qobj).result()\n",
        "# Print the statevector neatly:\n",
        "final_state = result.get_statevector()\n",
        "array_to_latex(final_state, pretext=\"\\\\text{Statevector = }\")"
      ],
      "execution_count": null,
      "outputs": [
        {
          "output_type": "display_data",
          "data": {
            "text/latex": "$$\n\\text{Statevector = }\\begin{bmatrix}\n0.87064 \\\\\n0.00235 \\\\\n0.00049 \\\\\n0.0088 \\\\\n0.04017 \\\\\n0.00011 \\\\\n0.01073 \\\\\n0.19067 \\\\\n0.43353 \\\\\n0.00117 \\\\\n0.00099 \\\\\n0.01767 \\\\\n0.08068 \\\\\n0.00022 \\\\\n0.00534 \\\\\n0.09494\n\\end{bmatrix}\n$$",
            "text/plain": [
              "<IPython.core.display.Math object>"
            ]
          },
          "metadata": {
            "tags": []
          }
        }
      ]
    },
    {
      "cell_type": "markdown",
      "metadata": {
        "id": "sCJEBKypdEMW"
      },
      "source": [
        "found out that because tensorflow runs in eager mode for this, can't implement in a custom convolutional network. (Qiskit numpy based)"
      ]
    },
    {
      "cell_type": "code",
      "metadata": {
        "id": "27Ah2hwEMqRF"
      },
      "source": [
        ""
      ],
      "execution_count": null,
      "outputs": []
    }
  ]
}