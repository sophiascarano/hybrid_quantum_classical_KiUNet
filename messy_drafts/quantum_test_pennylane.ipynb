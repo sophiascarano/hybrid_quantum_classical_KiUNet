{
  "nbformat": 4,
  "nbformat_minor": 0,
  "metadata": {
    "colab": {
      "name": "quantum_test_pennylane.ipynb",
      "provenance": [],
      "authorship_tag": "ABX9TyPYZwzCuNnoKSMHh1HYQhpL",
      "include_colab_link": true
    },
    "kernelspec": {
      "name": "python3",
      "display_name": "Python 3"
    },
    "language_info": {
      "name": "python"
    }
  },
  "cells": [
    {
      "cell_type": "markdown",
      "metadata": {
        "id": "view-in-github",
        "colab_type": "text"
      },
      "source": [
        "<a href=\"https://colab.research.google.com/github/sophiascarano/hybrid_quantum_classical_KiUNet/blob/main/messy_drafts/quantum_test_pennylane.ipynb\" target=\"_parent\"><img src=\"https://colab.research.google.com/assets/colab-badge.svg\" alt=\"Open In Colab\"/></a>"
      ]
    },
    {
      "cell_type": "markdown",
      "metadata": {
        "id": "WMScbWWgs5WK"
      },
      "source": [
        "#PennyLane"
      ]
    },
    {
      "cell_type": "code",
      "metadata": {
        "colab": {
          "base_uri": "https://localhost:8080/"
        },
        "id": "w-1e5AdQs9qi",
        "outputId": "cc4127ce-6405-415b-b5f0-52ac152c3c2d"
      },
      "source": [
        "!pip install pennylane"
      ],
      "execution_count": null,
      "outputs": [
        {
          "output_type": "stream",
          "text": [
            "Requirement already satisfied: pennylane in /usr/local/lib/python3.7/dist-packages (0.15.1)\n",
            "Requirement already satisfied: scipy in /usr/local/lib/python3.7/dist-packages (from pennylane) (1.4.1)\n",
            "Requirement already satisfied: numpy in /usr/local/lib/python3.7/dist-packages (from pennylane) (1.19.5)\n",
            "Requirement already satisfied: networkx in /usr/local/lib/python3.7/dist-packages (from pennylane) (2.5.1)\n",
            "Requirement already satisfied: semantic-version==2.6 in /usr/local/lib/python3.7/dist-packages (from pennylane) (2.6.0)\n",
            "Requirement already satisfied: autograd in /usr/local/lib/python3.7/dist-packages (from pennylane) (1.3)\n",
            "Requirement already satisfied: toml in /usr/local/lib/python3.7/dist-packages (from pennylane) (0.10.2)\n",
            "Requirement already satisfied: appdirs in /usr/local/lib/python3.7/dist-packages (from pennylane) (1.4.4)\n",
            "Requirement already satisfied: decorator<5,>=4.3 in /usr/local/lib/python3.7/dist-packages (from networkx->pennylane) (4.4.2)\n",
            "Requirement already satisfied: future>=0.15.2 in /usr/local/lib/python3.7/dist-packages (from autograd->pennylane) (0.16.0)\n"
          ],
          "name": "stdout"
        }
      ]
    },
    {
      "cell_type": "code",
      "metadata": {
        "id": "PEE6AfK_s27B"
      },
      "source": [
        "import pennylane as qml\n",
        "from pennylane import numpy as np"
      ],
      "execution_count": null,
      "outputs": []
    },
    {
      "cell_type": "code",
      "metadata": {
        "id": "DRTalHQIs21w"
      },
      "source": [
        "#Devices are loaded in PennyLane via the function device()\n",
        "#Here, as we only require a single qubit for this example, we set wires=1.\n",
        "dev1 = qml.device(\"default.qubit\", wires=1)"
      ],
      "execution_count": null,
      "outputs": []
    },
    {
      "cell_type": "markdown",
      "metadata": {
        "id": "iq7DyvA4tQnv"
      },
      "source": [
        "### Constructing the QNode\n",
        "\n",
        "- QNodes are an abstract encapsulation of a quantum function, described by a quantum circuit. QNodes are bound to a particular quantum device, which is used to evaluate expectation and variance values of this circuit.\n",
        "- QNodes can be constructed via the QNode class, or by using the provided qnode() decorator."
      ]
    },
    {
      "cell_type": "code",
      "metadata": {
        "id": "q0P7MqUss2wW"
      },
      "source": [
        "#First, we need to define the quantum function that will be evaluated in the QNode:\n",
        "def circuit(params):\n",
        "    qml.RX(params[0], wires=0) #which wire (or list of wires) is it acting on\n",
        "    qml.RY(params[1], wires=0)\n",
        "    return qml.expval(qml.PauliZ(0)) \n",
        "    #must return a CLASSICAL quantity: single or tuple of measured observables"
      ],
      "execution_count": null,
      "outputs": []
    },
    {
      "cell_type": "markdown",
      "metadata": {
        "id": "ELxwU6iAuIwb"
      },
      "source": [
        "Once we have written the quantum function, we convert it into a QNode running on device dev1 by applying the qnode() decorator. directly above the function definition:"
      ]
    },
    {
      "cell_type": "code",
      "metadata": {
        "id": "NIqDfPiQs2rl"
      },
      "source": [
        "@qml.qnode(dev1)\n",
        "def circuit(params):\n",
        "    qml.RX(params[0], wires=0)\n",
        "    qml.RY(params[1], wires=0)\n",
        "    return qml.expval(qml.PauliZ(0))"
      ],
      "execution_count": null,
      "outputs": []
    },
    {
      "cell_type": "markdown",
      "metadata": {
        "id": "Cc-TY0uMuMuC"
      },
      "source": [
        "Thus, our `circuit()` quantum function is now a `QNode`, which will run on device `dev1` every time it is evaluated."
      ]
    },
    {
      "cell_type": "code",
      "metadata": {
        "colab": {
          "base_uri": "https://localhost:8080/"
        },
        "id": "7AnsGJXes2mp",
        "outputId": "d633996a-6f06-42b7-ffcd-c562242b7790"
      },
      "source": [
        "print(circuit([0.54, 0.12]))\n",
        "#passing in parameters phi = .54 for the RX gate, and phi = .12 for the RY gate"
      ],
      "execution_count": null,
      "outputs": [
        {
          "output_type": "stream",
          "text": [
            "0.8515405859048368\n"
          ],
          "name": "stdout"
        }
      ]
    },
    {
      "cell_type": "markdown",
      "metadata": {
        "id": "PbL6ES_fuqxL"
      },
      "source": [
        "# Calculating Quantum Gradients\n",
        "\n",
        "- The gradient of the function `circuit`, encapsulated within the `QNode`, can be evaluated by utilizing the same quantum device (`dev1`) that we used to evaluate the function itself.\n",
        "- We can differentiate by using the built-in grad() function. This returns another function, representing the gradient (i.e., the vector of partial derivatives) of circuit. The gradient can be evaluated in the same way as the original function:\n",
        "- The function `grad()` itself **returns a function**, representing the derivative of the `QNode` with respect to the argument specified in `argnum`. In this case, the function `circuit` takes one argument (`params`), so we specify `argnum=0`. Because the argument has two elements, the returned gradient is two-dimensional. We can then evaluate this gradient function at any point in the parameter space."
      ]
    },
    {
      "cell_type": "code",
      "metadata": {
        "id": "WnsAtpOls2h6"
      },
      "source": [
        "dcircuit = qml.grad(circuit, argnum=0) \n",
        "#argnum=0 so look at the first (index from zero) arg passed to circuit (which is \"params\")"
      ],
      "execution_count": null,
      "outputs": []
    },
    {
      "cell_type": "code",
      "metadata": {
        "colab": {
          "base_uri": "https://localhost:8080/"
        },
        "id": "uKVLpQ1Qs2dH",
        "outputId": "c9122f8a-fb98-4bc9-86cd-de12cd490a15"
      },
      "source": [
        "print(dcircuit([0.54, 0.12]))"
      ],
      "execution_count": null,
      "outputs": [
        {
          "output_type": "stream",
          "text": [
            "[array(-0.51043865), array(-0.1026782)]\n"
          ],
          "name": "stdout"
        }
      ]
    },
    {
      "cell_type": "markdown",
      "metadata": {
        "id": "fRvETFyav713"
      },
      "source": [
        "So looking at it a different way:\n",
        "- Same as above, but pass the parameters separately instead of a list \"params\""
      ]
    },
    {
      "cell_type": "code",
      "metadata": {
        "id": "4aLVgzwYu7cw"
      },
      "source": [
        "@qml.qnode(dev1)\n",
        "def circuit2(phi1, phi2):\n",
        "  qml.RX(phi1, wires=0)\n",
        "  qml.RY(phi2, wires=0)\n",
        "  return qml.expval(qml.PauliZ(0))"
      ],
      "execution_count": null,
      "outputs": []
    },
    {
      "cell_type": "code",
      "metadata": {
        "colab": {
          "base_uri": "https://localhost:8080/"
        },
        "id": "JhhIDRfIu7Xd",
        "outputId": "4e4312a3-3eee-4752-8a28-33c9de0facb1"
      },
      "source": [
        "dcircuit2 = qml.grad(circuit2, argnum=[0,1])\n",
        "print(dcircuit2(0.54, 0.12))"
      ],
      "execution_count": null,
      "outputs": [
        {
          "output_type": "stream",
          "text": [
            "(array(-0.51043865), array(-0.1026782))\n"
          ],
          "name": "stdout"
        }
      ]
    },
    {
      "cell_type": "markdown",
      "metadata": {
        "id": "CM701CyzgD8P"
      },
      "source": [
        "# great. arrays again - try in torch later\n",
        "\n"
      ]
    },
    {
      "cell_type": "code",
      "metadata": {
        "id": "Dm9b1kvDu7Ru"
      },
      "source": [
        ""
      ],
      "execution_count": null,
      "outputs": []
    },
    {
      "cell_type": "code",
      "metadata": {
        "id": "zZwCzsg1u7MS"
      },
      "source": [
        ""
      ],
      "execution_count": null,
      "outputs": []
    },
    {
      "cell_type": "code",
      "metadata": {
        "id": "un6mxIU8u7Gh"
      },
      "source": [
        ""
      ],
      "execution_count": null,
      "outputs": []
    },
    {
      "cell_type": "code",
      "metadata": {
        "id": "ugdjxmsbu7Cs"
      },
      "source": [
        ""
      ],
      "execution_count": null,
      "outputs": []
    },
    {
      "cell_type": "code",
      "metadata": {
        "id": "5tfs6eWru689"
      },
      "source": [
        ""
      ],
      "execution_count": null,
      "outputs": []
    },
    {
      "cell_type": "code",
      "metadata": {
        "id": "wFWfD9Kcu62S"
      },
      "source": [
        ""
      ],
      "execution_count": null,
      "outputs": []
    },
    {
      "cell_type": "code",
      "metadata": {
        "id": "qGyIZeOnu6vS"
      },
      "source": [
        ""
      ],
      "execution_count": null,
      "outputs": []
    },
    {
      "cell_type": "code",
      "metadata": {
        "id": "99Ov6UbWs2W2"
      },
      "source": [
        ""
      ],
      "execution_count": null,
      "outputs": []
    },
    {
      "cell_type": "markdown",
      "metadata": {
        "id": "rRhr-HqZs3S_"
      },
      "source": [
        "# QISKIT"
      ]
    },
    {
      "cell_type": "code",
      "metadata": {
        "colab": {
          "base_uri": "https://localhost:8080/"
        },
        "id": "PtZbZMgymrHX",
        "outputId": "aa0cad45-0b9c-4b8e-8fcc-2bce6cb5dbbe"
      },
      "source": [
        "!pip install qiskit"
      ],
      "execution_count": null,
      "outputs": [
        {
          "output_type": "stream",
          "text": [
            "Collecting qiskit\n",
            "  Downloading https://files.pythonhosted.org/packages/fd/28/a4665a4690edf37b20127801ab14cd5d08af362edd766536159bd3411d76/qiskit-0.26.0.tar.gz\n",
            "Collecting qiskit-terra==0.17.3\n",
            "\u001b[?25l  Downloading https://files.pythonhosted.org/packages/5b/03/9261e41253c0afed15f8754f203cf2edb18020a3a3809a9ae1dd1c9a06de/qiskit_terra-0.17.3-cp37-cp37m-manylinux2010_x86_64.whl (6.0MB)\n",
            "\u001b[K     |████████████████████████████████| 6.0MB 5.7MB/s \n",
            "\u001b[?25hCollecting qiskit-aer==0.8.2\n",
            "\u001b[?25l  Downloading https://files.pythonhosted.org/packages/c2/d2/6ff15c370b5465b32529b528bf3f4ce1e01f74498be16203aa1c04b67022/qiskit_aer-0.8.2-cp37-cp37m-manylinux2010_x86_64.whl (18.0MB)\n",
            "\u001b[K     |████████████████████████████████| 18.0MB 280kB/s \n",
            "\u001b[?25hCollecting qiskit-ibmq-provider==0.13.1\n",
            "\u001b[?25l  Downloading https://files.pythonhosted.org/packages/be/99/74bbb901f88603a7d850d4889abc06d81ba702e4227151f4a5b66f2631fe/qiskit_ibmq_provider-0.13.1-py3-none-any.whl (228kB)\n",
            "\u001b[K     |████████████████████████████████| 235kB 43.4MB/s \n",
            "\u001b[?25hCollecting qiskit-ignis==0.6.0\n",
            "\u001b[?25l  Downloading https://files.pythonhosted.org/packages/54/be/a13c828e457e09d979667a61bddbd8c7246aafa94e2501b6a9154429cbea/qiskit_ignis-0.6.0-py3-none-any.whl (207kB)\n",
            "\u001b[K     |████████████████████████████████| 215kB 42.6MB/s \n",
            "\u001b[?25hCollecting qiskit-aqua==0.9.1\n",
            "\u001b[?25l  Downloading https://files.pythonhosted.org/packages/88/79/392c57b978decbb24b902344b536af52c40a751aed0ebbaefa8bc2964cb5/qiskit_aqua-0.9.1-py3-none-any.whl (2.1MB)\n",
            "\u001b[K     |████████████████████████████████| 2.1MB 23.3MB/s \n",
            "\u001b[?25hRequirement already satisfied: jsonschema>=2.6 in /usr/local/lib/python3.7/dist-packages (from qiskit-terra==0.17.3->qiskit) (2.6.0)\n",
            "Requirement already satisfied: dill>=0.3 in /usr/local/lib/python3.7/dist-packages (from qiskit-terra==0.17.3->qiskit) (0.3.3)\n",
            "Collecting python-constraint>=1.4\n",
            "  Downloading https://files.pythonhosted.org/packages/37/8b/5f1bc2734ca611943e1d6733ee244238679f6410a10cd45ede55a61a8402/python-constraint-1.4.0.tar.bz2\n",
            "Requirement already satisfied: python-dateutil>=2.8.0 in /usr/local/lib/python3.7/dist-packages (from qiskit-terra==0.17.3->qiskit) (2.8.1)\n",
            "Requirement already satisfied: sympy>=1.3 in /usr/local/lib/python3.7/dist-packages (from qiskit-terra==0.17.3->qiskit) (1.7.1)\n",
            "Collecting ply>=3.10\n",
            "\u001b[?25l  Downloading https://files.pythonhosted.org/packages/a3/58/35da89ee790598a0700ea49b2a66594140f44dec458c07e8e3d4979137fc/ply-3.11-py2.py3-none-any.whl (49kB)\n",
            "\u001b[K     |████████████████████████████████| 51kB 5.5MB/s \n",
            "\u001b[?25hCollecting retworkx>=0.8.0\n",
            "\u001b[?25l  Downloading https://files.pythonhosted.org/packages/1b/92/f007f8b9d88dcd5b90e363967e5d54431a68c5fe06d83400732e3b438084/retworkx-0.8.0-cp37-cp37m-manylinux2010_x86_64.whl (1.0MB)\n",
            "\u001b[K     |████████████████████████████████| 1.0MB 25.7MB/s \n",
            "\u001b[?25hCollecting fastjsonschema>=2.10\n",
            "  Downloading https://files.pythonhosted.org/packages/d1/fb/ea090e917b18320f79be31d754bbe496b715175e865603cfce1eaed2e774/fastjsonschema-2.15.1-py3-none-any.whl\n",
            "Requirement already satisfied: numpy>=1.17 in /usr/local/lib/python3.7/dist-packages (from qiskit-terra==0.17.3->qiskit) (1.19.5)\n",
            "Requirement already satisfied: scipy>=1.4 in /usr/local/lib/python3.7/dist-packages (from qiskit-terra==0.17.3->qiskit) (1.4.1)\n",
            "Requirement already satisfied: psutil>=5 in /usr/local/lib/python3.7/dist-packages (from qiskit-terra==0.17.3->qiskit) (5.4.8)\n",
            "Collecting pybind11>=2.6\n",
            "\u001b[?25l  Downloading https://files.pythonhosted.org/packages/8d/43/7339dbabbc2793718d59703aace4166f53c29ee1c202f6ff5bf8a26c4d91/pybind11-2.6.2-py2.py3-none-any.whl (191kB)\n",
            "\u001b[K     |████████████████████████████████| 194kB 45.2MB/s \n",
            "\u001b[?25hRequirement already satisfied: requests>=2.19 in /usr/local/lib/python3.7/dist-packages (from qiskit-ibmq-provider==0.13.1->qiskit) (2.23.0)\n",
            "Requirement already satisfied: urllib3>=1.21.1 in /usr/local/lib/python3.7/dist-packages (from qiskit-ibmq-provider==0.13.1->qiskit) (1.24.3)\n",
            "Collecting requests-ntlm>=1.1.0\n",
            "  Downloading https://files.pythonhosted.org/packages/03/4b/8b9a1afde8072c4d5710d9fa91433d504325821b038e00237dc8d6d833dc/requests_ntlm-1.1.0-py2.py3-none-any.whl\n",
            "Collecting websockets>=8\n",
            "\u001b[?25l  Downloading https://files.pythonhosted.org/packages/a6/22/805106bab15ba6a98613c96068a65850b7df79ffce440159adf56e9f1009/websockets-9.0.2-cp37-cp37m-manylinux2010_x86_64.whl (103kB)\n",
            "\u001b[K     |████████████████████████████████| 112kB 37.1MB/s \n",
            "\u001b[?25hRequirement already satisfied: nest-asyncio!=1.1.0,>=1.0.0 in /usr/local/lib/python3.7/dist-packages (from qiskit-ibmq-provider==0.13.1->qiskit) (1.5.1)\n",
            "Requirement already satisfied: setuptools>=40.1.0 in /usr/local/lib/python3.7/dist-packages (from qiskit-ignis==0.6.0->qiskit) (56.1.0)\n",
            "Requirement already satisfied: pandas<=1.2.3 in /usr/local/lib/python3.7/dist-packages (from qiskit-aqua==0.9.1->qiskit) (1.1.5)\n",
            "Collecting dlx<=1.0.4\n",
            "  Downloading https://files.pythonhosted.org/packages/54/c0/b8fb5bb727e983b6f5251433ef941b48f38c65bb0bd6ec509e9185bcd406/dlx-1.0.4.tar.gz\n",
            "Collecting quandl<=3.6.0\n",
            "  Downloading https://files.pythonhosted.org/packages/c2/58/9f0e69d836045e3865d263e9ed49f42b23a58526fdabb30f74c430baee3f/Quandl-3.6.0-py2.py3-none-any.whl\n",
            "Requirement already satisfied: scikit-learn<=0.24.1,>=0.20.0 in /usr/local/lib/python3.7/dist-packages (from qiskit-aqua==0.9.1->qiskit) (0.22.2.post1)\n",
            "Collecting docplex<=2.20.204; sys_platform != \"darwin\"\n",
            "\u001b[?25l  Downloading https://files.pythonhosted.org/packages/87/99/6f7c219b39fd58c84688ad0713eb932bfcf6be81fc74519e43ea9c915b56/docplex-2.20.204.tar.gz (611kB)\n",
            "\u001b[K     |████████████████████████████████| 614kB 32.8MB/s \n",
            "\u001b[?25hCollecting yfinance<=0.1.55\n",
            "  Downloading https://files.pythonhosted.org/packages/7a/e8/b9d7104d3a4bf39924799067592d9e59119fcfc900a425a12e80a3123ec8/yfinance-0.1.55.tar.gz\n",
            "Requirement already satisfied: h5py<=3.1.0 in /usr/local/lib/python3.7/dist-packages (from qiskit-aqua==0.9.1->qiskit) (2.10.0)\n",
            "Requirement already satisfied: fastdtw<=0.3.4 in /usr/local/lib/python3.7/dist-packages (from qiskit-aqua==0.9.1->qiskit) (0.3.4)\n",
            "Requirement already satisfied: six>=1.5 in /usr/local/lib/python3.7/dist-packages (from python-dateutil>=2.8.0->qiskit-terra==0.17.3->qiskit) (1.15.0)\n",
            "Requirement already satisfied: mpmath>=0.19 in /usr/local/lib/python3.7/dist-packages (from sympy>=1.3->qiskit-terra==0.17.3->qiskit) (1.2.1)\n",
            "Requirement already satisfied: idna<3,>=2.5 in /usr/local/lib/python3.7/dist-packages (from requests>=2.19->qiskit-ibmq-provider==0.13.1->qiskit) (2.10)\n",
            "Requirement already satisfied: chardet<4,>=3.0.2 in /usr/local/lib/python3.7/dist-packages (from requests>=2.19->qiskit-ibmq-provider==0.13.1->qiskit) (3.0.4)\n",
            "Requirement already satisfied: certifi>=2017.4.17 in /usr/local/lib/python3.7/dist-packages (from requests>=2.19->qiskit-ibmq-provider==0.13.1->qiskit) (2020.12.5)\n",
            "Collecting ntlm-auth>=1.0.2\n",
            "  Downloading https://files.pythonhosted.org/packages/ff/84/97c550164b54942b0e908c31ef09d9469f3ba4cd7332a671e2125732f63b/ntlm_auth-1.5.0-py2.py3-none-any.whl\n",
            "Collecting cryptography>=1.3\n",
            "\u001b[?25l  Downloading https://files.pythonhosted.org/packages/b2/26/7af637e6a7e87258b963f1731c5982fb31cd507f0d90d91836e446955d02/cryptography-3.4.7-cp36-abi3-manylinux2014_x86_64.whl (3.2MB)\n",
            "\u001b[K     |████████████████████████████████| 3.2MB 30.9MB/s \n",
            "\u001b[?25hRequirement already satisfied: pytz>=2017.2 in /usr/local/lib/python3.7/dist-packages (from pandas<=1.2.3->qiskit-aqua==0.9.1->qiskit) (2018.9)\n",
            "Requirement already satisfied: more-itertools in /usr/local/lib/python3.7/dist-packages (from quandl<=3.6.0->qiskit-aqua==0.9.1->qiskit) (8.7.0)\n",
            "Collecting inflection>=0.3.1\n",
            "  Downloading https://files.pythonhosted.org/packages/59/91/aa6bde563e0085a02a435aa99b49ef75b0a4b062635e606dab23ce18d720/inflection-0.5.1-py2.py3-none-any.whl\n",
            "Requirement already satisfied: joblib>=0.11 in /usr/local/lib/python3.7/dist-packages (from scikit-learn<=0.24.1,>=0.20.0->qiskit-aqua==0.9.1->qiskit) (1.0.1)\n",
            "Requirement already satisfied: multitasking>=0.0.7 in /usr/local/lib/python3.7/dist-packages (from yfinance<=0.1.55->qiskit-aqua==0.9.1->qiskit) (0.0.9)\n",
            "Collecting lxml>=4.5.1\n",
            "\u001b[?25l  Downloading https://files.pythonhosted.org/packages/30/c0/d0526314971fc661b083ab135747dc68446a3022686da8c16d25fcf6ef07/lxml-4.6.3-cp37-cp37m-manylinux2014_x86_64.whl (6.3MB)\n",
            "\u001b[K     |████████████████████████████████| 6.3MB 29.4MB/s \n",
            "\u001b[?25hRequirement already satisfied: cffi>=1.12 in /usr/local/lib/python3.7/dist-packages (from cryptography>=1.3->requests-ntlm>=1.1.0->qiskit-ibmq-provider==0.13.1->qiskit) (1.14.5)\n",
            "Requirement already satisfied: pycparser in /usr/local/lib/python3.7/dist-packages (from cffi>=1.12->cryptography>=1.3->requests-ntlm>=1.1.0->qiskit-ibmq-provider==0.13.1->qiskit) (2.20)\n",
            "Building wheels for collected packages: qiskit, python-constraint, dlx, docplex, yfinance\n",
            "  Building wheel for qiskit (setup.py) ... \u001b[?25l\u001b[?25hdone\n",
            "  Created wheel for qiskit: filename=qiskit-0.26.0-cp37-none-any.whl size=10489 sha256=e99d581e5e45984f284b92b4d863c86116a3cd4952e29ae9e7ff67d380f70f54\n",
            "  Stored in directory: /root/.cache/pip/wheels/77/b5/a2/e88ddacf664ca9d2d30275664482d128c3e28b1fd554124a9d\n",
            "  Building wheel for python-constraint (setup.py) ... \u001b[?25l\u001b[?25hdone\n",
            "  Created wheel for python-constraint: filename=python_constraint-1.4.0-py2.py3-none-any.whl size=24079 sha256=822fbabcd8a586baa2866aff415d089577ffb4c730b2d8dfc4eedaf6d08a743b\n",
            "  Stored in directory: /root/.cache/pip/wheels/34/31/15/7b070b25d0a549d20ce2e9fe6d727471c2c61ef904720fd40c\n",
            "  Building wheel for dlx (setup.py) ... \u001b[?25l\u001b[?25hdone\n",
            "  Created wheel for dlx: filename=dlx-1.0.4-cp37-none-any.whl size=5712 sha256=b7ca02bb07edbc6ef231b1497f89782b538a651b8710b62f238f52c72676aa52\n",
            "  Stored in directory: /root/.cache/pip/wheels/bb/ba/15/fdd0deb104df3254912998150ba9245668db06b00af5912d1a\n",
            "  Building wheel for docplex (setup.py) ... \u001b[?25l\u001b[?25hdone\n",
            "  Created wheel for docplex: filename=docplex-2.20.204-cp37-none-any.whl size=675362 sha256=d0a6144eea8ea852f34c7778ccb99736cc12fdd9e605d217913a4d76d10a6dec\n",
            "  Stored in directory: /root/.cache/pip/wheels/ae/2c/e2/a099ebb6fda8adeba9c5fc2e25659d195ad2f5c6cc5fb75fd4\n",
            "  Building wheel for yfinance (setup.py) ... \u001b[?25l\u001b[?25hdone\n",
            "  Created wheel for yfinance: filename=yfinance-0.1.55-py2.py3-none-any.whl size=22616 sha256=f1401cb93d1c4b62e4c4e39f14714e13d426e8acf774f1e560e8bf38f9a71c91\n",
            "  Stored in directory: /root/.cache/pip/wheels/04/98/cc/2702a4242d60bdc14f48b4557c427ded1fe92aedf257d4565c\n",
            "Successfully built qiskit python-constraint dlx docplex yfinance\n",
            "Installing collected packages: python-constraint, ply, retworkx, fastjsonschema, qiskit-terra, pybind11, qiskit-aer, ntlm-auth, cryptography, requests-ntlm, websockets, qiskit-ibmq-provider, qiskit-ignis, dlx, inflection, quandl, docplex, lxml, yfinance, qiskit-aqua, qiskit\n",
            "  Found existing installation: lxml 4.2.6\n",
            "    Uninstalling lxml-4.2.6:\n",
            "      Successfully uninstalled lxml-4.2.6\n",
            "Successfully installed cryptography-3.4.7 dlx-1.0.4 docplex-2.20.204 fastjsonschema-2.15.1 inflection-0.5.1 lxml-4.6.3 ntlm-auth-1.5.0 ply-3.11 pybind11-2.6.2 python-constraint-1.4.0 qiskit-0.26.0 qiskit-aer-0.8.2 qiskit-aqua-0.9.1 qiskit-ibmq-provider-0.13.1 qiskit-ignis-0.6.0 qiskit-terra-0.17.3 quandl-3.6.0 requests-ntlm-1.1.0 retworkx-0.8.0 websockets-9.0.2 yfinance-0.1.55\n"
          ],
          "name": "stdout"
        }
      ]
    },
    {
      "cell_type": "code",
      "metadata": {
        "colab": {
          "base_uri": "https://localhost:8080/"
        },
        "id": "eRa70a9fm4bo",
        "outputId": "98ba85eb-c809-4bd4-d813-446a48448d02"
      },
      "source": [
        "!pip install git+https://github.com/qiskit-community/qiskit-textbook.git#subdirectory=qiskit-textbook-src"
      ],
      "execution_count": null,
      "outputs": [
        {
          "output_type": "stream",
          "text": [
            "Collecting git+https://github.com/qiskit-community/qiskit-textbook.git#subdirectory=qiskit-textbook-src\n",
            "  Cloning https://github.com/qiskit-community/qiskit-textbook.git to /tmp/pip-req-build-2wcz8hg0\n",
            "  Running command git clone -q https://github.com/qiskit-community/qiskit-textbook.git /tmp/pip-req-build-2wcz8hg0\n",
            "Requirement already satisfied: qiskit in /usr/local/lib/python3.7/dist-packages (from qiskit-textbook==0.1.0) (0.26.0)\n",
            "Requirement already satisfied: ipython in /usr/local/lib/python3.7/dist-packages (from qiskit-textbook==0.1.0) (5.5.0)\n",
            "Requirement already satisfied: ipywidgets in /usr/local/lib/python3.7/dist-packages (from qiskit-textbook==0.1.0) (7.6.3)\n",
            "Requirement already satisfied: numpy in /usr/local/lib/python3.7/dist-packages (from qiskit-textbook==0.1.0) (1.19.5)\n",
            "Requirement already satisfied: matplotlib in /usr/local/lib/python3.7/dist-packages (from qiskit-textbook==0.1.0) (3.2.2)\n",
            "Requirement already satisfied: qiskit-aqua==0.9.1 in /usr/local/lib/python3.7/dist-packages (from qiskit->qiskit-textbook==0.1.0) (0.9.1)\n",
            "Requirement already satisfied: qiskit-terra==0.17.3 in /usr/local/lib/python3.7/dist-packages (from qiskit->qiskit-textbook==0.1.0) (0.17.3)\n",
            "Requirement already satisfied: qiskit-ignis==0.6.0 in /usr/local/lib/python3.7/dist-packages (from qiskit->qiskit-textbook==0.1.0) (0.6.0)\n",
            "Requirement already satisfied: qiskit-aer==0.8.2 in /usr/local/lib/python3.7/dist-packages (from qiskit->qiskit-textbook==0.1.0) (0.8.2)\n",
            "Requirement already satisfied: qiskit-ibmq-provider==0.13.1 in /usr/local/lib/python3.7/dist-packages (from qiskit->qiskit-textbook==0.1.0) (0.13.1)\n",
            "Requirement already satisfied: setuptools>=18.5 in /usr/local/lib/python3.7/dist-packages (from ipython->qiskit-textbook==0.1.0) (56.1.0)\n",
            "Requirement already satisfied: decorator in /usr/local/lib/python3.7/dist-packages (from ipython->qiskit-textbook==0.1.0) (4.4.2)\n",
            "Requirement already satisfied: pexpect; sys_platform != \"win32\" in /usr/local/lib/python3.7/dist-packages (from ipython->qiskit-textbook==0.1.0) (4.8.0)\n",
            "Requirement already satisfied: traitlets>=4.2 in /usr/local/lib/python3.7/dist-packages (from ipython->qiskit-textbook==0.1.0) (5.0.5)\n",
            "Requirement already satisfied: simplegeneric>0.8 in /usr/local/lib/python3.7/dist-packages (from ipython->qiskit-textbook==0.1.0) (0.8.1)\n",
            "Requirement already satisfied: pygments in /usr/local/lib/python3.7/dist-packages (from ipython->qiskit-textbook==0.1.0) (2.6.1)\n",
            "Requirement already satisfied: pickleshare in /usr/local/lib/python3.7/dist-packages (from ipython->qiskit-textbook==0.1.0) (0.7.5)\n",
            "Requirement already satisfied: prompt-toolkit<2.0.0,>=1.0.4 in /usr/local/lib/python3.7/dist-packages (from ipython->qiskit-textbook==0.1.0) (1.0.18)\n",
            "Requirement already satisfied: widgetsnbextension~=3.5.0 in /usr/local/lib/python3.7/dist-packages (from ipywidgets->qiskit-textbook==0.1.0) (3.5.1)\n",
            "Requirement already satisfied: ipykernel>=4.5.1 in /usr/local/lib/python3.7/dist-packages (from ipywidgets->qiskit-textbook==0.1.0) (4.10.1)\n",
            "Requirement already satisfied: jupyterlab-widgets>=1.0.0; python_version >= \"3.6\" in /usr/local/lib/python3.7/dist-packages (from ipywidgets->qiskit-textbook==0.1.0) (1.0.0)\n",
            "Requirement already satisfied: nbformat>=4.2.0 in /usr/local/lib/python3.7/dist-packages (from ipywidgets->qiskit-textbook==0.1.0) (5.1.3)\n",
            "Requirement already satisfied: kiwisolver>=1.0.1 in /usr/local/lib/python3.7/dist-packages (from matplotlib->qiskit-textbook==0.1.0) (1.3.1)\n",
            "Requirement already satisfied: cycler>=0.10 in /usr/local/lib/python3.7/dist-packages (from matplotlib->qiskit-textbook==0.1.0) (0.10.0)\n",
            "Requirement already satisfied: python-dateutil>=2.1 in /usr/local/lib/python3.7/dist-packages (from matplotlib->qiskit-textbook==0.1.0) (2.8.1)\n",
            "Requirement already satisfied: pyparsing!=2.0.4,!=2.1.2,!=2.1.6,>=2.0.1 in /usr/local/lib/python3.7/dist-packages (from matplotlib->qiskit-textbook==0.1.0) (2.4.7)\n",
            "Requirement already satisfied: scikit-learn<=0.24.1,>=0.20.0 in /usr/local/lib/python3.7/dist-packages (from qiskit-aqua==0.9.1->qiskit->qiskit-textbook==0.1.0) (0.22.2.post1)\n",
            "Requirement already satisfied: quandl<=3.6.0 in /usr/local/lib/python3.7/dist-packages (from qiskit-aqua==0.9.1->qiskit->qiskit-textbook==0.1.0) (3.6.0)\n",
            "Requirement already satisfied: yfinance<=0.1.55 in /usr/local/lib/python3.7/dist-packages (from qiskit-aqua==0.9.1->qiskit->qiskit-textbook==0.1.0) (0.1.55)\n",
            "Requirement already satisfied: dlx<=1.0.4 in /usr/local/lib/python3.7/dist-packages (from qiskit-aqua==0.9.1->qiskit->qiskit-textbook==0.1.0) (1.0.4)\n",
            "Requirement already satisfied: pandas<=1.2.3 in /usr/local/lib/python3.7/dist-packages (from qiskit-aqua==0.9.1->qiskit->qiskit-textbook==0.1.0) (1.1.5)\n",
            "Requirement already satisfied: sympy<=1.7.1,>=1.3 in /usr/local/lib/python3.7/dist-packages (from qiskit-aqua==0.9.1->qiskit->qiskit-textbook==0.1.0) (1.7.1)\n",
            "Requirement already satisfied: h5py<=3.1.0 in /usr/local/lib/python3.7/dist-packages (from qiskit-aqua==0.9.1->qiskit->qiskit-textbook==0.1.0) (2.10.0)\n",
            "Requirement already satisfied: fastdtw<=0.3.4 in /usr/local/lib/python3.7/dist-packages (from qiskit-aqua==0.9.1->qiskit->qiskit-textbook==0.1.0) (0.3.4)\n",
            "Requirement already satisfied: scipy<=1.6.1,>=1.4 in /usr/local/lib/python3.7/dist-packages (from qiskit-aqua==0.9.1->qiskit->qiskit-textbook==0.1.0) (1.4.1)\n",
            "Requirement already satisfied: retworkx<=0.8.0,>=0.7.0 in /usr/local/lib/python3.7/dist-packages (from qiskit-aqua==0.9.1->qiskit->qiskit-textbook==0.1.0) (0.8.0)\n",
            "Requirement already satisfied: docplex<=2.20.204; sys_platform != \"darwin\" in /usr/local/lib/python3.7/dist-packages (from qiskit-aqua==0.9.1->qiskit->qiskit-textbook==0.1.0) (2.20.204)\n",
            "Requirement already satisfied: psutil<=5.8.0,>=5 in /usr/local/lib/python3.7/dist-packages (from qiskit-aqua==0.9.1->qiskit->qiskit-textbook==0.1.0) (5.4.8)\n",
            "Requirement already satisfied: dill>=0.3 in /usr/local/lib/python3.7/dist-packages (from qiskit-terra==0.17.3->qiskit->qiskit-textbook==0.1.0) (0.3.3)\n",
            "Requirement already satisfied: fastjsonschema>=2.10 in /usr/local/lib/python3.7/dist-packages (from qiskit-terra==0.17.3->qiskit->qiskit-textbook==0.1.0) (2.15.1)\n",
            "Requirement already satisfied: jsonschema>=2.6 in /usr/local/lib/python3.7/dist-packages (from qiskit-terra==0.17.3->qiskit->qiskit-textbook==0.1.0) (2.6.0)\n",
            "Requirement already satisfied: ply>=3.10 in /usr/local/lib/python3.7/dist-packages (from qiskit-terra==0.17.3->qiskit->qiskit-textbook==0.1.0) (3.11)\n",
            "Requirement already satisfied: python-constraint>=1.4 in /usr/local/lib/python3.7/dist-packages (from qiskit-terra==0.17.3->qiskit->qiskit-textbook==0.1.0) (1.4.0)\n",
            "Requirement already satisfied: pybind11>=2.6 in /usr/local/lib/python3.7/dist-packages (from qiskit-aer==0.8.2->qiskit->qiskit-textbook==0.1.0) (2.6.2)\n",
            "Requirement already satisfied: nest-asyncio!=1.1.0,>=1.0.0 in /usr/local/lib/python3.7/dist-packages (from qiskit-ibmq-provider==0.13.1->qiskit->qiskit-textbook==0.1.0) (1.5.1)\n",
            "Requirement already satisfied: requests-ntlm>=1.1.0 in /usr/local/lib/python3.7/dist-packages (from qiskit-ibmq-provider==0.13.1->qiskit->qiskit-textbook==0.1.0) (1.1.0)\n",
            "Requirement already satisfied: urllib3>=1.21.1 in /usr/local/lib/python3.7/dist-packages (from qiskit-ibmq-provider==0.13.1->qiskit->qiskit-textbook==0.1.0) (1.24.3)\n",
            "Requirement already satisfied: websockets>=8 in /usr/local/lib/python3.7/dist-packages (from qiskit-ibmq-provider==0.13.1->qiskit->qiskit-textbook==0.1.0) (9.0.2)\n",
            "Requirement already satisfied: requests>=2.19 in /usr/local/lib/python3.7/dist-packages (from qiskit-ibmq-provider==0.13.1->qiskit->qiskit-textbook==0.1.0) (2.23.0)\n",
            "Requirement already satisfied: ptyprocess>=0.5 in /usr/local/lib/python3.7/dist-packages (from pexpect; sys_platform != \"win32\"->ipython->qiskit-textbook==0.1.0) (0.7.0)\n",
            "Requirement already satisfied: ipython-genutils in /usr/local/lib/python3.7/dist-packages (from traitlets>=4.2->ipython->qiskit-textbook==0.1.0) (0.2.0)\n",
            "Requirement already satisfied: six>=1.9.0 in /usr/local/lib/python3.7/dist-packages (from prompt-toolkit<2.0.0,>=1.0.4->ipython->qiskit-textbook==0.1.0) (1.15.0)\n",
            "Requirement already satisfied: wcwidth in /usr/local/lib/python3.7/dist-packages (from prompt-toolkit<2.0.0,>=1.0.4->ipython->qiskit-textbook==0.1.0) (0.2.5)\n",
            "Requirement already satisfied: notebook>=4.4.1 in /usr/local/lib/python3.7/dist-packages (from widgetsnbextension~=3.5.0->ipywidgets->qiskit-textbook==0.1.0) (5.3.1)\n",
            "Requirement already satisfied: jupyter-client in /usr/local/lib/python3.7/dist-packages (from ipykernel>=4.5.1->ipywidgets->qiskit-textbook==0.1.0) (5.3.5)\n",
            "Requirement already satisfied: tornado>=4.0 in /usr/local/lib/python3.7/dist-packages (from ipykernel>=4.5.1->ipywidgets->qiskit-textbook==0.1.0) (5.1.1)\n",
            "Requirement already satisfied: jupyter-core in /usr/local/lib/python3.7/dist-packages (from nbformat>=4.2.0->ipywidgets->qiskit-textbook==0.1.0) (4.7.1)\n",
            "Requirement already satisfied: joblib>=0.11 in /usr/local/lib/python3.7/dist-packages (from scikit-learn<=0.24.1,>=0.20.0->qiskit-aqua==0.9.1->qiskit->qiskit-textbook==0.1.0) (1.0.1)\n",
            "Requirement already satisfied: inflection>=0.3.1 in /usr/local/lib/python3.7/dist-packages (from quandl<=3.6.0->qiskit-aqua==0.9.1->qiskit->qiskit-textbook==0.1.0) (0.5.1)\n",
            "Requirement already satisfied: more-itertools in /usr/local/lib/python3.7/dist-packages (from quandl<=3.6.0->qiskit-aqua==0.9.1->qiskit->qiskit-textbook==0.1.0) (8.7.0)\n",
            "Requirement already satisfied: multitasking>=0.0.7 in /usr/local/lib/python3.7/dist-packages (from yfinance<=0.1.55->qiskit-aqua==0.9.1->qiskit->qiskit-textbook==0.1.0) (0.0.9)\n",
            "Requirement already satisfied: lxml>=4.5.1 in /usr/local/lib/python3.7/dist-packages (from yfinance<=0.1.55->qiskit-aqua==0.9.1->qiskit->qiskit-textbook==0.1.0) (4.6.3)\n",
            "Requirement already satisfied: pytz>=2017.2 in /usr/local/lib/python3.7/dist-packages (from pandas<=1.2.3->qiskit-aqua==0.9.1->qiskit->qiskit-textbook==0.1.0) (2018.9)\n",
            "Requirement already satisfied: mpmath>=0.19 in /usr/local/lib/python3.7/dist-packages (from sympy<=1.7.1,>=1.3->qiskit-aqua==0.9.1->qiskit->qiskit-textbook==0.1.0) (1.2.1)\n",
            "Requirement already satisfied: ntlm-auth>=1.0.2 in /usr/local/lib/python3.7/dist-packages (from requests-ntlm>=1.1.0->qiskit-ibmq-provider==0.13.1->qiskit->qiskit-textbook==0.1.0) (1.5.0)\n",
            "Requirement already satisfied: cryptography>=1.3 in /usr/local/lib/python3.7/dist-packages (from requests-ntlm>=1.1.0->qiskit-ibmq-provider==0.13.1->qiskit->qiskit-textbook==0.1.0) (3.4.7)\n",
            "Requirement already satisfied: idna<3,>=2.5 in /usr/local/lib/python3.7/dist-packages (from requests>=2.19->qiskit-ibmq-provider==0.13.1->qiskit->qiskit-textbook==0.1.0) (2.10)\n",
            "Requirement already satisfied: chardet<4,>=3.0.2 in /usr/local/lib/python3.7/dist-packages (from requests>=2.19->qiskit-ibmq-provider==0.13.1->qiskit->qiskit-textbook==0.1.0) (3.0.4)\n",
            "Requirement already satisfied: certifi>=2017.4.17 in /usr/local/lib/python3.7/dist-packages (from requests>=2.19->qiskit-ibmq-provider==0.13.1->qiskit->qiskit-textbook==0.1.0) (2020.12.5)\n",
            "Requirement already satisfied: nbconvert in /usr/local/lib/python3.7/dist-packages (from notebook>=4.4.1->widgetsnbextension~=3.5.0->ipywidgets->qiskit-textbook==0.1.0) (5.6.1)\n",
            "Requirement already satisfied: terminado>=0.8.1 in /usr/local/lib/python3.7/dist-packages (from notebook>=4.4.1->widgetsnbextension~=3.5.0->ipywidgets->qiskit-textbook==0.1.0) (0.9.5)\n",
            "Requirement already satisfied: jinja2 in /usr/local/lib/python3.7/dist-packages (from notebook>=4.4.1->widgetsnbextension~=3.5.0->ipywidgets->qiskit-textbook==0.1.0) (2.11.3)\n",
            "Requirement already satisfied: Send2Trash in /usr/local/lib/python3.7/dist-packages (from notebook>=4.4.1->widgetsnbextension~=3.5.0->ipywidgets->qiskit-textbook==0.1.0) (1.5.0)\n",
            "Requirement already satisfied: pyzmq>=13 in /usr/local/lib/python3.7/dist-packages (from jupyter-client->ipykernel>=4.5.1->ipywidgets->qiskit-textbook==0.1.0) (22.0.3)\n",
            "Requirement already satisfied: cffi>=1.12 in /usr/local/lib/python3.7/dist-packages (from cryptography>=1.3->requests-ntlm>=1.1.0->qiskit-ibmq-provider==0.13.1->qiskit->qiskit-textbook==0.1.0) (1.14.5)\n",
            "Requirement already satisfied: mistune<2,>=0.8.1 in /usr/local/lib/python3.7/dist-packages (from nbconvert->notebook>=4.4.1->widgetsnbextension~=3.5.0->ipywidgets->qiskit-textbook==0.1.0) (0.8.4)\n",
            "Requirement already satisfied: testpath in /usr/local/lib/python3.7/dist-packages (from nbconvert->notebook>=4.4.1->widgetsnbextension~=3.5.0->ipywidgets->qiskit-textbook==0.1.0) (0.4.4)\n",
            "Requirement already satisfied: entrypoints>=0.2.2 in /usr/local/lib/python3.7/dist-packages (from nbconvert->notebook>=4.4.1->widgetsnbextension~=3.5.0->ipywidgets->qiskit-textbook==0.1.0) (0.3)\n",
            "Requirement already satisfied: bleach in /usr/local/lib/python3.7/dist-packages (from nbconvert->notebook>=4.4.1->widgetsnbextension~=3.5.0->ipywidgets->qiskit-textbook==0.1.0) (3.3.0)\n",
            "Requirement already satisfied: defusedxml in /usr/local/lib/python3.7/dist-packages (from nbconvert->notebook>=4.4.1->widgetsnbextension~=3.5.0->ipywidgets->qiskit-textbook==0.1.0) (0.7.1)\n",
            "Requirement already satisfied: pandocfilters>=1.4.1 in /usr/local/lib/python3.7/dist-packages (from nbconvert->notebook>=4.4.1->widgetsnbextension~=3.5.0->ipywidgets->qiskit-textbook==0.1.0) (1.4.3)\n",
            "Requirement already satisfied: MarkupSafe>=0.23 in /usr/local/lib/python3.7/dist-packages (from jinja2->notebook>=4.4.1->widgetsnbextension~=3.5.0->ipywidgets->qiskit-textbook==0.1.0) (2.0.0)\n",
            "Requirement already satisfied: pycparser in /usr/local/lib/python3.7/dist-packages (from cffi>=1.12->cryptography>=1.3->requests-ntlm>=1.1.0->qiskit-ibmq-provider==0.13.1->qiskit->qiskit-textbook==0.1.0) (2.20)\n",
            "Requirement already satisfied: packaging in /usr/local/lib/python3.7/dist-packages (from bleach->nbconvert->notebook>=4.4.1->widgetsnbextension~=3.5.0->ipywidgets->qiskit-textbook==0.1.0) (20.9)\n",
            "Requirement already satisfied: webencodings in /usr/local/lib/python3.7/dist-packages (from bleach->nbconvert->notebook>=4.4.1->widgetsnbextension~=3.5.0->ipywidgets->qiskit-textbook==0.1.0) (0.5.1)\n",
            "Building wheels for collected packages: qiskit-textbook\n",
            "  Building wheel for qiskit-textbook (setup.py) ... \u001b[?25l\u001b[?25hdone\n",
            "  Created wheel for qiskit-textbook: filename=qiskit_textbook-0.1.0-cp37-none-any.whl size=16953 sha256=8cdfb705f0ce52ef6dcfe82391be2bd5afa455f068a009a829b4b743bc685394\n",
            "  Stored in directory: /tmp/pip-ephem-wheel-cache-ehx93jq1/wheels/0c/57/26/1c12886a219af04a38ca1e674fdeeff40b8a5963326ba3c71a\n",
            "Successfully built qiskit-textbook\n",
            "Installing collected packages: qiskit-textbook\n",
            "Successfully installed qiskit-textbook-0.1.0\n"
          ],
          "name": "stdout"
        }
      ]
    },
    {
      "cell_type": "code",
      "metadata": {
        "id": "P3Trd3X5fNG5"
      },
      "source": [
        "import qiskit\n",
        "#qiskit.__version__\n",
        "from qiskit import execute, Aer\n",
        "from qiskit.visualization import plot_histogram\n",
        "import matplotlib.pyplot as plt\n",
        "\n",
        "from math import sqrt, pi, cos, sin\n",
        "\n",
        "from sklearn.metrics import recall_score, precision_score, confusion_matrix"
      ],
      "execution_count": null,
      "outputs": []
    },
    {
      "cell_type": "code",
      "metadata": {
        "colab": {
          "base_uri": "https://localhost:8080/"
        },
        "id": "RRF8YMhKmoYF",
        "outputId": "bbf07686-9274-42e6-db2e-276bc558292a"
      },
      "source": [
        "from qiskit import QuantumCircuit\n",
        "\n",
        "#Create a quantum circuit with one qubit\n",
        "qc = QuantumCircuit(1)\n",
        "\n",
        "#Define initial state as |1>\n",
        "initial_state = [0,1]\n",
        "\n",
        "# Apply initialization operation to the qubit at position 0\n",
        "qc.initialize(initial_state, 0)"
      ],
      "execution_count": null,
      "outputs": [
        {
          "output_type": "execute_result",
          "data": {
            "text/plain": [
              "<qiskit.circuit.instructionset.InstructionSet at 0x7faf21713910>"
            ]
          },
          "metadata": {
            "tags": []
          },
          "execution_count": 5
        }
      ]
    },
    {
      "cell_type": "code",
      "metadata": {
        "id": "Mu40wuYBnRmC"
      },
      "source": [
        "# Tell Qiskit how to simulate our circuit\n",
        "backend = Aer.get_backend('statevector_simulator')\n",
        "\n",
        "# Do the simulation, returning the result\n",
        "result = execute(qc,backend).result()"
      ],
      "execution_count": null,
      "outputs": []
    },
    {
      "cell_type": "code",
      "metadata": {
        "colab": {
          "base_uri": "https://localhost:8080/",
          "height": 323
        },
        "id": "-nAc56zwnWr3",
        "outputId": "4e25de02-5f74-44a3-8eea-9575a06b1988"
      },
      "source": [
        "# get the probability distribution\n",
        "counts = result.get_counts()\n",
        "\n",
        "# Show the histogram\n",
        "plot_histogram(counts)"
      ],
      "execution_count": null,
      "outputs": [
        {
          "output_type": "execute_result",
          "data": {
            "image/png": "[encoded data removed]",
            "text/plain": [
              "<Figure size 504x360 with 1 Axes>"
            ]
          },
          "metadata": {
            "tags": []
          },
          "execution_count": 9
        }
      ]
    },
    {
      "cell_type": "code",
      "metadata": {
        "colab": {
          "base_uri": "https://localhost:8080/",
          "height": 328
        },
        "id": "KIXyGUvrncb0",
        "outputId": "45aa6e35-42cd-4f0b-c15e-f1ca133fb147"
      },
      "source": [
        "# Define state |psi>\n",
        "initial_state = [1/sqrt(2), 1/sqrt(2)]\n",
        "\n",
        "# Redefine the quantum circuit\n",
        "qc = QuantumCircuit(1)\n",
        "\n",
        "# Initialise the 0th qubit in the state `initial_state`\n",
        "qc.initialize(initial_state, 0)\n",
        "\n",
        "# execute the qc\n",
        "results = execute(qc,backend).result().get_counts()\n",
        "\n",
        "# plot the results\n",
        "plot_histogram(results)"
      ],
      "execution_count": null,
      "outputs": [
        {
          "output_type": "execute_result",
          "data": {
            "image/png": "[encoded data removed]",
            "text/plain": [
              "<Figure size 504x360 with 1 Axes>"
            ]
          },
          "metadata": {
            "tags": []
          },
          "execution_count": 12
        }
      ]
    },
    {
      "cell_type": "code",
      "metadata": {
        "colab": {
          "base_uri": "https://localhost:8080/",
          "height": 328
        },
        "id": "xaxquGQxnhsI",
        "outputId": "2154b280-f3ae-45b5-b478-fc8dd3ad941b"
      },
      "source": [
        "def get_state (theta):\n",
        "  \"\"\"returns a valid state vector\"\"\"\n",
        "  \n",
        "  return [cos(theta/2), sin(theta/2)]\n",
        "\n",
        "# play with the values for theta to get a feeling\n",
        "theta = -1*pi/2 # affects the probabilities\n",
        "\n",
        "# create, initialize, and execute the quantum circuit\n",
        "qc = QuantumCircuit(1)\n",
        "qc.initialize(get_state(theta), 0)\n",
        "backend = Aer.get_backend('statevector_simulator')\n",
        "result = execute(qc,backend).result()\n",
        "counts = result.get_counts()\n",
        "\n",
        "# Show the histogram\n",
        "plot_histogram(counts)"
      ],
      "execution_count": null,
      "outputs": [
        {
          "output_type": "execute_result",
          "data": {
            "image/png": "[encoded data removed]",
            "text/plain": [
              "<Figure size 504x360 with 1 Axes>"
            ]
          },
          "metadata": {
            "tags": []
          },
          "execution_count": 15
        }
      ]
    },
    {
      "cell_type": "code",
      "metadata": {
        "colab": {
          "base_uri": "https://localhost:8080/",
          "height": 62
        },
        "id": "wwV7B2ern72I",
        "outputId": "8c65d3e5-d25f-4f31-cdba-162944094d1e"
      },
      "source": [
        "qc.draw(output='text')"
      ],
      "execution_count": null,
      "outputs": [
        {
          "output_type": "execute_result",
          "data": {
            "text/html": [
              "<pre style=\"word-wrap: normal;white-space: pre;background: #fff0;line-height: 1.1;font-family: &quot;Courier New&quot;,Courier,monospace\">     ┌──────────────────────────────┐\n",
              "q_0: ┤ initialize(0.70711,-0.70711) ├\n",
              "     └──────────────────────────────┘</pre>"
            ],
            "text/plain": [
              "     ┌──────────────────────────────┐\n",
              "q_0: ┤ initialize(0.70711,-0.70711) ├\n",
              "     └──────────────────────────────┘"
            ]
          },
          "metadata": {
            "tags": []
          },
          "execution_count": 16
        }
      ]
    },
    {
      "cell_type": "code",
      "metadata": {
        "colab": {
          "base_uri": "https://localhost:8080/",
          "height": 335
        },
        "id": "aQPlwnjWoExr",
        "outputId": "ed38c37f-b7de-497d-9216-ae22ba9affac"
      },
      "source": [
        "#observe the qubit\n",
        "qc.measure_all()\n",
        "\n",
        "#Do the simulation, returning the result\n",
        "result = execute(qc, backend).result()\n",
        "counts =result.get_counts()\n",
        "plot_histogram(counts)\n",
        "\n",
        "#once you collapse it, it's in a 100% probability of either state 1 or 0"
      ],
      "execution_count": null,
      "outputs": [
        {
          "output_type": "execute_result",
          "data": {
            "image/png": "[encoded data removed]",
            "text/plain": [
              "<Figure size 504x360 with 1 Axes>"
            ]
          },
          "metadata": {
            "tags": []
          },
          "execution_count": 18
        }
      ]
    },
    {
      "cell_type": "code",
      "metadata": {
        "colab": {
          "base_uri": "https://localhost:8080/",
          "height": 137
        },
        "id": "4eu35hkPoXzN",
        "outputId": "31f40a72-b7d3-46a1-bd80-23114907caa2"
      },
      "source": [
        "qc.draw(output='text')\n"
      ],
      "execution_count": null,
      "outputs": [
        {
          "output_type": "execute_result",
          "data": {
            "text/html": [
              "<pre style=\"word-wrap: normal;white-space: pre;background: #fff0;line-height: 1.1;font-family: &quot;Courier New&quot;,Courier,monospace\">         ┌──────────────────────────────┐ ░ ┌─┐ ░ ┌─┐\n",
              "    q_0: ┤ initialize(0.70711,-0.70711) ├─░─┤M├─░─┤M├\n",
              "         └──────────────────────────────┘ ░ └╥┘ ░ └╥┘\n",
              " meas: 1/════════════════════════════════════╩═════╬═\n",
              "                                             0     ║ \n",
              "                                                   ║ \n",
              "meas0: 1/══════════════════════════════════════════╩═\n",
              "                                                   0 </pre>"
            ],
            "text/plain": [
              "         ┌──────────────────────────────┐ ░ ┌─┐ ░ ┌─┐\n",
              "    q_0: ┤ initialize(0.70711,-0.70711) ├─░─┤M├─░─┤M├\n",
              "         └──────────────────────────────┘ ░ └╥┘ ░ └╥┘\n",
              " meas: 1/════════════════════════════════════╩═════╬═\n",
              "                                             0     ║ \n",
              "                                                   ║ \n",
              "meas0: 1/══════════════════════════════════════════╩═\n",
              "                                                   0 "
            ]
          },
          "metadata": {
            "tags": []
          },
          "execution_count": 19
        }
      ]
    },
    {
      "cell_type": "markdown",
      "metadata": {
        "id": "4pl1NDdKonq_"
      },
      "source": [
        "#PQC\n",
        "\n",
        "random classifier for titanic data"
      ]
    },
    {
      "cell_type": "code",
      "metadata": {
        "id": "ce7aeWB3ohug"
      },
      "source": [
        "def pqc_classify(backend, passenger_state):\n",
        "  \"\"\"backend −− a qiskit backend to run the quantum circuit at\n",
        "  passenger_state −− a valid quantum state vector\"\"\"\n",
        "\n",
        "  # Create a quantum circuit with one qubit\n",
        "  qc = QuantumCircuit(1)\n",
        "\n",
        "  # Define state |Psi> and initialize the circuit\n",
        "  qc.initialize(passenger_state, 0)\n",
        "\n",
        "  # Measure the qubit\n",
        "  qc.measure_all()\n",
        "\n",
        "  # run the quantum circuit\n",
        "  result=execute(qc,backend).result()\n",
        "\n",
        "  # get the counts, these are either {'0': 1} or {'1': 1}\n",
        "  counts=result.get_counts(qc)\n",
        "\n",
        "  #getthebit0or1\n",
        "  return int(list(map(lambda item: item[0], counts.items()))[0])"
      ],
      "execution_count": null,
      "outputs": []
    },
    {
      "cell_type": "code",
      "metadata": {
        "id": "oDv-yrelozPW"
      },
      "source": [
        ""
      ],
      "execution_count": null,
      "outputs": []
    }
  ]
}