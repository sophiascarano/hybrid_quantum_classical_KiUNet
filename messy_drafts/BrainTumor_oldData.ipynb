{
  "nbformat": 4,
  "nbformat_minor": 0,
  "metadata": {
    "colab": {
      "name": "BrainTumor_oldData.ipynb",
      "provenance": [],
      "collapsed_sections": [],
      "toc_visible": true,
      "authorship_tag": "ABX9TyPW9UrgjRJi4cy9ADt7df5m",
      "include_colab_link": true
    },
    "kernelspec": {
      "name": "python3",
      "display_name": "Python 3"
    },
    "language_info": {
      "name": "python"
    }
  },
  "cells": [
    {
      "cell_type": "markdown",
      "metadata": {
        "id": "view-in-github",
        "colab_type": "text"
      },
      "source": [
        "<a href=\"https://colab.research.google.com/github/sophiascarano/hybrid_quantum_classical_KiUNet/blob/main/messy_drafts/BrainTumor_oldData.ipynb\" target=\"_parent\"><img src=\"https://colab.research.google.com/assets/colab-badge.svg\" alt=\"Open In Colab\"/></a>"
      ]
    },
    {
      "cell_type": "code",
      "metadata": {
        "id": "LKxxD2FrTcLk"
      },
      "source": [
        "import tensorflow as tf\n",
        "\n",
        "import matplotlib.pyplot as plt\n",
        "import numpy as np\n",
        "from keras import backend as K\n",
        "\n",
        "from imageio import mimsave\n",
        "from IPython.display import display as display_fn\n",
        "from IPython.display import Image, clear_output\n",
        "\n",
        "import json\n",
        "import os\n",
        "import cv2\n",
        "from PIL import Image\n",
        "from skimage.draw import polygon"
      ],
      "execution_count": null,
      "outputs": []
    },
    {
      "cell_type": "code",
      "metadata": {
        "colab": {
          "base_uri": "https://localhost:8080/"
        },
        "id": "gmwtygkD6AAE",
        "outputId": "5200d1c1-7579-4e22-ca70-16c8eb22cf83"
      },
      "source": [
        "from google.colab import drive\n",
        "drive.mount('/content/drive')"
      ],
      "execution_count": null,
      "outputs": [
        {
          "output_type": "stream",
          "text": [
            "Mounted at /content/drive\n"
          ],
          "name": "stdout"
        }
      ]
    },
    {
      "cell_type": "code",
      "metadata": {
        "colab": {
          "base_uri": "https://localhost:8080/"
        },
        "id": "BFxpn4ZeTb_X",
        "outputId": "e7c15375-7191-4a44-d932-207208e4198d"
      },
      "source": [
        "print(\"image files you can choose from: \")\n",
        "!ls '/content/drive/MyDrive/Colab_Notebooks/brain_tumor/brain-tumor/data_cleaned/test/'"
      ],
      "execution_count": null,
      "outputs": [
        {
          "output_type": "stream",
          "text": [
            "image files you can choose from: \n",
            "217.jpg  218.jpg  219.jpg  220.jpg  annotations_test.json\n"
          ],
          "name": "stdout"
        }
      ]
    },
    {
      "cell_type": "code",
      "metadata": {
        "id": "zjNO76I7Tb59"
      },
      "source": [
        "# set default paths\n",
        "\n",
        "dataset_dir = '/content/drive/MyDrive/Colab_Notebooks/brain_tumor/brain-tumor/data_cleaned/'\n",
        "subset = 'train'\n",
        "\n",
        "dataset_dir = os.path.join(dataset_dir, subset)\n",
        "annotations = json.load(open(os.path.join(dataset_dir, 'annotations_'+subset+'.json')))\n",
        "annotations = list(annotations.values())\n",
        "annotations"
      ],
      "execution_count": null,
      "outputs": []
    },
    {
      "cell_type": "markdown",
      "metadata": {
        "id": "RSIN6CWUDrrz"
      },
      "source": [
        "# to do:\n",
        "\n",
        "- DONE make sure all images are the appropriate size (256 x 256)\n",
        "- DONE figure out how to get all of the image names into one list, based on the input of \"test\", \"train\", or \"val\" as the 'subset' variable.\n",
        "- DONE find out if each image in train, val, and test has a mask in its respective annotations JSON file. If not, figure out what to do with the images that don't have a mask. (just leave them blank?) or still have a pixel mask, but all the values are 0\n",
        "  - numpy tensor of 0's? `numpy.zeros(width, height of the image)`?\n",
        "- DONE figure out how to create a filled in polygon based on the mask coordinates, and highlight those respective pixels as '1' and the rest as '0'\n",
        "- figure out how to visualize this mask overlay, where the pixels with value '1' are semi-transparent with the color green, representing ground truth. This will be the ground truth pixels.\n",
        "- figure out how to get this in a usable format for a segmentation algorithm.\n",
        "  - look to coursera for help with this step. I'm sure they have examples.\n"
      ]
    },
    {
      "cell_type": "code",
      "metadata": {
        "id": "SXYIRDR6Z23m"
      },
      "source": [
        "def get_image(img_name):\n",
        "  img_path = f'{IMAGE_DIR}/{img_name}'\n",
        "  image = load_img(\"{}\".format(img_path))\n",
        "\n",
        "  return image\n",
        "\n",
        "def load_img(path_to_img):\n",
        "    '''loads an image as a tensor and scales it to 512 pixels'''\n",
        "    max_dim = 256\n",
        "    image = tf.io.read_file(path_to_img)\n",
        "    image = tf.image.decode_jpeg(image)\n",
        "    image = tf.image.convert_image_dtype(image, tf.float32)\n",
        "\n",
        "    shape = tf.shape(image)[:-1]\n",
        "    shape = tf.cast(tf.shape(image)[:-1], tf.float32)\n",
        "    long_dim = max(shape)\n",
        "    scale = max_dim / long_dim\n",
        "\n",
        "    new_shape = tf.cast(shape * scale, tf.int32)\n",
        "\n",
        "    image = tf.image.resize(image, new_shape)\n",
        "    image = image[tf.newaxis, :]\n",
        "    image = tf.image.convert_image_dtype(image, tf.uint8)\n",
        "\n",
        "    return image\n",
        "\n",
        "def get_annot(subset_folder):\n",
        "  dataset_dir = '/content/drive/MyDrive/Colab_Notebooks/brain_tumor/brain-tumor/data_cleaned/'\n",
        "  subset = subset_folder\n",
        "\n",
        "  dataset_dir = os.path.join(dataset_dir, subset)\n",
        "  annotations = json.load(open(os.path.join(dataset_dir, 'annotations_'+subset+'.json')))\n",
        "  annotations = list(annotations.values())\n",
        "\n",
        "  return annotations\n",
        "\n",
        "def get_polygon_coords(img_name, subset_folder):\n",
        "  newDict = dict()\n",
        "  this_annot = []\n",
        "\n",
        "  annotations = get_annot(subset_folder)\n",
        "\n",
        "  # iterate over each labeled image?\n",
        "  for i in range(len(annotations)):\n",
        "\n",
        "    # Iterate over all the items in dictionary and filter items which has correct keys\n",
        "    for (key, value) in annotations[i].items():\n",
        "      # Check if value is correct then add pair to new dictionary\n",
        "      if key == 'filename':\n",
        "        if value == img_name:\n",
        "          newDict[key] = value\n",
        "          this_annot.append(annotations[i])\n",
        "\n",
        "\n",
        "  # for (key, value) in this_annot[0].items():\n",
        "  #   if key == 'regions':\n",
        "\n",
        "  #but there might be multiple polygons in an image, so we need to iterate through 'regions'\n",
        "  this_x = []\n",
        "  this_y = []\n",
        "  for i in range(len(this_annot[0].get('regions', {}))):\n",
        "    this_x.append(this_annot[0].get('regions', {})[i].get('shape_attributes').get('all_points_x'))\n",
        "    this_y.append(this_annot[0].get('regions', {})[i].get('shape_attributes').get('all_points_y'))\n",
        "  \n",
        "  these_coords = []\n",
        "  for j in range(len(this_x)):\n",
        "    these_coords_indiv = [(this_x[j][i], this_y[j][i]) for i in range(0, len(this_x[j]))]\n",
        "    these_coords.append(these_coords_indiv)\n",
        "\n",
        "  return these_coords\n",
        "\n",
        "\n",
        "def all_imgs(subset_folder):\n",
        "  '''\n",
        "  given the subset folder mounted at my google drive, return a list of all files\n",
        "  ending with .jpg\n",
        "  '''\n",
        "  # make sure to have correct path\n",
        "  dataset_dir = '/content/drive/MyDrive/Colab_Notebooks/brain_tumor/brain-tumor/data_cleaned/'\n",
        "  subset = subset_folder\n",
        "  dataset_dir = os.path.join(dataset_dir, subset)\n",
        "  # initialize empty lsit\n",
        "  img_names = []\n",
        "  for filename in os.listdir(dataset_dir):\n",
        "    if filename.endswith(\"jpg\"):\n",
        "      # for all files that end in .jpg, add to list\n",
        "      img_names.append(filename)\n",
        "  return img_names\n",
        "\n",
        "def all_imgs_with_mask(subset_folder):\n",
        "  '''\n",
        "  given the subset folder mounted at my google drive, go through its respective\n",
        "  annotations .json file and make a list of all files that have polygon mask\n",
        "  coordinates\n",
        "  '''\n",
        "  # first, compile list of files that have polygons in the annotations folder\n",
        "  # for each key \"filename\", append the value to the list (\"with_mask\")\n",
        "  with_mask = []\n",
        "  annot = get_annot(subset_folder)\n",
        "  # each item in list represents information about a separate picture\n",
        "  for x in annot:\n",
        "    with_mask.append(x.get('filename'))\n",
        "  return with_mask\n",
        "\n",
        "def imgs_no_mask(subset_folder):\n",
        "  '''\n",
        "  return a list of all files that are listed in the subset folder, but do not \n",
        "  have an associated annotated polygon. This should yeild an empty list for \n",
        "  all three subset folders.\n",
        "  '''\n",
        "  all_names = all_imgs(subset_folder)\n",
        "  all_masked = all_imgs_with_mask(subset_folder)\n",
        "  no_mask = list(set(all_names) - set(all_masked))\n",
        "  return no_mask\n",
        "\n",
        "def get_all_polygon_coords(subset_folder):\n",
        "  '''\n",
        "  this returns a list of tuples containing the image name and that image's list\n",
        "  of all polygon coordinates\n",
        "  \n",
        "  [(image name, [all polygon coordinates]), ...]\n",
        "  '''\n",
        "  # make list of all image names in this folder\n",
        "  img_names = all_imgs(subset_folder)\n",
        "  #initialize empty list\n",
        "  all_polygons = []\n",
        "  all_names = []\n",
        "  #iterate through img_names, extracting the polygon coordinates and appending them to all_polygons\n",
        "  for i in img_names:\n",
        "    all_polygons.append(get_polygon_coords(i, subset_folder))\n",
        "    all_names.append(i)\n",
        "\n",
        "  tuples_of_names_and_polygons = [(all_names[i], all_polygons[i]) for i in range(0, len(all_names))]\n",
        "  return tuples_of_names_and_polygons\n",
        "\n",
        "def get_polygon_coords_lists(img_name, subset_folder):\n",
        "  # get polygon coords\n",
        "  annotations = get_annot(subset_folder)\n",
        "\n",
        "  newDict = dict()\n",
        "  this_annot = []\n",
        "  # iterate over each labeled image?\n",
        "  for i in range(len(annotations)):\n",
        "    # Iterate over all the items in dictionary and filter items which has correct keys\n",
        "    for (key, value) in annotations[i].items():\n",
        "      # Check if value is correct then add pair to new dictionary\n",
        "      if key == 'filename':\n",
        "        if value == img_name:\n",
        "          newDict[key] = value\n",
        "          this_annot.append(annotations[i])\n",
        "\n",
        "  #but there might be multiple polygons in an image, so we need to iterate through 'regions'\n",
        "  this_x = []\n",
        "  this_y = []\n",
        "  for i in range(len(this_annot[0].get('regions', {}))):\n",
        "    this_x.append(this_annot[0].get('regions', {})[i].get('shape_attributes').get('all_points_x'))\n",
        "    this_y.append(this_annot[0].get('regions', {})[i].get('shape_attributes').get('all_points_y'))\n",
        "  return this_x, this_y\n",
        "\n",
        "def get_all_polygon_coords_lists(subset_folder):\n",
        "  '''\n",
        "  this returns a list of tuples containing the image name and that image's list\n",
        "  of all polygon coordinates\n",
        "  \n",
        "  [(image name, [[all polygon x coordinates]], [[all polygon y coordinates]]), ...]\n",
        "\n",
        "  which can also be shown as\n",
        "\n",
        "  [(image name, [[polygon1_x_coords], [polygon2_x_coords], ...], [[polygon1_y_coords], [polygon2_y_coords], ...]), ...]\n",
        "\n",
        "  This format is very useful when plotting masks!\n",
        "\n",
        "  '''\n",
        "  # make list of all image names in this folder\n",
        "  img_names = all_imgs(subset_folder)\n",
        "  #initialize empty list\n",
        "  all_polygon_x_coords = []\n",
        "  all_polygon_y_coords = []\n",
        "  all_names = []\n",
        "  #iterate through img_names, extracting the polygon coordinates and appending them to all_polygons\n",
        "  for i in img_names:\n",
        "    all_polygon_x_coords.append(get_polygon_coords_lists(i, subset_folder)[0])\n",
        "    all_polygon_y_coords.append(get_polygon_coords_lists(i, subset_folder)[1])\n",
        "    all_names.append(i)\n",
        "\n",
        "  tuples_of_names_and_polygons = [(all_names[i], all_polygon_x_coords[i], all_polygon_y_coords[i]) for i in range(0, len(all_names))]\n",
        "  return tuples_of_names_and_polygons"
      ],
      "execution_count": null,
      "outputs": []
    },
    {
      "cell_type": "code",
      "metadata": {
        "id": "mIXpuQNYzR9N"
      },
      "source": [
        "def mask_array(img_name, subset_folder):\n",
        "  '''\n",
        "  returns array of size 256x256, where 0's represent no tumor, and 1's represent\n",
        "  the area that is bound by the tumor, which is a polygon shape\n",
        "  '''\n",
        "  # first initialize shape of array\n",
        "  img = np.zeros((256, 256), dtype=np.uint8)\n",
        "  # need to get lists of all x's and y's for that shape\n",
        "  x_coord_list, y_coord_list = get_polygon_coords_lists(img_name, subset_folder)\n",
        "  # iterate through all polygons in list\n",
        "  i = 0\n",
        "  while i < len(x_coord_list):\n",
        "    r = np.array(y_coord_list[i])\n",
        "    c = np.array(x_coord_list[i])\n",
        "    rr, cc = polygon(r, c)\n",
        "    img[rr, cc] = 1\n",
        "    # do I need this? or is this only for while loops?\n",
        "    i += 1\n",
        "  \n",
        "  # then can use this info for drawing polygon\n",
        "  return img\n",
        "\n",
        "\n",
        "def draw_polygon_array(img_name, subset_folder):\n",
        "  img = mask_array(img_name, subset_folder)\n",
        "  plt.imshow(img, interpolation='nearest', cmap='gray', vmin=0, vmax=1, )\n",
        "  plt.show()  "
      ],
      "execution_count": null,
      "outputs": []
    },
    {
      "cell_type": "code",
      "metadata": {
        "colab": {
          "base_uri": "https://localhost:8080/",
          "height": 269
        },
        "id": "bvIwrjWGzRuu",
        "outputId": "f5d53fad-56f3-4cec-eed3-155de5f6b362"
      },
      "source": [
        "draw_polygon_array(img_name = '218.jpg', subset_folder = 'test')"
      ],
      "execution_count": null,
      "outputs": [
        {
          "output_type": "display_data",
          "data": {
            "image/png": "[encoded data removed]",
            "text/plain": [
              "<Figure size 432x288 with 1 Axes>"
            ]
          },
          "metadata": {
            "tags": [],
            "needs_background": "light"
          }
        }
      ]
    },
    {
      "cell_type": "code",
      "metadata": {
        "colab": {
          "base_uri": "https://localhost:8080/"
        },
        "id": "jErYTgz0yXx_",
        "outputId": "50d26523-369e-4d10-856d-0746279554f3"
      },
      "source": [
        "image = Image.open('/content/drive/MyDrive/Colab_Notebooks/brain_tumor/brain-tumor/data_cleaned/train/0.jpg')\n",
        "#mage to open\n",
        "width, height = image.size\n",
        "#extract width and height from output tuple\n",
        "print(width, height)"
      ],
      "execution_count": null,
      "outputs": [
        {
          "output_type": "stream",
          "text": [
            "256 256\n"
          ],
          "name": "stdout"
        }
      ]
    },
    {
      "cell_type": "code",
      "metadata": {
        "colab": {
          "base_uri": "https://localhost:8080/"
        },
        "id": "2KPALYWbSLqC",
        "outputId": "ba1a2fc8-cd98-43c9-9118-167dd1bc3337"
      },
      "source": [
        "get_all_polygon_coords('test')"
      ],
      "execution_count": null,
      "outputs": [
        {
          "output_type": "execute_result",
          "data": {
            "text/plain": [
              "[('220.jpg',\n",
              "  [[(196, 118),\n",
              "    (206, 125),\n",
              "    (206, 134),\n",
              "    (196, 145),\n",
              "    (182, 150),\n",
              "    (172, 162),\n",
              "    (160, 162),\n",
              "    (154, 160),\n",
              "    (154, 147),\n",
              "    (148, 131),\n",
              "    (153, 124),\n",
              "    (156, 117),\n",
              "    (163, 111),\n",
              "    (176, 108)]]),\n",
              " ('219.jpg',\n",
              "  [[(106, 160),\n",
              "    (112, 173),\n",
              "    (114, 189),\n",
              "    (119, 212),\n",
              "    (107, 206),\n",
              "    (98, 198),\n",
              "    (97, 211),\n",
              "    (93, 216),\n",
              "    (80, 216),\n",
              "    (71, 215),\n",
              "    (64, 207),\n",
              "    (63, 196),\n",
              "    (65, 180),\n",
              "    (62, 166),\n",
              "    (66, 156),\n",
              "    (76, 148),\n",
              "    (86, 147),\n",
              "    (96, 145),\n",
              "    (105, 145),\n",
              "    (108, 152)]]),\n",
              " ('218.jpg',\n",
              "  [[(196, 110),\n",
              "    (205, 115),\n",
              "    (208, 124),\n",
              "    (216, 134),\n",
              "    (210, 148),\n",
              "    (205, 160),\n",
              "    (196, 162),\n",
              "    (183, 164),\n",
              "    (184, 152),\n",
              "    (185, 145),\n",
              "    (176, 143),\n",
              "    (171, 135),\n",
              "    (169, 128),\n",
              "    (169, 118),\n",
              "    (184, 113),\n",
              "    (184, 108)]]),\n",
              " ('217.jpg',\n",
              "  [[(171, 96),\n",
              "    (162, 104),\n",
              "    (156, 114),\n",
              "    (162, 136),\n",
              "    (168, 144),\n",
              "    (177, 148),\n",
              "    (187, 149),\n",
              "    (198, 145),\n",
              "    (206, 140),\n",
              "    (211, 130),\n",
              "    (214, 120),\n",
              "    (210, 106),\n",
              "    (204, 99),\n",
              "    (195, 93),\n",
              "    (182, 93)]])]"
            ]
          },
          "metadata": {
            "tags": []
          },
          "execution_count": 28
        }
      ]
    },
    {
      "cell_type": "code",
      "metadata": {
        "colab": {
          "base_uri": "https://localhost:8080/"
        },
        "id": "skAWkckQOQ4e",
        "outputId": "782ead09-9425-434a-ed49-97849f02d5c9"
      },
      "source": [
        "pics_no_mask('val')"
      ],
      "execution_count": null,
      "outputs": [
        {
          "output_type": "execute_result",
          "data": {
            "text/plain": [
              "[]"
            ]
          },
          "metadata": {
            "tags": []
          },
          "execution_count": 20
        }
      ]
    },
    {
      "cell_type": "markdown",
      "metadata": {
        "id": "f3GLbl2GX62f"
      },
      "source": [
        "https://scikit-image.org/docs/dev/api/skimage.draw.html#skimage.draw.polygon"
      ]
    },
    {
      "cell_type": "code",
      "metadata": {
        "id": "2fXmqdIuvuID"
      },
      "source": [
        ""
      ],
      "execution_count": null,
      "outputs": []
    },
    {
      "cell_type": "code",
      "metadata": {
        "id": "e4pjfg4cvUqs"
      },
      "source": [
        "get_all_polygon_coords_lists('train')"
      ],
      "execution_count": null,
      "outputs": []
    },
    {
      "cell_type": "code",
      "metadata": {
        "id": "eEf5xtAlstpw"
      },
      "source": [
        "\n"
      ],
      "execution_count": null,
      "outputs": []
    },
    {
      "cell_type": "code",
      "metadata": {
        "colab": {
          "base_uri": "https://localhost:8080/"
        },
        "id": "-kDITpPLC5YK",
        "outputId": "09b25b48-75a5-4e3c-bc65-854ce5425bb7"
      },
      "source": [
        "from skimage.draw import polygon\n",
        "img = np.zeros((100, 100), dtype=np.uint8)\n",
        "\n",
        "r = np.array([10, 20, 80])\n",
        "c = np.array([10, 70, 40])\n",
        "rr, cc = polygon(r, c)\n",
        "img[rr, cc] = 1\n",
        "\n",
        "r = np.array([1, 10, 5])\n",
        "c = np.array([60, 60, 80])\n",
        "rr, cc = polygon(r, c)\n",
        "img[rr, cc] = 1\n",
        "\n",
        "img\n",
        "# img = Image.fromarray(img, )\n",
        "# img.save('my.png')\n",
        "# img.show()"
      ],
      "execution_count": null,
      "outputs": [
        {
          "output_type": "execute_result",
          "data": {
            "text/plain": [
              "array([[0, 0, 0, ..., 0, 0, 0],\n",
              "       [0, 0, 0, ..., 0, 0, 0],\n",
              "       [0, 0, 0, ..., 0, 0, 0],\n",
              "       ...,\n",
              "       [0, 0, 0, ..., 0, 0, 0],\n",
              "       [0, 0, 0, ..., 0, 0, 0],\n",
              "       [0, 0, 0, ..., 0, 0, 0]], dtype=uint8)"
            ]
          },
          "metadata": {
            "tags": []
          },
          "execution_count": 40
        }
      ]
    },
    {
      "cell_type": "code",
      "metadata": {
        "colab": {
          "base_uri": "https://localhost:8080/",
          "height": 268
        },
        "id": "xWdcnlH8qhAQ",
        "outputId": "1d29ef5b-41cb-4137-c499-acda4d8f6d9b"
      },
      "source": [
        "from matplotlib import pyplot as plt\n",
        "plt.imshow(img, interpolation='nearest', cmap='gray', vmin=0, vmax=1, )\n",
        "plt.show()"
      ],
      "execution_count": null,
      "outputs": [
        {
          "output_type": "display_data",
          "data": {
            "image/png": "[encoded data removed]",
            "text/plain": [
              "<Figure size 432x288 with 1 Axes>"
            ]
          },
          "metadata": {
            "tags": [],
            "needs_background": "light"
          }
        }
      ]
    },
    {
      "cell_type": "code",
      "metadata": {
        "id": "haBM6yomC5NY"
      },
      "source": [
        "from PIL import Image"
      ],
      "execution_count": null,
      "outputs": []
    },
    {
      "cell_type": "code",
      "metadata": {
        "colab": {
          "base_uri": "https://localhost:8080/",
          "height": 341
        },
        "id": "Jq4DCBQJC5Cx",
        "outputId": "75fcff76-7c34-4b19-d6b2-e51663ee50f8"
      },
      "source": [
        "img = Image.fromarray(img, 'RGB')\n",
        "img.save('my.png')\n",
        "img.show()"
      ],
      "execution_count": null,
      "outputs": [
        {
          "output_type": "error",
          "ename": "TypeError",
          "evalue": "ignored",
          "traceback": [
            "\u001b[0;31m---------------------------------------------------------------------------\u001b[0m",
            "\u001b[0;31mTypeError\u001b[0m                                 Traceback (most recent call last)",
            "\u001b[0;32m<ipython-input-14-a91a1207b3e1>\u001b[0m in \u001b[0;36m<module>\u001b[0;34m()\u001b[0m\n\u001b[0;32m----> 1\u001b[0;31m \u001b[0mimg\u001b[0m \u001b[0;34m=\u001b[0m \u001b[0mImage\u001b[0m\u001b[0;34m.\u001b[0m\u001b[0mfromarray\u001b[0m\u001b[0;34m(\u001b[0m\u001b[0mimg\u001b[0m\u001b[0;34m,\u001b[0m \u001b[0;34m'RGB'\u001b[0m\u001b[0;34m)\u001b[0m\u001b[0;34m\u001b[0m\u001b[0;34m\u001b[0m\u001b[0m\n\u001b[0m\u001b[1;32m      2\u001b[0m \u001b[0mimg\u001b[0m\u001b[0;34m.\u001b[0m\u001b[0msave\u001b[0m\u001b[0;34m(\u001b[0m\u001b[0;34m'my.png'\u001b[0m\u001b[0;34m)\u001b[0m\u001b[0;34m\u001b[0m\u001b[0;34m\u001b[0m\u001b[0m\n\u001b[1;32m      3\u001b[0m \u001b[0mimg\u001b[0m\u001b[0;34m.\u001b[0m\u001b[0mshow\u001b[0m\u001b[0;34m(\u001b[0m\u001b[0;34m)\u001b[0m\u001b[0;34m\u001b[0m\u001b[0;34m\u001b[0m\u001b[0m\n",
            "\u001b[0;32m/usr/local/lib/python3.7/dist-packages/PIL/Image.py\u001b[0m in \u001b[0;36mfromarray\u001b[0;34m(obj, mode)\u001b[0m\n\u001b[1;32m   2733\u001b[0m             \u001b[0mobj\u001b[0m \u001b[0;34m=\u001b[0m \u001b[0mobj\u001b[0m\u001b[0;34m.\u001b[0m\u001b[0mtostring\u001b[0m\u001b[0;34m(\u001b[0m\u001b[0;34m)\u001b[0m\u001b[0;34m\u001b[0m\u001b[0;34m\u001b[0m\u001b[0m\n\u001b[1;32m   2734\u001b[0m \u001b[0;34m\u001b[0m\u001b[0m\n\u001b[0;32m-> 2735\u001b[0;31m     \u001b[0;32mreturn\u001b[0m \u001b[0mfrombuffer\u001b[0m\u001b[0;34m(\u001b[0m\u001b[0mmode\u001b[0m\u001b[0;34m,\u001b[0m \u001b[0msize\u001b[0m\u001b[0;34m,\u001b[0m \u001b[0mobj\u001b[0m\u001b[0;34m,\u001b[0m \u001b[0;34m\"raw\"\u001b[0m\u001b[0;34m,\u001b[0m \u001b[0mrawmode\u001b[0m\u001b[0;34m,\u001b[0m \u001b[0;36m0\u001b[0m\u001b[0;34m,\u001b[0m \u001b[0;36m1\u001b[0m\u001b[0;34m)\u001b[0m\u001b[0;34m\u001b[0m\u001b[0;34m\u001b[0m\u001b[0m\n\u001b[0m\u001b[1;32m   2736\u001b[0m \u001b[0;34m\u001b[0m\u001b[0m\n\u001b[1;32m   2737\u001b[0m \u001b[0;34m\u001b[0m\u001b[0m\n",
            "\u001b[0;32m/usr/local/lib/python3.7/dist-packages/PIL/Image.py\u001b[0m in \u001b[0;36mfrombuffer\u001b[0;34m(mode, size, data, decoder_name, *args)\u001b[0m\n\u001b[1;32m   2673\u001b[0m             \u001b[0;32mreturn\u001b[0m \u001b[0mim\u001b[0m\u001b[0;34m\u001b[0m\u001b[0;34m\u001b[0m\u001b[0m\n\u001b[1;32m   2674\u001b[0m \u001b[0;34m\u001b[0m\u001b[0m\n\u001b[0;32m-> 2675\u001b[0;31m     \u001b[0;32mreturn\u001b[0m \u001b[0mfrombytes\u001b[0m\u001b[0;34m(\u001b[0m\u001b[0mmode\u001b[0m\u001b[0;34m,\u001b[0m \u001b[0msize\u001b[0m\u001b[0;34m,\u001b[0m \u001b[0mdata\u001b[0m\u001b[0;34m,\u001b[0m \u001b[0mdecoder_name\u001b[0m\u001b[0;34m,\u001b[0m \u001b[0margs\u001b[0m\u001b[0;34m)\u001b[0m\u001b[0;34m\u001b[0m\u001b[0;34m\u001b[0m\u001b[0m\n\u001b[0m\u001b[1;32m   2676\u001b[0m \u001b[0;34m\u001b[0m\u001b[0m\n\u001b[1;32m   2677\u001b[0m \u001b[0;34m\u001b[0m\u001b[0m\n",
            "\u001b[0;32m/usr/local/lib/python3.7/dist-packages/PIL/Image.py\u001b[0m in \u001b[0;36mfrombytes\u001b[0;34m(mode, size, data, decoder_name, *args)\u001b[0m\n\u001b[1;32m   2613\u001b[0m \u001b[0;34m\u001b[0m\u001b[0m\n\u001b[1;32m   2614\u001b[0m     \u001b[0mim\u001b[0m \u001b[0;34m=\u001b[0m \u001b[0mnew\u001b[0m\u001b[0;34m(\u001b[0m\u001b[0mmode\u001b[0m\u001b[0;34m,\u001b[0m \u001b[0msize\u001b[0m\u001b[0;34m)\u001b[0m\u001b[0;34m\u001b[0m\u001b[0;34m\u001b[0m\u001b[0m\n\u001b[0;32m-> 2615\u001b[0;31m     \u001b[0mim\u001b[0m\u001b[0;34m.\u001b[0m\u001b[0mfrombytes\u001b[0m\u001b[0;34m(\u001b[0m\u001b[0mdata\u001b[0m\u001b[0;34m,\u001b[0m \u001b[0mdecoder_name\u001b[0m\u001b[0;34m,\u001b[0m \u001b[0margs\u001b[0m\u001b[0;34m)\u001b[0m\u001b[0;34m\u001b[0m\u001b[0;34m\u001b[0m\u001b[0m\n\u001b[0m\u001b[1;32m   2616\u001b[0m     \u001b[0;32mreturn\u001b[0m \u001b[0mim\u001b[0m\u001b[0;34m\u001b[0m\u001b[0;34m\u001b[0m\u001b[0m\n\u001b[1;32m   2617\u001b[0m \u001b[0;34m\u001b[0m\u001b[0m\n",
            "\u001b[0;32m/usr/local/lib/python3.7/dist-packages/PIL/Image.py\u001b[0m in \u001b[0;36mfrombytes\u001b[0;34m(self, data, decoder_name, *args)\u001b[0m\n\u001b[1;32m    795\u001b[0m         \u001b[0md\u001b[0m \u001b[0;34m=\u001b[0m \u001b[0m_getdecoder\u001b[0m\u001b[0;34m(\u001b[0m\u001b[0mself\u001b[0m\u001b[0;34m.\u001b[0m\u001b[0mmode\u001b[0m\u001b[0;34m,\u001b[0m \u001b[0mdecoder_name\u001b[0m\u001b[0;34m,\u001b[0m \u001b[0margs\u001b[0m\u001b[0;34m)\u001b[0m\u001b[0;34m\u001b[0m\u001b[0;34m\u001b[0m\u001b[0m\n\u001b[1;32m    796\u001b[0m         \u001b[0md\u001b[0m\u001b[0;34m.\u001b[0m\u001b[0msetimage\u001b[0m\u001b[0;34m(\u001b[0m\u001b[0mself\u001b[0m\u001b[0;34m.\u001b[0m\u001b[0mim\u001b[0m\u001b[0;34m)\u001b[0m\u001b[0;34m\u001b[0m\u001b[0;34m\u001b[0m\u001b[0m\n\u001b[0;32m--> 797\u001b[0;31m         \u001b[0ms\u001b[0m \u001b[0;34m=\u001b[0m \u001b[0md\u001b[0m\u001b[0;34m.\u001b[0m\u001b[0mdecode\u001b[0m\u001b[0;34m(\u001b[0m\u001b[0mdata\u001b[0m\u001b[0;34m)\u001b[0m\u001b[0;34m\u001b[0m\u001b[0;34m\u001b[0m\u001b[0m\n\u001b[0m\u001b[1;32m    798\u001b[0m \u001b[0;34m\u001b[0m\u001b[0m\n\u001b[1;32m    799\u001b[0m         \u001b[0;32mif\u001b[0m \u001b[0ms\u001b[0m\u001b[0;34m[\u001b[0m\u001b[0;36m0\u001b[0m\u001b[0;34m]\u001b[0m \u001b[0;34m>=\u001b[0m \u001b[0;36m0\u001b[0m\u001b[0;34m:\u001b[0m\u001b[0;34m\u001b[0m\u001b[0;34m\u001b[0m\u001b[0m\n",
            "\u001b[0;31mTypeError\u001b[0m: a bytes-like object is required, not 'Image'"
          ]
        }
      ]
    },
    {
      "cell_type": "code",
      "metadata": {
        "id": "Qd0OAFFvC42H"
      },
      "source": [
        ""
      ],
      "execution_count": null,
      "outputs": []
    },
    {
      "cell_type": "code",
      "metadata": {
        "id": "kyKS_EtZZCRA"
      },
      "source": [
        "def view_image(img_name):\n",
        "  img_path = f'{IMAGE_DIR}/{img_name}'\n",
        "  image = load_img(\"{}\".format(img_path))\n",
        "  if len(image.shape) > 3:\n",
        "          image = tf.squeeze(image, axis=0)\n",
        "\n",
        "  plt.imshow(image)"
      ],
      "execution_count": null,
      "outputs": []
    },
    {
      "cell_type": "code",
      "metadata": {
        "colab": {
          "base_uri": "https://localhost:8080/",
          "height": 269
        },
        "id": "4cHsm414XwES",
        "outputId": "cd2a1933-b411-4202-c0c9-809679dcb46c"
      },
      "source": [
        "img_viz = view_image('217.jpg')"
      ],
      "execution_count": null,
      "outputs": [
        {
          "output_type": "display_data",
          "data": {
            "image/png": "[encoded data removed]",
            "text/plain": [
              "<Figure size 432x288 with 1 Axes>"
            ]
          },
          "metadata": {
            "tags": [],
            "needs_background": "light"
          }
        }
      ]
    },
    {
      "cell_type": "markdown",
      "metadata": {
        "id": "5UO6KNc5UGbM"
      },
      "source": [
        "# Create Mask"
      ]
    },
    {
      "cell_type": "code",
      "metadata": {
        "colab": {
          "base_uri": "https://localhost:8080/"
        },
        "id": "7hZN3EPpax56",
        "outputId": "981833e1-4c64-4d7d-ec26-58d1d1741ac1"
      },
      "source": [
        "annotations[0]"
      ],
      "execution_count": null,
      "outputs": [
        {
          "output_type": "execute_result",
          "data": {
            "text/plain": [
              "{'file_attributes': {},\n",
              " 'filename': '217.jpg',\n",
              " 'regions': [{'region_attributes': {},\n",
              "   'shape_attributes': {'all_points_x': [171,\n",
              "     162,\n",
              "     156,\n",
              "     162,\n",
              "     168,\n",
              "     177,\n",
              "     187,\n",
              "     198,\n",
              "     206,\n",
              "     211,\n",
              "     214,\n",
              "     210,\n",
              "     204,\n",
              "     195,\n",
              "     182],\n",
              "    'all_points_y': [96,\n",
              "     104,\n",
              "     114,\n",
              "     136,\n",
              "     144,\n",
              "     148,\n",
              "     149,\n",
              "     145,\n",
              "     140,\n",
              "     130,\n",
              "     120,\n",
              "     106,\n",
              "     99,\n",
              "     93,\n",
              "     93],\n",
              "    'name': 'polygon'}}],\n",
              " 'size': 19113}"
            ]
          },
          "metadata": {
            "tags": []
          },
          "execution_count": 63
        }
      ]
    },
    {
      "cell_type": "code",
      "metadata": {
        "colab": {
          "base_uri": "https://localhost:8080/",
          "height": 164
        },
        "id": "ja7zt3GcaeLo",
        "outputId": "1d3c4377-ef8a-44a5-be2b-42c7985cbad6"
      },
      "source": [
        "this_dict = annotations('filename' == '217.jpg')"
      ],
      "execution_count": null,
      "outputs": [
        {
          "output_type": "error",
          "ename": "TypeError",
          "evalue": "ignored",
          "traceback": [
            "\u001b[0;31m---------------------------------------------------------------------------\u001b[0m",
            "\u001b[0;31mTypeError\u001b[0m                                 Traceback (most recent call last)",
            "\u001b[0;32m<ipython-input-58-e9c3e8f16b53>\u001b[0m in \u001b[0;36m<module>\u001b[0;34m()\u001b[0m\n\u001b[0;32m----> 1\u001b[0;31m \u001b[0mthis_dict\u001b[0m \u001b[0;34m=\u001b[0m \u001b[0mannotations\u001b[0m\u001b[0;34m(\u001b[0m\u001b[0;34m'filename'\u001b[0m \u001b[0;34m==\u001b[0m \u001b[0;34m'217.jpg'\u001b[0m\u001b[0;34m)\u001b[0m\u001b[0;34m\u001b[0m\u001b[0;34m\u001b[0m\u001b[0m\n\u001b[0m",
            "\u001b[0;31mTypeError\u001b[0m: 'list' object is not callable"
          ]
        }
      ]
    },
    {
      "cell_type": "code",
      "metadata": {
        "id": "UgHkiGKtTzKm"
      },
      "source": [
        "import numpy as np\n",
        "import cv2\n",
        "\n",
        "pts = np.array([[542, 107], [562, 102], [582, 110], [598, 142], [600, 192], [601, 225], [592, 261], [572, 263], [551, 245], [526, 220], [520, 188], [518, 152], [525, 127], [524, 107]], dtype=np.int32)\n",
        "\n",
        "mask = np.zeros((img.shape[0], img.shape[1]))\n",
        "\n",
        "cv2.fillConvexPoly(mask, pts, 1)\n",
        "mask = mask.astype(np.bool)\n",
        "\n",
        "out = np.zeros_like(img)\n",
        "out[mask] = img[mask]"
      ],
      "execution_count": null,
      "outputs": []
    },
    {
      "cell_type": "code",
      "metadata": {
        "id": "lvzUf06AaLKV"
      },
      "source": [
        "from google.colab.patches import cv2_imshow"
      ],
      "execution_count": null,
      "outputs": []
    },
    {
      "cell_type": "code",
      "metadata": {
        "colab": {
          "base_uri": "https://localhost:8080/",
          "height": 426
        },
        "id": "mcecmsLHTzAV",
        "outputId": "c16ab2c3-50f3-431f-f7a1-f386abcc5892"
      },
      "source": [
        "cv2_imshow(out)\n",
        "cv2.waitKey(0)\n",
        "cv2.destroyAllWindows()"
      ],
      "execution_count": null,
      "outputs": [
        {
          "output_type": "error",
          "ename": "TypeError",
          "evalue": "ignored",
          "traceback": [
            "\u001b[0;31m---------------------------------------------------------------------------\u001b[0m",
            "\u001b[0;31mKeyError\u001b[0m                                  Traceback (most recent call last)",
            "\u001b[0;32m/usr/local/lib/python3.7/dist-packages/PIL/Image.py\u001b[0m in \u001b[0;36mfromarray\u001b[0;34m(obj, mode)\u001b[0m\n\u001b[1;32m   2713\u001b[0m         \u001b[0;32mtry\u001b[0m\u001b[0;34m:\u001b[0m\u001b[0;34m\u001b[0m\u001b[0;34m\u001b[0m\u001b[0m\n\u001b[0;32m-> 2714\u001b[0;31m             \u001b[0mmode\u001b[0m\u001b[0;34m,\u001b[0m \u001b[0mrawmode\u001b[0m \u001b[0;34m=\u001b[0m \u001b[0m_fromarray_typemap\u001b[0m\u001b[0;34m[\u001b[0m\u001b[0mtypekey\u001b[0m\u001b[0;34m]\u001b[0m\u001b[0;34m\u001b[0m\u001b[0;34m\u001b[0m\u001b[0m\n\u001b[0m\u001b[1;32m   2715\u001b[0m         \u001b[0;32mexcept\u001b[0m \u001b[0mKeyError\u001b[0m\u001b[0;34m:\u001b[0m\u001b[0;34m\u001b[0m\u001b[0;34m\u001b[0m\u001b[0m\n",
            "\u001b[0;31mKeyError\u001b[0m: ((1, 1, 512, 3), '|u1')",
            "\nDuring handling of the above exception, another exception occurred:\n",
            "\u001b[0;31mTypeError\u001b[0m                                 Traceback (most recent call last)",
            "\u001b[0;32m<ipython-input-56-83a15efe2333>\u001b[0m in \u001b[0;36m<module>\u001b[0;34m()\u001b[0m\n\u001b[0;32m----> 1\u001b[0;31m \u001b[0mcv2_imshow\u001b[0m\u001b[0;34m(\u001b[0m\u001b[0mout\u001b[0m\u001b[0;34m)\u001b[0m\u001b[0;34m\u001b[0m\u001b[0;34m\u001b[0m\u001b[0m\n\u001b[0m\u001b[1;32m      2\u001b[0m \u001b[0mcv2\u001b[0m\u001b[0;34m.\u001b[0m\u001b[0mwaitKey\u001b[0m\u001b[0;34m(\u001b[0m\u001b[0;36m0\u001b[0m\u001b[0;34m)\u001b[0m\u001b[0;34m\u001b[0m\u001b[0;34m\u001b[0m\u001b[0m\n\u001b[1;32m      3\u001b[0m \u001b[0mcv2\u001b[0m\u001b[0;34m.\u001b[0m\u001b[0mdestroyAllWindows\u001b[0m\u001b[0;34m(\u001b[0m\u001b[0;34m)\u001b[0m\u001b[0;34m\u001b[0m\u001b[0;34m\u001b[0m\u001b[0m\n",
            "\u001b[0;32m/usr/local/lib/python3.7/dist-packages/google/colab/patches/__init__.py\u001b[0m in \u001b[0;36mcv2_imshow\u001b[0;34m(a)\u001b[0m\n\u001b[1;32m     27\u001b[0m     \u001b[0;32melse\u001b[0m\u001b[0;34m:\u001b[0m\u001b[0;34m\u001b[0m\u001b[0;34m\u001b[0m\u001b[0m\n\u001b[1;32m     28\u001b[0m       \u001b[0ma\u001b[0m \u001b[0;34m=\u001b[0m \u001b[0mcv2\u001b[0m\u001b[0;34m.\u001b[0m\u001b[0mcvtColor\u001b[0m\u001b[0;34m(\u001b[0m\u001b[0ma\u001b[0m\u001b[0;34m,\u001b[0m \u001b[0mcv2\u001b[0m\u001b[0;34m.\u001b[0m\u001b[0mCOLOR_BGR2RGB\u001b[0m\u001b[0;34m)\u001b[0m\u001b[0;34m\u001b[0m\u001b[0;34m\u001b[0m\u001b[0m\n\u001b[0;32m---> 29\u001b[0;31m   \u001b[0mdisplay\u001b[0m\u001b[0;34m.\u001b[0m\u001b[0mdisplay\u001b[0m\u001b[0;34m(\u001b[0m\u001b[0mPIL\u001b[0m\u001b[0;34m.\u001b[0m\u001b[0mImage\u001b[0m\u001b[0;34m.\u001b[0m\u001b[0mfromarray\u001b[0m\u001b[0;34m(\u001b[0m\u001b[0ma\u001b[0m\u001b[0;34m)\u001b[0m\u001b[0;34m)\u001b[0m\u001b[0;34m\u001b[0m\u001b[0;34m\u001b[0m\u001b[0m\n\u001b[0m\u001b[1;32m     30\u001b[0m \u001b[0;34m\u001b[0m\u001b[0m\n\u001b[1;32m     31\u001b[0m \u001b[0;34m\u001b[0m\u001b[0m\n",
            "\u001b[0;32m/usr/local/lib/python3.7/dist-packages/PIL/Image.py\u001b[0m in \u001b[0;36mfromarray\u001b[0;34m(obj, mode)\u001b[0m\n\u001b[1;32m   2714\u001b[0m             \u001b[0mmode\u001b[0m\u001b[0;34m,\u001b[0m \u001b[0mrawmode\u001b[0m \u001b[0;34m=\u001b[0m \u001b[0m_fromarray_typemap\u001b[0m\u001b[0;34m[\u001b[0m\u001b[0mtypekey\u001b[0m\u001b[0;34m]\u001b[0m\u001b[0;34m\u001b[0m\u001b[0;34m\u001b[0m\u001b[0m\n\u001b[1;32m   2715\u001b[0m         \u001b[0;32mexcept\u001b[0m \u001b[0mKeyError\u001b[0m\u001b[0;34m:\u001b[0m\u001b[0;34m\u001b[0m\u001b[0;34m\u001b[0m\u001b[0m\n\u001b[0;32m-> 2716\u001b[0;31m             \u001b[0;32mraise\u001b[0m \u001b[0mTypeError\u001b[0m\u001b[0;34m(\u001b[0m\u001b[0;34m\"Cannot handle this data type: %s, %s\"\u001b[0m \u001b[0;34m%\u001b[0m \u001b[0mtypekey\u001b[0m\u001b[0;34m)\u001b[0m\u001b[0;34m\u001b[0m\u001b[0;34m\u001b[0m\u001b[0m\n\u001b[0m\u001b[1;32m   2717\u001b[0m     \u001b[0;32melse\u001b[0m\u001b[0;34m:\u001b[0m\u001b[0;34m\u001b[0m\u001b[0;34m\u001b[0m\u001b[0m\n\u001b[1;32m   2718\u001b[0m         \u001b[0mrawmode\u001b[0m \u001b[0;34m=\u001b[0m \u001b[0mmode\u001b[0m\u001b[0;34m\u001b[0m\u001b[0;34m\u001b[0m\u001b[0m\n",
            "\u001b[0;31mTypeError\u001b[0m: Cannot handle this data type: (1, 1, 512, 3), |u1"
          ]
        }
      ]
    },
    {
      "cell_type": "code",
      "metadata": {
        "id": "EYpXtYoGaF2N"
      },
      "source": [
        ""
      ],
      "execution_count": null,
      "outputs": []
    },
    {
      "cell_type": "code",
      "metadata": {
        "id": "W3m2__KGaFsi"
      },
      "source": [
        ""
      ],
      "execution_count": null,
      "outputs": []
    },
    {
      "cell_type": "code",
      "metadata": {
        "id": "9o8ZB5KNaFim"
      },
      "source": [
        ""
      ],
      "execution_count": null,
      "outputs": []
    },
    {
      "cell_type": "code",
      "metadata": {
        "id": "2jMhB5EoaFXO"
      },
      "source": [
        ""
      ],
      "execution_count": null,
      "outputs": []
    },
    {
      "cell_type": "code",
      "metadata": {
        "id": "qVilTpOraFJ0"
      },
      "source": [
        ""
      ],
      "execution_count": null,
      "outputs": []
    },
    {
      "cell_type": "code",
      "metadata": {
        "id": "SFZ06wQjTbr6"
      },
      "source": [
        ""
      ],
      "execution_count": null,
      "outputs": []
    },
    {
      "cell_type": "code",
      "metadata": {
        "id": "msGXB6PGU_pp"
      },
      "source": [
        "content_path = f'{IMAGE_DIR}/217.jpg'\n",
        "style_path = f'{IMAGE_DIR}/218.jpg'"
      ],
      "execution_count": null,
      "outputs": []
    },
    {
      "cell_type": "code",
      "metadata": {
        "id": "X03q6svATb0X"
      },
      "source": [
        "# display the content and style image\n",
        "content_image, style_image = load_images(content_path, style_path)\n",
        "show_images_with_objects([content_image, style_image], \n",
        "                         titles=[f'content image: {content_path}',\n",
        "                                 f'style image: {style_path}'])"
      ],
      "execution_count": null,
      "outputs": []
    },
    {
      "cell_type": "code",
      "metadata": {
        "id": "N4nyCx7mTcFl"
      },
      "source": [
        "def tensor_to_image(tensor):\n",
        "    '''converts a tensor to an image'''\n",
        "    tensor_shape = tf.shape(tensor)\n",
        "    number_elem_shape = tf.shape(tensor_shape)\n",
        "    if number_elem_shape > 3:\n",
        "        assert tensor_shape[0] == 1\n",
        "        tensor = tensor[0]\n",
        "    return tf.keras.preprocessing.image.array_to_img(tensor) \n",
        "\n",
        "\n",
        "def load_img(path_to_img):\n",
        "    '''loads an image as a tensor and scales it to 512 pixels'''\n",
        "    max_dim = 512\n",
        "    image = tf.io.read_file(path_to_img)\n",
        "    image = tf.image.decode_jpeg(image)\n",
        "    image = tf.image.convert_image_dtype(image, tf.float32)\n",
        "\n",
        "    shape = tf.shape(image)[:-1]\n",
        "    shape = tf.cast(tf.shape(image)[:-1], tf.float32)\n",
        "    long_dim = max(shape)\n",
        "    scale = max_dim / long_dim\n",
        "\n",
        "    new_shape = tf.cast(shape * scale, tf.int32)\n",
        "\n",
        "    image = tf.image.resize(image, new_shape)\n",
        "    image = image[tf.newaxis, :]\n",
        "    image = tf.image.convert_image_dtype(image, tf.uint8)\n",
        "\n",
        "    return image\n",
        "\n",
        "\n",
        "def load_images(content_path, style_path):\n",
        "    '''loads the content and path images as tensors'''\n",
        "    content_image = load_img(\"{}\".format(content_path))\n",
        "    style_image = load_img(\"{}\".format(style_path))\n",
        "\n",
        "    return content_image, style_image\n",
        "\n",
        "\n",
        "def imshow(image, title=None):\n",
        "    '''displays an image with a corresponding title'''\n",
        "    if len(image.shape) > 3:\n",
        "        image = tf.squeeze(image, axis=0)\n",
        "\n",
        "    plt.imshow(image)\n",
        "    if title:\n",
        "        plt.title(title)\n",
        "    \n",
        "    \n",
        "def show_images_with_objects(images, titles=[]):\n",
        "    '''displays a row of images with corresponding titles'''\n",
        "    if len(images) != len(titles):\n",
        "        return\n",
        "\n",
        "    plt.figure(figsize=(20, 12))\n",
        "    for idx, (image, title) in enumerate(zip(images, titles)):\n",
        "        plt.subplot(1, len(images), idx + 1)\n",
        "        plt.xticks([])\n",
        "        plt.yticks([])\n",
        "        imshow(image, title)\n",
        "\n",
        "\n",
        "def display_gif(gif_path):\n",
        "    '''displays the generated images as an animated gif'''\n",
        "    with open(gif_path,'rb') as f:\n",
        "        display_fn(Image(data=f.read(), format='png'))\n",
        "\n",
        "\n",
        "def create_gif(gif_path, images):\n",
        "    '''creates animation of generated images'''\n",
        "    mimsave(gif_path, images, fps=1)\n",
        "\n",
        "    return gif_path\n",
        "\n",
        "\n",
        "def clip_image_values(image, min_value=0.0, max_value=255.0):\n",
        "    '''clips the image pixel values by the given min and max'''\n",
        "    return tf.clip_by_value(image, clip_value_min=min_value, clip_value_max=max_value)\n",
        "\n",
        "\n",
        "def preprocess_image(image):\n",
        "    '''centers the pixel values of a given image to use with VGG-19'''\n",
        "    image = tf.cast(image, dtype=tf.float32)\n",
        "    image = tf.keras.applications.vgg19.preprocess_input(image)\n",
        "\n",
        "    return image"
      ],
      "execution_count": null,
      "outputs": []
    },
    {
      "cell_type": "markdown",
      "metadata": {
        "id": "CH85ytmD0PnW"
      },
      "source": [
        "# Overview\n",
        "\n",
        "- I will be using the data found at https://github.com/ruslan-kl/brain-tumor \n",
        "- This data is for instance segmentation of brain tumors\n",
        "- It seems that there is a polygon mask overlaying each of the tumors, so that's what I'll use to train\n"
      ]
    },
    {
      "cell_type": "code",
      "metadata": {
        "id": "bgTcAQ8jL4IB"
      },
      "source": [
        "import os\n",
        "import tensorflow as tf"
      ],
      "execution_count": null,
      "outputs": []
    },
    {
      "cell_type": "code",
      "metadata": {
        "id": "Fclirv7C6MzE"
      },
      "source": [
        "# Load the Drive helper and mount\n",
        "from google.colab import drive\n",
        "\n",
        "# This will prompt for authorization.\n",
        "drive.mount('/content/drive')\n",
        "\n",
        "!ls \"/content/drive/MyDrive\""
      ],
      "execution_count": null,
      "outputs": []
    },
    {
      "cell_type": "code",
      "metadata": {
        "id": "d1h3ymc5s8mN"
      },
      "source": [
        "DATASET_DIR = '/content/drive/MyDrive/Colab_Notebooks/brain_tumor/brain-tumor/data_cleaned/' # directory with image data"
      ],
      "execution_count": null,
      "outputs": []
    },
    {
      "cell_type": "code",
      "metadata": {
        "colab": {
          "base_uri": "https://localhost:8080/"
        },
        "id": "Zv_jdIOo6ni3",
        "outputId": "5f4920b5-7c02-469d-812e-930f10c1b0c3"
      },
      "source": [
        "!ls '/content/drive/MyDrive/Colab_Notebooks/brain_tumor/brain-tumor/data_cleaned/'"
      ],
      "execution_count": null,
      "outputs": [
        {
          "output_type": "stream",
          "text": [
            "annotations_all.json  test  train  val\n"
          ],
          "name": "stdout"
        }
      ]
    },
    {
      "cell_type": "code",
      "metadata": {
        "id": "mSTLVDbfR8Ld"
      },
      "source": [
        ""
      ],
      "execution_count": null,
      "outputs": []
    },
    {
      "cell_type": "code",
      "metadata": {
        "id": "RrVOC3RKRngk"
      },
      "source": [
        "train_data_dir = 'data/training'  \n",
        "validation_data_dir = 'data/validation'  \n",
        "test_data_dir = 'data/test' \n",
        "target_names = [item for item in os.listdir(train_data_dir) if os.path.isdir(os.path.join(train_data_dir, item))]\n",
        "nb_train_samples = sum([len(files) for _, _, files in os.walk(train_data_dir)])  \n",
        "nb_validation_samples = sum([len(files) for _, _, files in os.walk(validation_data_dir)])\n",
        "nb_test_samples = sum([len(files) for _, _, files in os.walk(test_data_dir)])\n",
        "total_nb_samples = nb_train_samples + nb_validation_samples + nb_test_samples\n",
        "\n",
        "nb_classes = len(target_names)      # number of output classes\n",
        "\n",
        "print('Training a CNN Multi-Classifier Model ......')\n",
        "print('\\n - names of classes: ', target_names, '\\n - # of classes: ', nb_classes)\n",
        "print(' - # of trained samples: ', nb_train_samples, '\\n - # of validation samples: ', nb_validation_samples,\n",
        "      '\\n - # of test samples: ', nb_test_samples,\n",
        "       '\\n - total # of samples: ', total_nb_samples, '\\n - train ratio:', round(nb_train_samples/total_nb_samples*100, 2),\n",
        "      '\\n - validation ratio:', round(nb_validation_samples/total_nb_samples*100, 2),\n",
        "      '\\n - test ratio:', round(nb_test_samples/total_nb_samples*100, 2),\n",
        "     ' %', '\\n - # of epochs: ', epochs, '\\n - batch size: ', batch_size)\n"
      ],
      "execution_count": null,
      "outputs": []
    },
    {
      "cell_type": "markdown",
      "metadata": {
        "id": "6O5Gnl9PKaYe"
      },
      "source": [
        "## Build the custom brain MRI data set.\n",
        "\n",
        "Dataset class provides a consistent way to work with any dataset. We will create our new datasets for brain images to train without having to change the code of the model.\n",
        "\n",
        "Dataset class also supports loading multiple data sets at the same time. This is very helpful when you want to detect different objects and they are all not available in one data set.\n",
        "\n",
        "In the ***load_dataset*** method, we iterate through all the files in the image and annotations folders to add the class, images, and annotations to create the dataset using ***add_class*** and ***add_image*** methods.\n",
        "\n",
        "***extract_boxes*** method extracts each of the bounding boxes from the annotation file. Annotation files are XML files using Pascal VOC format. It returns the box, it’s height and width\n",
        "\n",
        "***load_mask*** method generates the masks for every object in the image. It returns one mask per instance and class ids, a 1D array of class id for the instance masks\n",
        "\n",
        "***image_reference*** method returns the path of the image."
      ]
    },
    {
      "cell_type": "code",
      "metadata": {
        "id": "-sjEaRIiLWvE"
      },
      "source": [
        "ABS_PATH = '/content/drive/MyDrive/Colab_Notebooks/brain_tumor/brain-tumor/'\n",
        "DATA_PATH = os.path.join(ABS_PATH, 'data_cleaned/')\n",
        " \n",
        "TRAIN_DIR = os.path.join(DATA_PATH, 'train')\n",
        "TEST_DIR = os.path.join(DATA_PATH, 'test')\n",
        "VAL_DIR = os.path.join(DATA_PATH, 'val')\n",
        "\n",
        "ALIGNED_TRAIN_DIR = TRAIN_DIR + '_cropped'\n",
        "ALIGNED_TEST_DIR = TEST_DIR + '_cropped'"
      ],
      "execution_count": null,
      "outputs": []
    },
    {
      "cell_type": "code",
      "metadata": {
        "colab": {
          "base_uri": "https://localhost:8080/",
          "height": 232
        },
        "id": "lWjMWBvEKZQ-",
        "outputId": "76d38cfd-c0bc-4064-85a7-2790cd128afb"
      },
      "source": [
        "class BrainScanDataset(tf.utils.Dataset):\n",
        "  def load_brain_scan(self, dataset_dir, subset):\n",
        "        \"\"\"Load a subset of the Brain Scan dataset.\n",
        "        dataset_dir: Root directory of the dataset.\n",
        "        subset: Subset to load: train or val\n",
        "        \"\"\"\n",
        "        # Add classes. We have only one class to add.\n",
        "        self.add_class(\"tumor\", 1, \"tumor\")# Train or validation dataset?\n",
        "        assert subset in [\"train\", \"val\", 'test']\n",
        "        dataset_dir = os.path.join(dataset_dir, subset)\n",
        "        annotations = json.load(open(os.path.join(DATASET_DIR, subset, 'annotations_'+subset+'.json')))\n",
        "        annotations = list(annotations.values())  # don't need the dict keys\n",
        "        # The VIA tool saves images in the JSON even if they don't have any\n",
        "        # annotations. Skip unannotated images.\n",
        "        annotations = [a for a in annotations if a['regions']]\n",
        "        # Add images\n",
        "        for a in annotations:\n",
        "            # Get the x, y coordinaets of points of the polygons that make up\n",
        "            # the outline of each object instance. These are stores in the\n",
        "            # shape_attributes (see json format above)\n",
        "            # The if condition is needed to support VIA versions 1.x and 2.x.\n",
        "            if type(a['regions']) is dict:\n",
        "                polygons = [r['shape_attributes'] for r in a['regions'].values()]\n",
        "            else:\n",
        "                polygons = [r['shape_attributes'] for r in a['regions']]\n",
        "                # load_mask() needs the image size to convert polygons to masks.\n",
        "            # Unfortunately, VIA doesn't include it in JSON, so we must read\n",
        "            # the image. This is only managable since the dataset is tiny.\n",
        "            image_path = os.path.join(dataset_dir, a['filename'])\n",
        "            image = skimage.io.imread(image_path)\n",
        "            height, width = image.shape[:2]\n",
        "            self.add_image(\n",
        "                \"tumor\",\n",
        "                image_id=a['filename'],  # use file name as a unique image id\n",
        "                path=image_path,\n",
        "                width=width, \n",
        "                height=height,\n",
        "                polygons=polygons\n",
        "            )\n",
        "  \n",
        "  def load_mask(self, image_id):\n",
        "        \"\"\"Generate instance masks for an image.\n",
        "       Returns:\n",
        "        masks: A bool array of shape [height, width, instance count] with\n",
        "            one mask per instance.\n",
        "        class_ids: a 1D array of class IDs of the instance masks.\n",
        "        \"\"\"\n",
        "        # If not a farm_cow dataset image, delegate to parent class.\n",
        "        image_info = self.image_info[image_id]\n",
        "        if image_info[\"source\"] != \"tumor\":\n",
        "            return super(self.__class__, self).load_mask(image_id)# Convert polygons to a bitmap mask of shape\n",
        "        # [height, width, instance_count]\n",
        "        info = self.image_info[image_id]\n",
        "        mask = np.zeros([info[\"height\"], info[\"width\"], len(info[\"polygons\"])],\n",
        "                        dtype=np.uint8)\n",
        "        for i, p in enumerate(info[\"polygons\"]):\n",
        "            # Get indexes of pixels inside the polygon and set them to 1\n",
        "            rr, cc = skimage.draw.polygon(p['all_points_y'], p['all_points_x'])\n",
        "            mask[rr, cc, i] = 1# Return mask, and array of class IDs of each instance. Since we have\n",
        "        # one class ID only, we return an array of 1s\n",
        "        return mask.astype(np.bool), np.ones([mask.shape[-1]], dtype=np.int32)\n",
        "  \n",
        "  def image_reference(self, image_id):\n",
        "        \"\"\"Return the path of the image.\"\"\"\n",
        "        info = self.image_info[image_id]\n",
        "        if info[\"source\"] == \"tumor\":\n",
        "            return info[\"path\"]\n",
        "        else:\n",
        "            super(self.__class__, self).image_reference(image_id)"
      ],
      "execution_count": null,
      "outputs": [
        {
          "output_type": "error",
          "ename": "AttributeError",
          "evalue": "ignored",
          "traceback": [
            "\u001b[0;31m---------------------------------------------------------------------------\u001b[0m",
            "\u001b[0;31mAttributeError\u001b[0m                            Traceback (most recent call last)",
            "\u001b[0;32m<ipython-input-20-63051f88b8f8>\u001b[0m in \u001b[0;36m<module>\u001b[0;34m()\u001b[0m\n\u001b[0;32m----> 1\u001b[0;31m \u001b[0;32mclass\u001b[0m \u001b[0mBrainScanDataset\u001b[0m\u001b[0;34m(\u001b[0m\u001b[0mtf\u001b[0m\u001b[0;34m.\u001b[0m\u001b[0mutils\u001b[0m\u001b[0;34m.\u001b[0m\u001b[0mDataset\u001b[0m\u001b[0;34m)\u001b[0m\u001b[0;34m:\u001b[0m\u001b[0;34m\u001b[0m\u001b[0;34m\u001b[0m\u001b[0m\n\u001b[0m\u001b[1;32m      2\u001b[0m   \u001b[0;32mdef\u001b[0m \u001b[0mload_brain_scan\u001b[0m\u001b[0;34m(\u001b[0m\u001b[0mself\u001b[0m\u001b[0;34m,\u001b[0m \u001b[0mdataset_dir\u001b[0m\u001b[0;34m,\u001b[0m \u001b[0msubset\u001b[0m\u001b[0;34m)\u001b[0m\u001b[0;34m:\u001b[0m\u001b[0;34m\u001b[0m\u001b[0;34m\u001b[0m\u001b[0m\n\u001b[1;32m      3\u001b[0m         \"\"\"Load a subset of the Brain Scan dataset.\n\u001b[1;32m      4\u001b[0m         \u001b[0mdataset_dir\u001b[0m\u001b[0;34m:\u001b[0m \u001b[0mRoot\u001b[0m \u001b[0mdirectory\u001b[0m \u001b[0mof\u001b[0m \u001b[0mthe\u001b[0m \u001b[0mdataset\u001b[0m\u001b[0;34m.\u001b[0m\u001b[0;34m\u001b[0m\u001b[0;34m\u001b[0m\u001b[0m\n\u001b[1;32m      5\u001b[0m         \u001b[0msubset\u001b[0m\u001b[0;34m:\u001b[0m \u001b[0mSubset\u001b[0m \u001b[0mto\u001b[0m \u001b[0mload\u001b[0m\u001b[0;34m:\u001b[0m \u001b[0mtrain\u001b[0m \u001b[0;32mor\u001b[0m \u001b[0mval\u001b[0m\u001b[0;34m\u001b[0m\u001b[0;34m\u001b[0m\u001b[0m\n",
            "\u001b[0;31mAttributeError\u001b[0m: module 'tensorflow' has no attribute 'utils'"
          ]
        }
      ]
    }
  ]
}